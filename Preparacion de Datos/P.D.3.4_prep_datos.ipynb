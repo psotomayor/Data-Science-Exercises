{
 "cells": [
  {
   "cell_type": "markdown",
   "metadata": {},
   "source": [
    "<img src=\"https://s3.amazonaws.com/datascienceheroes.com/EDV/360_banner_python.png\" width=\"400px\">\n",
    "\n",
    "\n",
    "# Escuela de Datos Vivos \n",
    "\n",
    "## LAB P.D.3.4: Preparación de datos (el comienzo!)\n",
    "\n",
    "Creado por Pablo Casas | https://escueladedatosvivos.ai   "
   ]
  },
  {
   "cell_type": "code",
   "execution_count": 1,
   "metadata": {},
   "outputs": [],
   "source": [
    "# Librerías que utilizaremos\n",
    "\n",
    "import pandas as pd\n",
    "import seaborn as sns\n",
    "import numpy as np\n",
    "import matplotlib.pyplot as plt\n",
    "from pandas_profiling import ProfileReport\n",
    "from funpymodeling.exploratory import freq_tbl, status, profiling_num, corr_pair, num_vars, cat_vars\n",
    "\n",
    "%matplotlib inline"
   ]
  },
  {
   "cell_type": "markdown",
   "metadata": {},
   "source": [
    "## Ejercicios"
   ]
  },
  {
   "cell_type": "markdown",
   "metadata": {},
   "source": [
    "1) Pasar el dataset `tips` de seaborn a categórico (ahora si se puede, por ejemplo, calcular las correlaciones entre todas las variables)"
   ]
  },
  {
   "cell_type": "markdown",
   "metadata": {},
   "source": [
    "2) El dataset `data/diabetes.csv` tiene muchas variables con nulos. Imputar por la mediana cada variable numérica."
   ]
  },
  {
   "cell_type": "markdown",
   "metadata": {},
   "source": [
    "## Solución"
   ]
  },
  {
   "cell_type": "markdown",
   "metadata": {},
   "source": [
    "#### 1) Carga de datos"
   ]
  },
  {
   "cell_type": "code",
   "execution_count": 2,
   "metadata": {},
   "outputs": [
    {
     "name": "stdout",
     "output_type": "stream",
     "text": [
      "Cantidad de registros: 244\n",
      "Cantidad de variables: 7\n"
     ]
    }
   ],
   "source": [
    "tips = sns.load_dataset(\"tips\")                          # Dataset de propinas registradas por meseros durante algunos meses\n",
    "\n",
    "print(f\"Cantidad de registros: {tips.shape[0]}\")\n",
    "print(f\"Cantidad de variables: {tips.shape[1]}\")"
   ]
  },
  {
   "cell_type": "markdown",
   "metadata": {},
   "source": [
    "Inspeccionamos los datos tomando una muestra aleatoria de ellos."
   ]
  },
  {
   "cell_type": "code",
   "execution_count": 3,
   "metadata": {},
   "outputs": [
    {
     "data": {
      "text/html": [
       "<div>\n",
       "<style scoped>\n",
       "    .dataframe tbody tr th:only-of-type {\n",
       "        vertical-align: middle;\n",
       "    }\n",
       "\n",
       "    .dataframe tbody tr th {\n",
       "        vertical-align: top;\n",
       "    }\n",
       "\n",
       "    .dataframe thead th {\n",
       "        text-align: right;\n",
       "    }\n",
       "</style>\n",
       "<table border=\"1\" class=\"dataframe\">\n",
       "  <thead>\n",
       "    <tr style=\"text-align: right;\">\n",
       "      <th></th>\n",
       "      <th>total_bill</th>\n",
       "      <th>tip</th>\n",
       "      <th>sex</th>\n",
       "      <th>smoker</th>\n",
       "      <th>day</th>\n",
       "      <th>time</th>\n",
       "      <th>size</th>\n",
       "    </tr>\n",
       "  </thead>\n",
       "  <tbody>\n",
       "    <tr>\n",
       "      <th>66</th>\n",
       "      <td>16.45</td>\n",
       "      <td>2.47</td>\n",
       "      <td>Female</td>\n",
       "      <td>No</td>\n",
       "      <td>Sat</td>\n",
       "      <td>Dinner</td>\n",
       "      <td>2</td>\n",
       "    </tr>\n",
       "    <tr>\n",
       "      <th>89</th>\n",
       "      <td>21.16</td>\n",
       "      <td>3.00</td>\n",
       "      <td>Male</td>\n",
       "      <td>No</td>\n",
       "      <td>Thur</td>\n",
       "      <td>Lunch</td>\n",
       "      <td>2</td>\n",
       "    </tr>\n",
       "    <tr>\n",
       "      <th>100</th>\n",
       "      <td>11.35</td>\n",
       "      <td>2.50</td>\n",
       "      <td>Female</td>\n",
       "      <td>Yes</td>\n",
       "      <td>Fri</td>\n",
       "      <td>Dinner</td>\n",
       "      <td>2</td>\n",
       "    </tr>\n",
       "    <tr>\n",
       "      <th>53</th>\n",
       "      <td>9.94</td>\n",
       "      <td>1.56</td>\n",
       "      <td>Male</td>\n",
       "      <td>No</td>\n",
       "      <td>Sun</td>\n",
       "      <td>Dinner</td>\n",
       "      <td>2</td>\n",
       "    </tr>\n",
       "    <tr>\n",
       "      <th>116</th>\n",
       "      <td>29.93</td>\n",
       "      <td>5.07</td>\n",
       "      <td>Male</td>\n",
       "      <td>No</td>\n",
       "      <td>Sun</td>\n",
       "      <td>Dinner</td>\n",
       "      <td>4</td>\n",
       "    </tr>\n",
       "  </tbody>\n",
       "</table>\n",
       "</div>"
      ],
      "text/plain": [
       "     total_bill   tip     sex smoker   day    time  size\n",
       "66        16.45  2.47  Female     No   Sat  Dinner     2\n",
       "89        21.16  3.00    Male     No  Thur   Lunch     2\n",
       "100       11.35  2.50  Female    Yes   Fri  Dinner     2\n",
       "53         9.94  1.56    Male     No   Sun  Dinner     2\n",
       "116       29.93  5.07    Male     No   Sun  Dinner     4"
      ]
     },
     "execution_count": 3,
     "metadata": {},
     "output_type": "execute_result"
    }
   ],
   "source": [
    "tips.sample(5)"
   ]
  },
  {
   "cell_type": "markdown",
   "metadata": {},
   "source": [
    "Revisamos el estado de los datos"
   ]
  },
  {
   "cell_type": "code",
   "execution_count": 4,
   "metadata": {},
   "outputs": [
    {
     "data": {
      "text/html": [
       "<div>\n",
       "<style scoped>\n",
       "    .dataframe tbody tr th:only-of-type {\n",
       "        vertical-align: middle;\n",
       "    }\n",
       "\n",
       "    .dataframe tbody tr th {\n",
       "        vertical-align: top;\n",
       "    }\n",
       "\n",
       "    .dataframe thead th {\n",
       "        text-align: right;\n",
       "    }\n",
       "</style>\n",
       "<table border=\"1\" class=\"dataframe\">\n",
       "  <thead>\n",
       "    <tr style=\"text-align: right;\">\n",
       "      <th></th>\n",
       "      <th>variable</th>\n",
       "      <th>q_nan</th>\n",
       "      <th>p_nan</th>\n",
       "      <th>q_zeros</th>\n",
       "      <th>p_zeros</th>\n",
       "      <th>unique</th>\n",
       "      <th>type</th>\n",
       "    </tr>\n",
       "  </thead>\n",
       "  <tbody>\n",
       "    <tr>\n",
       "      <th>6</th>\n",
       "      <td>size</td>\n",
       "      <td>0</td>\n",
       "      <td>0.0</td>\n",
       "      <td>0</td>\n",
       "      <td>0.0</td>\n",
       "      <td>6</td>\n",
       "      <td>int64</td>\n",
       "    </tr>\n",
       "    <tr>\n",
       "      <th>0</th>\n",
       "      <td>total_bill</td>\n",
       "      <td>0</td>\n",
       "      <td>0.0</td>\n",
       "      <td>0</td>\n",
       "      <td>0.0</td>\n",
       "      <td>229</td>\n",
       "      <td>float64</td>\n",
       "    </tr>\n",
       "    <tr>\n",
       "      <th>1</th>\n",
       "      <td>tip</td>\n",
       "      <td>0</td>\n",
       "      <td>0.0</td>\n",
       "      <td>0</td>\n",
       "      <td>0.0</td>\n",
       "      <td>123</td>\n",
       "      <td>float64</td>\n",
       "    </tr>\n",
       "    <tr>\n",
       "      <th>4</th>\n",
       "      <td>day</td>\n",
       "      <td>0</td>\n",
       "      <td>0.0</td>\n",
       "      <td>0</td>\n",
       "      <td>0.0</td>\n",
       "      <td>4</td>\n",
       "      <td>category</td>\n",
       "    </tr>\n",
       "    <tr>\n",
       "      <th>2</th>\n",
       "      <td>sex</td>\n",
       "      <td>0</td>\n",
       "      <td>0.0</td>\n",
       "      <td>0</td>\n",
       "      <td>0.0</td>\n",
       "      <td>2</td>\n",
       "      <td>category</td>\n",
       "    </tr>\n",
       "    <tr>\n",
       "      <th>3</th>\n",
       "      <td>smoker</td>\n",
       "      <td>0</td>\n",
       "      <td>0.0</td>\n",
       "      <td>0</td>\n",
       "      <td>0.0</td>\n",
       "      <td>2</td>\n",
       "      <td>category</td>\n",
       "    </tr>\n",
       "    <tr>\n",
       "      <th>5</th>\n",
       "      <td>time</td>\n",
       "      <td>0</td>\n",
       "      <td>0.0</td>\n",
       "      <td>0</td>\n",
       "      <td>0.0</td>\n",
       "      <td>2</td>\n",
       "      <td>category</td>\n",
       "    </tr>\n",
       "  </tbody>\n",
       "</table>\n",
       "</div>"
      ],
      "text/plain": [
       "     variable  q_nan  p_nan  q_zeros  p_zeros  unique      type\n",
       "6        size      0    0.0        0      0.0       6     int64\n",
       "0  total_bill      0    0.0        0      0.0     229   float64\n",
       "1         tip      0    0.0        0      0.0     123   float64\n",
       "4         day      0    0.0        0      0.0       4  category\n",
       "2         sex      0    0.0        0      0.0       2  category\n",
       "3      smoker      0    0.0        0      0.0       2  category\n",
       "5        time      0    0.0        0      0.0       2  category"
      ]
     },
     "execution_count": 4,
     "metadata": {},
     "output_type": "execute_result"
    }
   ],
   "source": [
    "status(tips).sort_values(by=[\"type\", \"unique\"], ascending=False)"
   ]
  },
  {
   "cell_type": "markdown",
   "metadata": {},
   "source": [
    "Tenemos 4 variables categóricas y 3 numéricas. No tenemos valores nulos ni ceros para ninguna variable. Además, la variable \"size\" está mal declarada. Esta variable se refiere al número de personas en un grupo individual."
   ]
  },
  {
   "cell_type": "markdown",
   "metadata": {},
   "source": [
    "Convertimos la variable \"size\" a categórica."
   ]
  },
  {
   "cell_type": "code",
   "execution_count": 5,
   "metadata": {},
   "outputs": [
    {
     "data": {
      "text/html": [
       "<div>\n",
       "<style scoped>\n",
       "    .dataframe tbody tr th:only-of-type {\n",
       "        vertical-align: middle;\n",
       "    }\n",
       "\n",
       "    .dataframe tbody tr th {\n",
       "        vertical-align: top;\n",
       "    }\n",
       "\n",
       "    .dataframe thead th {\n",
       "        text-align: right;\n",
       "    }\n",
       "</style>\n",
       "<table border=\"1\" class=\"dataframe\">\n",
       "  <thead>\n",
       "    <tr style=\"text-align: right;\">\n",
       "      <th></th>\n",
       "      <th>variable</th>\n",
       "      <th>q_nan</th>\n",
       "      <th>p_nan</th>\n",
       "      <th>q_zeros</th>\n",
       "      <th>p_zeros</th>\n",
       "      <th>unique</th>\n",
       "      <th>type</th>\n",
       "    </tr>\n",
       "  </thead>\n",
       "  <tbody>\n",
       "    <tr>\n",
       "      <th>0</th>\n",
       "      <td>total_bill</td>\n",
       "      <td>0</td>\n",
       "      <td>0.0</td>\n",
       "      <td>0</td>\n",
       "      <td>0.0</td>\n",
       "      <td>229</td>\n",
       "      <td>float64</td>\n",
       "    </tr>\n",
       "    <tr>\n",
       "      <th>1</th>\n",
       "      <td>tip</td>\n",
       "      <td>0</td>\n",
       "      <td>0.0</td>\n",
       "      <td>0</td>\n",
       "      <td>0.0</td>\n",
       "      <td>123</td>\n",
       "      <td>float64</td>\n",
       "    </tr>\n",
       "    <tr>\n",
       "      <th>2</th>\n",
       "      <td>sex</td>\n",
       "      <td>0</td>\n",
       "      <td>0.0</td>\n",
       "      <td>0</td>\n",
       "      <td>0.0</td>\n",
       "      <td>2</td>\n",
       "      <td>category</td>\n",
       "    </tr>\n",
       "    <tr>\n",
       "      <th>3</th>\n",
       "      <td>smoker</td>\n",
       "      <td>0</td>\n",
       "      <td>0.0</td>\n",
       "      <td>0</td>\n",
       "      <td>0.0</td>\n",
       "      <td>2</td>\n",
       "      <td>category</td>\n",
       "    </tr>\n",
       "    <tr>\n",
       "      <th>4</th>\n",
       "      <td>day</td>\n",
       "      <td>0</td>\n",
       "      <td>0.0</td>\n",
       "      <td>0</td>\n",
       "      <td>0.0</td>\n",
       "      <td>4</td>\n",
       "      <td>category</td>\n",
       "    </tr>\n",
       "    <tr>\n",
       "      <th>5</th>\n",
       "      <td>time</td>\n",
       "      <td>0</td>\n",
       "      <td>0.0</td>\n",
       "      <td>0</td>\n",
       "      <td>0.0</td>\n",
       "      <td>2</td>\n",
       "      <td>category</td>\n",
       "    </tr>\n",
       "    <tr>\n",
       "      <th>6</th>\n",
       "      <td>size</td>\n",
       "      <td>0</td>\n",
       "      <td>0.0</td>\n",
       "      <td>0</td>\n",
       "      <td>0.0</td>\n",
       "      <td>6</td>\n",
       "      <td>object</td>\n",
       "    </tr>\n",
       "  </tbody>\n",
       "</table>\n",
       "</div>"
      ],
      "text/plain": [
       "     variable  q_nan  p_nan  q_zeros  p_zeros  unique      type\n",
       "0  total_bill      0    0.0        0      0.0     229   float64\n",
       "1         tip      0    0.0        0      0.0     123   float64\n",
       "2         sex      0    0.0        0      0.0       2  category\n",
       "3      smoker      0    0.0        0      0.0       2  category\n",
       "4         day      0    0.0        0      0.0       4  category\n",
       "5        time      0    0.0        0      0.0       2  category\n",
       "6        size      0    0.0        0      0.0       6    object"
      ]
     },
     "execution_count": 5,
     "metadata": {},
     "output_type": "execute_result"
    }
   ],
   "source": [
    "tips['size'] = tips['size'].astype(str)\n",
    "status(tips)"
   ]
  },
  {
   "cell_type": "markdown",
   "metadata": {},
   "source": [
    "Inspeccionamos la variable \"tip\", que en este caso es la variable a predecir."
   ]
  },
  {
   "cell_type": "code",
   "execution_count": 6,
   "metadata": {},
   "outputs": [
    {
     "data": {
      "text/html": [
       "<div>\n",
       "<style scoped>\n",
       "    .dataframe tbody tr th:only-of-type {\n",
       "        vertical-align: middle;\n",
       "    }\n",
       "\n",
       "    .dataframe tbody tr th {\n",
       "        vertical-align: top;\n",
       "    }\n",
       "\n",
       "    .dataframe thead th {\n",
       "        text-align: right;\n",
       "    }\n",
       "</style>\n",
       "<table border=\"1\" class=\"dataframe\">\n",
       "  <thead>\n",
       "    <tr style=\"text-align: right;\">\n",
       "      <th></th>\n",
       "      <th>variable</th>\n",
       "      <th>mean</th>\n",
       "      <th>std_dev</th>\n",
       "      <th>variation_coef</th>\n",
       "      <th>p_0.01</th>\n",
       "      <th>p_0.05</th>\n",
       "      <th>p_0.25</th>\n",
       "      <th>p_0.5</th>\n",
       "      <th>p_0.75</th>\n",
       "      <th>p_0.95</th>\n",
       "      <th>p_0.99</th>\n",
       "    </tr>\n",
       "  </thead>\n",
       "  <tbody>\n",
       "    <tr>\n",
       "      <th>0</th>\n",
       "      <td>tip</td>\n",
       "      <td>2.998279</td>\n",
       "      <td>1.383638</td>\n",
       "      <td>0.461478</td>\n",
       "      <td>1.0</td>\n",
       "      <td>1.44</td>\n",
       "      <td>2.0</td>\n",
       "      <td>2.9</td>\n",
       "      <td>3.5625</td>\n",
       "      <td>5.1955</td>\n",
       "      <td>7.2145</td>\n",
       "    </tr>\n",
       "  </tbody>\n",
       "</table>\n",
       "</div>"
      ],
      "text/plain": [
       "  variable      mean   std_dev  variation_coef  p_0.01  p_0.05  p_0.25  p_0.5  \\\n",
       "0      tip  2.998279  1.383638        0.461478     1.0    1.44     2.0    2.9   \n",
       "\n",
       "   p_0.75  p_0.95  p_0.99  \n",
       "0  3.5625  5.1955  7.2145  "
      ]
     },
     "execution_count": 6,
     "metadata": {},
     "output_type": "execute_result"
    }
   ],
   "source": [
    "profiling_num(tips['tip'])"
   ]
  },
  {
   "cell_type": "code",
   "execution_count": 7,
   "metadata": {},
   "outputs": [
    {
     "data": {
      "text/plain": [
       "count    244.000000\n",
       "mean       2.998279\n",
       "std        1.383638\n",
       "min        1.000000\n",
       "25%        2.000000\n",
       "50%        2.900000\n",
       "75%        3.562500\n",
       "max       10.000000\n",
       "Name: tip, dtype: float64"
      ]
     },
     "execution_count": 7,
     "metadata": {},
     "output_type": "execute_result"
    }
   ],
   "source": [
    "tips['tip'].describe()"
   ]
  },
  {
   "cell_type": "markdown",
   "metadata": {},
   "source": [
    "Vemos que las propinas recibidas toman valores entre 1 y 10, con valor medio de 3."
   ]
  },
  {
   "cell_type": "markdown",
   "metadata": {},
   "source": [
    "Ahora convertimos las variables numéricas \"total_bill\" y \"tip\" a categóricas a través del proceso de discretización con igual frecuencia en los datos."
   ]
  },
  {
   "cell_type": "code",
   "execution_count": 8,
   "metadata": {},
   "outputs": [
    {
     "data": {
      "text/plain": [
       "0      (16.222, 19.818]\n",
       "1       (3.069, 12.636]\n",
       "2      (19.818, 26.098]\n",
       "3      (19.818, 26.098]\n",
       "4      (19.818, 26.098]\n",
       "             ...       \n",
       "239     (26.098, 50.81]\n",
       "240     (26.098, 50.81]\n",
       "241    (19.818, 26.098]\n",
       "242    (16.222, 19.818]\n",
       "243    (16.222, 19.818]\n",
       "Name: total_bill_cat, Length: 244, dtype: category\n",
       "Categories (5, interval[float64]): [(3.069, 12.636] < (12.636, 16.222] < (16.222, 19.818] < (19.818, 26.098] < (26.098, 50.81]]"
      ]
     },
     "execution_count": 8,
     "metadata": {},
     "output_type": "execute_result"
    }
   ],
   "source": [
    "tips['total_bill_cat'], bins = pd.qcut(tips['total_bill'], q=5, retbins=True)\n",
    "tips['total_bill_cat']"
   ]
  },
  {
   "cell_type": "markdown",
   "metadata": {},
   "source": [
    "Revisamos el estado de los datos"
   ]
  },
  {
   "cell_type": "code",
   "execution_count": 9,
   "metadata": {},
   "outputs": [
    {
     "data": {
      "text/html": [
       "<div>\n",
       "<style scoped>\n",
       "    .dataframe tbody tr th:only-of-type {\n",
       "        vertical-align: middle;\n",
       "    }\n",
       "\n",
       "    .dataframe tbody tr th {\n",
       "        vertical-align: top;\n",
       "    }\n",
       "\n",
       "    .dataframe thead th {\n",
       "        text-align: right;\n",
       "    }\n",
       "</style>\n",
       "<table border=\"1\" class=\"dataframe\">\n",
       "  <thead>\n",
       "    <tr style=\"text-align: right;\">\n",
       "      <th></th>\n",
       "      <th>variable</th>\n",
       "      <th>q_nan</th>\n",
       "      <th>p_nan</th>\n",
       "      <th>q_zeros</th>\n",
       "      <th>p_zeros</th>\n",
       "      <th>unique</th>\n",
       "      <th>type</th>\n",
       "    </tr>\n",
       "  </thead>\n",
       "  <tbody>\n",
       "    <tr>\n",
       "      <th>0</th>\n",
       "      <td>total_bill</td>\n",
       "      <td>0</td>\n",
       "      <td>0.0</td>\n",
       "      <td>0</td>\n",
       "      <td>0.0</td>\n",
       "      <td>229</td>\n",
       "      <td>float64</td>\n",
       "    </tr>\n",
       "    <tr>\n",
       "      <th>1</th>\n",
       "      <td>tip</td>\n",
       "      <td>0</td>\n",
       "      <td>0.0</td>\n",
       "      <td>0</td>\n",
       "      <td>0.0</td>\n",
       "      <td>123</td>\n",
       "      <td>float64</td>\n",
       "    </tr>\n",
       "    <tr>\n",
       "      <th>2</th>\n",
       "      <td>sex</td>\n",
       "      <td>0</td>\n",
       "      <td>0.0</td>\n",
       "      <td>0</td>\n",
       "      <td>0.0</td>\n",
       "      <td>2</td>\n",
       "      <td>category</td>\n",
       "    </tr>\n",
       "    <tr>\n",
       "      <th>3</th>\n",
       "      <td>smoker</td>\n",
       "      <td>0</td>\n",
       "      <td>0.0</td>\n",
       "      <td>0</td>\n",
       "      <td>0.0</td>\n",
       "      <td>2</td>\n",
       "      <td>category</td>\n",
       "    </tr>\n",
       "    <tr>\n",
       "      <th>4</th>\n",
       "      <td>day</td>\n",
       "      <td>0</td>\n",
       "      <td>0.0</td>\n",
       "      <td>0</td>\n",
       "      <td>0.0</td>\n",
       "      <td>4</td>\n",
       "      <td>category</td>\n",
       "    </tr>\n",
       "    <tr>\n",
       "      <th>5</th>\n",
       "      <td>time</td>\n",
       "      <td>0</td>\n",
       "      <td>0.0</td>\n",
       "      <td>0</td>\n",
       "      <td>0.0</td>\n",
       "      <td>2</td>\n",
       "      <td>category</td>\n",
       "    </tr>\n",
       "    <tr>\n",
       "      <th>6</th>\n",
       "      <td>size</td>\n",
       "      <td>0</td>\n",
       "      <td>0.0</td>\n",
       "      <td>0</td>\n",
       "      <td>0.0</td>\n",
       "      <td>6</td>\n",
       "      <td>object</td>\n",
       "    </tr>\n",
       "    <tr>\n",
       "      <th>7</th>\n",
       "      <td>total_bill_cat</td>\n",
       "      <td>0</td>\n",
       "      <td>0.0</td>\n",
       "      <td>0</td>\n",
       "      <td>0.0</td>\n",
       "      <td>5</td>\n",
       "      <td>category</td>\n",
       "    </tr>\n",
       "  </tbody>\n",
       "</table>\n",
       "</div>"
      ],
      "text/plain": [
       "         variable  q_nan  p_nan  q_zeros  p_zeros  unique      type\n",
       "0      total_bill      0    0.0        0      0.0     229   float64\n",
       "1             tip      0    0.0        0      0.0     123   float64\n",
       "2             sex      0    0.0        0      0.0       2  category\n",
       "3          smoker      0    0.0        0      0.0       2  category\n",
       "4             day      0    0.0        0      0.0       4  category\n",
       "5            time      0    0.0        0      0.0       2  category\n",
       "6            size      0    0.0        0      0.0       6    object\n",
       "7  total_bill_cat      0    0.0        0      0.0       5  category"
      ]
     },
     "execution_count": 9,
     "metadata": {},
     "output_type": "execute_result"
    }
   ],
   "source": [
    "status(tips)"
   ]
  },
  {
   "cell_type": "markdown",
   "metadata": {},
   "source": [
    "Eliminamos la variable \"total_bill\" pues ya la tenemos guardada en su forma categórica."
   ]
  },
  {
   "cell_type": "code",
   "execution_count": 10,
   "metadata": {},
   "outputs": [],
   "source": [
    "tips = tips.drop(['total_bill'], axis=1)"
   ]
  },
  {
   "cell_type": "markdown",
   "metadata": {},
   "source": [
    "Repetimos para la variable \"tip\", esta vez con 2 categorías dado que no hay mucha dispersión entre los valores (categoría de propina baja, y propina alta)."
   ]
  },
  {
   "cell_type": "code",
   "execution_count": 11,
   "metadata": {},
   "outputs": [],
   "source": [
    "tips['tip_cat'], saved_bins = pd.qcut(tips['tip'], q=2, retbins=True)\n",
    "tips = tips.drop(['tip'], axis=1)"
   ]
  },
  {
   "cell_type": "code",
   "execution_count": 12,
   "metadata": {},
   "outputs": [
    {
     "data": {
      "text/html": [
       "<div>\n",
       "<style scoped>\n",
       "    .dataframe tbody tr th:only-of-type {\n",
       "        vertical-align: middle;\n",
       "    }\n",
       "\n",
       "    .dataframe tbody tr th {\n",
       "        vertical-align: top;\n",
       "    }\n",
       "\n",
       "    .dataframe thead th {\n",
       "        text-align: right;\n",
       "    }\n",
       "</style>\n",
       "<table border=\"1\" class=\"dataframe\">\n",
       "  <thead>\n",
       "    <tr style=\"text-align: right;\">\n",
       "      <th></th>\n",
       "      <th>variable</th>\n",
       "      <th>q_nan</th>\n",
       "      <th>p_nan</th>\n",
       "      <th>q_zeros</th>\n",
       "      <th>p_zeros</th>\n",
       "      <th>unique</th>\n",
       "      <th>type</th>\n",
       "    </tr>\n",
       "  </thead>\n",
       "  <tbody>\n",
       "    <tr>\n",
       "      <th>0</th>\n",
       "      <td>sex</td>\n",
       "      <td>0</td>\n",
       "      <td>0.0</td>\n",
       "      <td>0</td>\n",
       "      <td>0.0</td>\n",
       "      <td>2</td>\n",
       "      <td>category</td>\n",
       "    </tr>\n",
       "    <tr>\n",
       "      <th>1</th>\n",
       "      <td>smoker</td>\n",
       "      <td>0</td>\n",
       "      <td>0.0</td>\n",
       "      <td>0</td>\n",
       "      <td>0.0</td>\n",
       "      <td>2</td>\n",
       "      <td>category</td>\n",
       "    </tr>\n",
       "    <tr>\n",
       "      <th>2</th>\n",
       "      <td>day</td>\n",
       "      <td>0</td>\n",
       "      <td>0.0</td>\n",
       "      <td>0</td>\n",
       "      <td>0.0</td>\n",
       "      <td>4</td>\n",
       "      <td>category</td>\n",
       "    </tr>\n",
       "    <tr>\n",
       "      <th>3</th>\n",
       "      <td>time</td>\n",
       "      <td>0</td>\n",
       "      <td>0.0</td>\n",
       "      <td>0</td>\n",
       "      <td>0.0</td>\n",
       "      <td>2</td>\n",
       "      <td>category</td>\n",
       "    </tr>\n",
       "    <tr>\n",
       "      <th>4</th>\n",
       "      <td>size</td>\n",
       "      <td>0</td>\n",
       "      <td>0.0</td>\n",
       "      <td>0</td>\n",
       "      <td>0.0</td>\n",
       "      <td>6</td>\n",
       "      <td>object</td>\n",
       "    </tr>\n",
       "    <tr>\n",
       "      <th>5</th>\n",
       "      <td>total_bill_cat</td>\n",
       "      <td>0</td>\n",
       "      <td>0.0</td>\n",
       "      <td>0</td>\n",
       "      <td>0.0</td>\n",
       "      <td>5</td>\n",
       "      <td>category</td>\n",
       "    </tr>\n",
       "    <tr>\n",
       "      <th>6</th>\n",
       "      <td>tip_cat</td>\n",
       "      <td>0</td>\n",
       "      <td>0.0</td>\n",
       "      <td>0</td>\n",
       "      <td>0.0</td>\n",
       "      <td>2</td>\n",
       "      <td>category</td>\n",
       "    </tr>\n",
       "  </tbody>\n",
       "</table>\n",
       "</div>"
      ],
      "text/plain": [
       "         variable  q_nan  p_nan  q_zeros  p_zeros  unique      type\n",
       "0             sex      0    0.0        0      0.0       2  category\n",
       "1          smoker      0    0.0        0      0.0       2  category\n",
       "2             day      0    0.0        0      0.0       4  category\n",
       "3            time      0    0.0        0      0.0       2  category\n",
       "4            size      0    0.0        0      0.0       6    object\n",
       "5  total_bill_cat      0    0.0        0      0.0       5  category\n",
       "6         tip_cat      0    0.0        0      0.0       2  category"
      ]
     },
     "execution_count": 12,
     "metadata": {},
     "output_type": "execute_result"
    }
   ],
   "source": [
    "status(tips)"
   ]
  },
  {
   "cell_type": "markdown",
   "metadata": {},
   "source": [
    "Ahora tenemos todas las variables como tipo categórico. El procedimiento empleado puede resumirse como:\n",
    "\n",
    "- Las variables categóricas que están mal declaradas como numéricas fueron transformadas con el método astype(str).\n",
    "- Las variables numéricas fueron transformadas a categóricas a través de discretización con 5 bins."
   ]
  },
  {
   "cell_type": "markdown",
   "metadata": {},
   "source": [
    "Calculamos ahora la correlación entre las variables, para lo cual debemos primero transformar las variables a numéricas utilizando el método de one-hot encoding"
   ]
  },
  {
   "cell_type": "code",
   "execution_count": 13,
   "metadata": {},
   "outputs": [],
   "source": [
    "tips_sin_red = pd.get_dummies(tips, dummy_na=True, drop_first=True)\n",
    "\n",
    "vars_to_drop = status(tips_sin_red).query(\"unique==1\")['variable']\n",
    "\n",
    "tips_final = tips_sin_red.drop(vars_to_drop, axis=1)"
   ]
  },
  {
   "cell_type": "markdown",
   "metadata": {},
   "source": [
    "Inspeccionamos el dataset con las variables convertidas a numéricas"
   ]
  },
  {
   "cell_type": "code",
   "execution_count": 14,
   "metadata": {},
   "outputs": [
    {
     "data": {
      "text/html": [
       "<div>\n",
       "<style scoped>\n",
       "    .dataframe tbody tr th:only-of-type {\n",
       "        vertical-align: middle;\n",
       "    }\n",
       "\n",
       "    .dataframe tbody tr th {\n",
       "        vertical-align: top;\n",
       "    }\n",
       "\n",
       "    .dataframe thead th {\n",
       "        text-align: right;\n",
       "    }\n",
       "</style>\n",
       "<table border=\"1\" class=\"dataframe\">\n",
       "  <thead>\n",
       "    <tr style=\"text-align: right;\">\n",
       "      <th></th>\n",
       "      <th>sex_Female</th>\n",
       "      <th>smoker_No</th>\n",
       "      <th>day_Fri</th>\n",
       "      <th>day_Sat</th>\n",
       "      <th>day_Sun</th>\n",
       "      <th>time_Dinner</th>\n",
       "      <th>size_2</th>\n",
       "      <th>size_3</th>\n",
       "      <th>size_4</th>\n",
       "      <th>size_5</th>\n",
       "      <th>size_6</th>\n",
       "      <th>total_bill_cat_(12.636, 16.222]</th>\n",
       "      <th>total_bill_cat_(16.222, 19.818]</th>\n",
       "      <th>total_bill_cat_(19.818, 26.098]</th>\n",
       "      <th>total_bill_cat_(26.098, 50.81]</th>\n",
       "      <th>tip_cat_(2.9, 10.0]</th>\n",
       "    </tr>\n",
       "  </thead>\n",
       "  <tbody>\n",
       "    <tr>\n",
       "      <th>84</th>\n",
       "      <td>0</td>\n",
       "      <td>1</td>\n",
       "      <td>0</td>\n",
       "      <td>0</td>\n",
       "      <td>0</td>\n",
       "      <td>0</td>\n",
       "      <td>1</td>\n",
       "      <td>0</td>\n",
       "      <td>0</td>\n",
       "      <td>0</td>\n",
       "      <td>0</td>\n",
       "      <td>1</td>\n",
       "      <td>0</td>\n",
       "      <td>0</td>\n",
       "      <td>0</td>\n",
       "      <td>0</td>\n",
       "    </tr>\n",
       "    <tr>\n",
       "      <th>131</th>\n",
       "      <td>1</td>\n",
       "      <td>1</td>\n",
       "      <td>0</td>\n",
       "      <td>0</td>\n",
       "      <td>0</td>\n",
       "      <td>0</td>\n",
       "      <td>1</td>\n",
       "      <td>0</td>\n",
       "      <td>0</td>\n",
       "      <td>0</td>\n",
       "      <td>0</td>\n",
       "      <td>0</td>\n",
       "      <td>0</td>\n",
       "      <td>1</td>\n",
       "      <td>0</td>\n",
       "      <td>0</td>\n",
       "    </tr>\n",
       "    <tr>\n",
       "      <th>129</th>\n",
       "      <td>0</td>\n",
       "      <td>1</td>\n",
       "      <td>0</td>\n",
       "      <td>0</td>\n",
       "      <td>0</td>\n",
       "      <td>0</td>\n",
       "      <td>0</td>\n",
       "      <td>1</td>\n",
       "      <td>0</td>\n",
       "      <td>0</td>\n",
       "      <td>0</td>\n",
       "      <td>0</td>\n",
       "      <td>0</td>\n",
       "      <td>1</td>\n",
       "      <td>0</td>\n",
       "      <td>0</td>\n",
       "    </tr>\n",
       "    <tr>\n",
       "      <th>106</th>\n",
       "      <td>0</td>\n",
       "      <td>0</td>\n",
       "      <td>0</td>\n",
       "      <td>1</td>\n",
       "      <td>0</td>\n",
       "      <td>1</td>\n",
       "      <td>1</td>\n",
       "      <td>0</td>\n",
       "      <td>0</td>\n",
       "      <td>0</td>\n",
       "      <td>0</td>\n",
       "      <td>0</td>\n",
       "      <td>0</td>\n",
       "      <td>1</td>\n",
       "      <td>0</td>\n",
       "      <td>1</td>\n",
       "    </tr>\n",
       "    <tr>\n",
       "      <th>44</th>\n",
       "      <td>0</td>\n",
       "      <td>1</td>\n",
       "      <td>0</td>\n",
       "      <td>0</td>\n",
       "      <td>1</td>\n",
       "      <td>1</td>\n",
       "      <td>0</td>\n",
       "      <td>0</td>\n",
       "      <td>1</td>\n",
       "      <td>0</td>\n",
       "      <td>0</td>\n",
       "      <td>0</td>\n",
       "      <td>0</td>\n",
       "      <td>0</td>\n",
       "      <td>1</td>\n",
       "      <td>1</td>\n",
       "    </tr>\n",
       "  </tbody>\n",
       "</table>\n",
       "</div>"
      ],
      "text/plain": [
       "     sex_Female  smoker_No  day_Fri  day_Sat  day_Sun  time_Dinner  size_2  \\\n",
       "84            0          1        0        0        0            0       1   \n",
       "131           1          1        0        0        0            0       1   \n",
       "129           0          1        0        0        0            0       0   \n",
       "106           0          0        0        1        0            1       1   \n",
       "44            0          1        0        0        1            1       0   \n",
       "\n",
       "     size_3  size_4  size_5  size_6  total_bill_cat_(12.636, 16.222]  \\\n",
       "84        0       0       0       0                                1   \n",
       "131       0       0       0       0                                0   \n",
       "129       1       0       0       0                                0   \n",
       "106       0       0       0       0                                0   \n",
       "44        0       1       0       0                                0   \n",
       "\n",
       "     total_bill_cat_(16.222, 19.818]  total_bill_cat_(19.818, 26.098]  \\\n",
       "84                                 0                                0   \n",
       "131                                0                                1   \n",
       "129                                0                                1   \n",
       "106                                0                                1   \n",
       "44                                 0                                0   \n",
       "\n",
       "     total_bill_cat_(26.098, 50.81]  tip_cat_(2.9, 10.0]  \n",
       "84                                0                    0  \n",
       "131                               0                    0  \n",
       "129                               0                    0  \n",
       "106                               0                    1  \n",
       "44                                1                    1  "
      ]
     },
     "execution_count": 14,
     "metadata": {},
     "output_type": "execute_result"
    }
   ],
   "source": [
    "tips_final.sample(5)"
   ]
  },
  {
   "cell_type": "markdown",
   "metadata": {},
   "source": [
    "Calculamos la (anti-)correlación lineal (con la estadística r) de todas las variables con la variable \"tip_cat_(2.9, 10.0]\"."
   ]
  },
  {
   "cell_type": "code",
   "execution_count": 15,
   "metadata": {},
   "outputs": [
    {
     "data": {
      "text/plain": [
       "tip_cat_(2.9, 10.0]                1.000000\n",
       "total_bill_cat_(26.098, 50.81]     0.337597\n",
       "size_4                             0.262810\n",
       "total_bill_cat_(19.818, 26.098]    0.255755\n",
       "time_Dinner                        0.182818\n",
       "day_Sun                            0.159298\n",
       "size_3                             0.135630\n",
       "size_6                             0.129099\n",
       "total_bill_cat_(16.222, 19.818]    0.103098\n",
       "size_5                             0.086784\n",
       "day_Fri                            0.015294\n",
       "day_Sat                           -0.025669\n",
       "smoker_No                         -0.059070\n",
       "sex_Female                        -0.059895\n",
       "total_bill_cat_(12.636, 16.222]   -0.255755\n",
       "size_2                            -0.324325\n",
       "Name: tip_cat_(2.9, 10.0], dtype: float64"
      ]
     },
     "execution_count": 15,
     "metadata": {},
     "output_type": "execute_result"
    }
   ],
   "source": [
    "tips_final.corr(method=\"pearson\")[\"tip_cat_(2.9, 10.0]\"].sort_values(ascending=False)"
   ]
  },
  {
   "cell_type": "markdown",
   "metadata": {},
   "source": [
    "Seleccionamos las 5 variables que más se (anti-)correlación con la variable a predecir."
   ]
  },
  {
   "cell_type": "code",
   "execution_count": 16,
   "metadata": {},
   "outputs": [
    {
     "data": {
      "text/plain": [
       "Index(['tip_cat_(2.9, 10.0]', 'total_bill_cat_(26.098, 50.81]', 'size_2',\n",
       "       'size_4', 'total_bill_cat_(19.818, 26.098]',\n",
       "       'total_bill_cat_(12.636, 16.222]'],\n",
       "      dtype='object')"
      ]
     },
     "execution_count": 16,
     "metadata": {},
     "output_type": "execute_result"
    }
   ],
   "source": [
    "tips_final.corr(method=\"pearson\")[\"tip_cat_(2.9, 10.0]\"].sort_values(ascending=False, key=abs)[:6].index"
   ]
  },
  {
   "cell_type": "code",
   "execution_count": 17,
   "metadata": {},
   "outputs": [],
   "source": [
    "variables = tips_final.corr(method=\"pearson\")[\"tip_cat_(2.9, 10.0]\"].sort_values(ascending=False, key=abs)[:6].index\n",
    "tips_final_r = tips_final[variables]"
   ]
  },
  {
   "cell_type": "markdown",
   "metadata": {},
   "source": [
    "Graficamos la correlación entre estas variables y la variable a predecir"
   ]
  },
  {
   "cell_type": "code",
   "execution_count": 18,
   "metadata": {},
   "outputs": [
    {
     "data": {
      "image/png": "[encoded data removed]",
      "text/plain": [
       "<Figure size 864x576 with 2 Axes>"
      ]
     },
     "metadata": {
      "needs_background": "light"
     },
     "output_type": "display_data"
    }
   ],
   "source": [
    "df = tips_final_r.corr()\n",
    "new_index = df['tip_cat_(2.9, 10.0]'].sort_values(ascending=False, key=abs).index\n",
    "df = df.reindex(new_index)\n",
    "df = df.reindex(new_index, axis=1)\n",
    "\n",
    "plt.figure(figsize=(12,8))\n",
    "sns.heatmap(df, cmap=\"YlGnBu\")\n",
    "plt.show()"
   ]
  },
  {
   "cell_type": "markdown",
   "metadata": {},
   "source": [
    "Del grafico anterior concluimos (en orden del valor absoluto de la correlación, es decir en orden de importancia):\n",
    "\n",
    "- Si el total pagado por la cena está en el rango entre 26.1 y 50.8 es probable tener una propina alta.\n",
    "\n",
    "- Si la mesa es ocupada por 2 personas es improbable tener una propina alta.\n",
    "\n",
    "- Si la mesa es ocupada por 4 personas es probable tener una propina alta.\n",
    "\n",
    "- Si el total pagado por la cena está en el rango entre 12.6 y 16.2 es improbable tener una propina alta.\n",
    "\n",
    "- SI el total pagado por la cena está en el rango entre 19.8 y 26.1 es probable tener una propina alta."
   ]
  },
  {
   "cell_type": "markdown",
   "metadata": {},
   "source": [
    "### 2) Cargamos el dataset"
   ]
  },
  {
   "cell_type": "code",
   "execution_count": 19,
   "metadata": {},
   "outputs": [
    {
     "name": "stdout",
     "output_type": "stream",
     "text": [
      "Cantidad de registros: 768\n",
      "Cantidad de variables: 9\n"
     ]
    }
   ],
   "source": [
    "data = pd.read_csv(\"../data/diabetes.csv\", sep = \",\" )\n",
    "\n",
    "print(f\"Cantidad de registros: {data.shape[0]}\")\n",
    "print(f\"Cantidad de variables: {data.shape[1]}\")"
   ]
  },
  {
   "cell_type": "markdown",
   "metadata": {},
   "source": [
    "Hacemos una primera inspección de los datos eligiendo 5 registros al azar"
   ]
  },
  {
   "cell_type": "code",
   "execution_count": 20,
   "metadata": {},
   "outputs": [
    {
     "data": {
      "text/html": [
       "<div>\n",
       "<style scoped>\n",
       "    .dataframe tbody tr th:only-of-type {\n",
       "        vertical-align: middle;\n",
       "    }\n",
       "\n",
       "    .dataframe tbody tr th {\n",
       "        vertical-align: top;\n",
       "    }\n",
       "\n",
       "    .dataframe thead th {\n",
       "        text-align: right;\n",
       "    }\n",
       "</style>\n",
       "<table border=\"1\" class=\"dataframe\">\n",
       "  <thead>\n",
       "    <tr style=\"text-align: right;\">\n",
       "      <th></th>\n",
       "      <th>Pregnancies</th>\n",
       "      <th>Glucose</th>\n",
       "      <th>BloodPressure</th>\n",
       "      <th>SkinThickness</th>\n",
       "      <th>Insulin</th>\n",
       "      <th>BMI</th>\n",
       "      <th>DiabetesPedigreeFunction</th>\n",
       "      <th>Age</th>\n",
       "      <th>Outcome</th>\n",
       "    </tr>\n",
       "  </thead>\n",
       "  <tbody>\n",
       "    <tr>\n",
       "      <th>302</th>\n",
       "      <td>5</td>\n",
       "      <td>77</td>\n",
       "      <td>82</td>\n",
       "      <td>41</td>\n",
       "      <td>42</td>\n",
       "      <td>35.8</td>\n",
       "      <td>0.156</td>\n",
       "      <td>35</td>\n",
       "      <td>0</td>\n",
       "    </tr>\n",
       "    <tr>\n",
       "      <th>718</th>\n",
       "      <td>1</td>\n",
       "      <td>108</td>\n",
       "      <td>60</td>\n",
       "      <td>46</td>\n",
       "      <td>178</td>\n",
       "      <td>35.5</td>\n",
       "      <td>0.415</td>\n",
       "      <td>24</td>\n",
       "      <td>0</td>\n",
       "    </tr>\n",
       "    <tr>\n",
       "      <th>395</th>\n",
       "      <td>2</td>\n",
       "      <td>127</td>\n",
       "      <td>58</td>\n",
       "      <td>24</td>\n",
       "      <td>275</td>\n",
       "      <td>27.7</td>\n",
       "      <td>1.600</td>\n",
       "      <td>25</td>\n",
       "      <td>0</td>\n",
       "    </tr>\n",
       "    <tr>\n",
       "      <th>747</th>\n",
       "      <td>1</td>\n",
       "      <td>81</td>\n",
       "      <td>74</td>\n",
       "      <td>41</td>\n",
       "      <td>57</td>\n",
       "      <td>46.3</td>\n",
       "      <td>1.096</td>\n",
       "      <td>32</td>\n",
       "      <td>0</td>\n",
       "    </tr>\n",
       "    <tr>\n",
       "      <th>453</th>\n",
       "      <td>2</td>\n",
       "      <td>119</td>\n",
       "      <td>0</td>\n",
       "      <td>0</td>\n",
       "      <td>0</td>\n",
       "      <td>19.6</td>\n",
       "      <td>0.832</td>\n",
       "      <td>72</td>\n",
       "      <td>0</td>\n",
       "    </tr>\n",
       "  </tbody>\n",
       "</table>\n",
       "</div>"
      ],
      "text/plain": [
       "     Pregnancies  Glucose  BloodPressure  SkinThickness  Insulin   BMI  \\\n",
       "302            5       77             82             41       42  35.8   \n",
       "718            1      108             60             46      178  35.5   \n",
       "395            2      127             58             24      275  27.7   \n",
       "747            1       81             74             41       57  46.3   \n",
       "453            2      119              0              0        0  19.6   \n",
       "\n",
       "     DiabetesPedigreeFunction  Age  Outcome  \n",
       "302                     0.156   35        0  \n",
       "718                     0.415   24        0  \n",
       "395                     1.600   25        0  \n",
       "747                     1.096   32        0  \n",
       "453                     0.832   72        0  "
      ]
     },
     "execution_count": 20,
     "metadata": {},
     "output_type": "execute_result"
    }
   ],
   "source": [
    "data.sample(5)"
   ]
  },
  {
   "cell_type": "markdown",
   "metadata": {},
   "source": [
    "Revisamos el estado de los datos"
   ]
  },
  {
   "cell_type": "code",
   "execution_count": 21,
   "metadata": {},
   "outputs": [
    {
     "data": {
      "text/html": [
       "<div>\n",
       "<style scoped>\n",
       "    .dataframe tbody tr th:only-of-type {\n",
       "        vertical-align: middle;\n",
       "    }\n",
       "\n",
       "    .dataframe tbody tr th {\n",
       "        vertical-align: top;\n",
       "    }\n",
       "\n",
       "    .dataframe thead th {\n",
       "        text-align: right;\n",
       "    }\n",
       "</style>\n",
       "<table border=\"1\" class=\"dataframe\">\n",
       "  <thead>\n",
       "    <tr style=\"text-align: right;\">\n",
       "      <th></th>\n",
       "      <th>variable</th>\n",
       "      <th>q_nan</th>\n",
       "      <th>p_nan</th>\n",
       "      <th>q_zeros</th>\n",
       "      <th>p_zeros</th>\n",
       "      <th>unique</th>\n",
       "      <th>type</th>\n",
       "    </tr>\n",
       "  </thead>\n",
       "  <tbody>\n",
       "    <tr>\n",
       "      <th>0</th>\n",
       "      <td>Pregnancies</td>\n",
       "      <td>0</td>\n",
       "      <td>0.0</td>\n",
       "      <td>111</td>\n",
       "      <td>0.144531</td>\n",
       "      <td>17</td>\n",
       "      <td>int64</td>\n",
       "    </tr>\n",
       "    <tr>\n",
       "      <th>1</th>\n",
       "      <td>Glucose</td>\n",
       "      <td>0</td>\n",
       "      <td>0.0</td>\n",
       "      <td>5</td>\n",
       "      <td>0.006510</td>\n",
       "      <td>136</td>\n",
       "      <td>int64</td>\n",
       "    </tr>\n",
       "    <tr>\n",
       "      <th>2</th>\n",
       "      <td>BloodPressure</td>\n",
       "      <td>0</td>\n",
       "      <td>0.0</td>\n",
       "      <td>35</td>\n",
       "      <td>0.045573</td>\n",
       "      <td>47</td>\n",
       "      <td>int64</td>\n",
       "    </tr>\n",
       "    <tr>\n",
       "      <th>3</th>\n",
       "      <td>SkinThickness</td>\n",
       "      <td>0</td>\n",
       "      <td>0.0</td>\n",
       "      <td>227</td>\n",
       "      <td>0.295573</td>\n",
       "      <td>51</td>\n",
       "      <td>int64</td>\n",
       "    </tr>\n",
       "    <tr>\n",
       "      <th>4</th>\n",
       "      <td>Insulin</td>\n",
       "      <td>0</td>\n",
       "      <td>0.0</td>\n",
       "      <td>374</td>\n",
       "      <td>0.486979</td>\n",
       "      <td>186</td>\n",
       "      <td>int64</td>\n",
       "    </tr>\n",
       "    <tr>\n",
       "      <th>5</th>\n",
       "      <td>BMI</td>\n",
       "      <td>0</td>\n",
       "      <td>0.0</td>\n",
       "      <td>11</td>\n",
       "      <td>0.014323</td>\n",
       "      <td>248</td>\n",
       "      <td>float64</td>\n",
       "    </tr>\n",
       "    <tr>\n",
       "      <th>6</th>\n",
       "      <td>DiabetesPedigreeFunction</td>\n",
       "      <td>0</td>\n",
       "      <td>0.0</td>\n",
       "      <td>0</td>\n",
       "      <td>0.000000</td>\n",
       "      <td>517</td>\n",
       "      <td>float64</td>\n",
       "    </tr>\n",
       "    <tr>\n",
       "      <th>7</th>\n",
       "      <td>Age</td>\n",
       "      <td>0</td>\n",
       "      <td>0.0</td>\n",
       "      <td>0</td>\n",
       "      <td>0.000000</td>\n",
       "      <td>52</td>\n",
       "      <td>int64</td>\n",
       "    </tr>\n",
       "    <tr>\n",
       "      <th>8</th>\n",
       "      <td>Outcome</td>\n",
       "      <td>0</td>\n",
       "      <td>0.0</td>\n",
       "      <td>500</td>\n",
       "      <td>0.651042</td>\n",
       "      <td>2</td>\n",
       "      <td>int64</td>\n",
       "    </tr>\n",
       "  </tbody>\n",
       "</table>\n",
       "</div>"
      ],
      "text/plain": [
       "                   variable  q_nan  p_nan  q_zeros   p_zeros  unique     type\n",
       "0               Pregnancies      0    0.0      111  0.144531      17    int64\n",
       "1                   Glucose      0    0.0        5  0.006510     136    int64\n",
       "2             BloodPressure      0    0.0       35  0.045573      47    int64\n",
       "3             SkinThickness      0    0.0      227  0.295573      51    int64\n",
       "4                   Insulin      0    0.0      374  0.486979     186    int64\n",
       "5                       BMI      0    0.0       11  0.014323     248  float64\n",
       "6  DiabetesPedigreeFunction      0    0.0        0  0.000000     517  float64\n",
       "7                       Age      0    0.0        0  0.000000      52    int64\n",
       "8                   Outcome      0    0.0      500  0.651042       2    int64"
      ]
     },
     "execution_count": 21,
     "metadata": {},
     "output_type": "execute_result"
    }
   ],
   "source": [
    "status(data)"
   ]
  },
  {
   "cell_type": "markdown",
   "metadata": {},
   "source": [
    "Vemos que aunque no hay variables con valores declarados como nulos, toman datos que son imposibles:\n",
    "\n",
    "Glucosa = 0\n",
    "\n",
    "Presión sanguínea = 0\n",
    "\n",
    "Grosor de la piel = 0\n",
    "\n",
    "Insulina = 0\n",
    "\n",
    "Body Mass Index = 0\n",
    "\n",
    "Además, la variable \"Outcome\" toma valores enteros, pero se refieren a categorías, hay que transformarla."
   ]
  },
  {
   "cell_type": "code",
   "execution_count": 22,
   "metadata": {},
   "outputs": [
    {
     "data": {
      "text/html": [
       "<div>\n",
       "<style scoped>\n",
       "    .dataframe tbody tr th:only-of-type {\n",
       "        vertical-align: middle;\n",
       "    }\n",
       "\n",
       "    .dataframe tbody tr th {\n",
       "        vertical-align: top;\n",
       "    }\n",
       "\n",
       "    .dataframe thead th {\n",
       "        text-align: right;\n",
       "    }\n",
       "</style>\n",
       "<table border=\"1\" class=\"dataframe\">\n",
       "  <thead>\n",
       "    <tr style=\"text-align: right;\">\n",
       "      <th></th>\n",
       "      <th>variable</th>\n",
       "      <th>q_nan</th>\n",
       "      <th>p_nan</th>\n",
       "      <th>q_zeros</th>\n",
       "      <th>p_zeros</th>\n",
       "      <th>unique</th>\n",
       "      <th>type</th>\n",
       "    </tr>\n",
       "  </thead>\n",
       "  <tbody>\n",
       "    <tr>\n",
       "      <th>0</th>\n",
       "      <td>Pregnancies</td>\n",
       "      <td>0</td>\n",
       "      <td>0.0</td>\n",
       "      <td>111</td>\n",
       "      <td>0.144531</td>\n",
       "      <td>17</td>\n",
       "      <td>int64</td>\n",
       "    </tr>\n",
       "    <tr>\n",
       "      <th>1</th>\n",
       "      <td>Glucose</td>\n",
       "      <td>0</td>\n",
       "      <td>0.0</td>\n",
       "      <td>5</td>\n",
       "      <td>0.006510</td>\n",
       "      <td>136</td>\n",
       "      <td>int64</td>\n",
       "    </tr>\n",
       "    <tr>\n",
       "      <th>2</th>\n",
       "      <td>BloodPressure</td>\n",
       "      <td>0</td>\n",
       "      <td>0.0</td>\n",
       "      <td>35</td>\n",
       "      <td>0.045573</td>\n",
       "      <td>47</td>\n",
       "      <td>int64</td>\n",
       "    </tr>\n",
       "    <tr>\n",
       "      <th>3</th>\n",
       "      <td>SkinThickness</td>\n",
       "      <td>0</td>\n",
       "      <td>0.0</td>\n",
       "      <td>227</td>\n",
       "      <td>0.295573</td>\n",
       "      <td>51</td>\n",
       "      <td>int64</td>\n",
       "    </tr>\n",
       "    <tr>\n",
       "      <th>4</th>\n",
       "      <td>Insulin</td>\n",
       "      <td>0</td>\n",
       "      <td>0.0</td>\n",
       "      <td>374</td>\n",
       "      <td>0.486979</td>\n",
       "      <td>186</td>\n",
       "      <td>int64</td>\n",
       "    </tr>\n",
       "    <tr>\n",
       "      <th>5</th>\n",
       "      <td>BMI</td>\n",
       "      <td>0</td>\n",
       "      <td>0.0</td>\n",
       "      <td>11</td>\n",
       "      <td>0.014323</td>\n",
       "      <td>248</td>\n",
       "      <td>float64</td>\n",
       "    </tr>\n",
       "    <tr>\n",
       "      <th>6</th>\n",
       "      <td>DiabetesPedigreeFunction</td>\n",
       "      <td>0</td>\n",
       "      <td>0.0</td>\n",
       "      <td>0</td>\n",
       "      <td>0.000000</td>\n",
       "      <td>517</td>\n",
       "      <td>float64</td>\n",
       "    </tr>\n",
       "    <tr>\n",
       "      <th>7</th>\n",
       "      <td>Age</td>\n",
       "      <td>0</td>\n",
       "      <td>0.0</td>\n",
       "      <td>0</td>\n",
       "      <td>0.000000</td>\n",
       "      <td>52</td>\n",
       "      <td>int64</td>\n",
       "    </tr>\n",
       "    <tr>\n",
       "      <th>8</th>\n",
       "      <td>Outcome</td>\n",
       "      <td>0</td>\n",
       "      <td>0.0</td>\n",
       "      <td>0</td>\n",
       "      <td>0.000000</td>\n",
       "      <td>2</td>\n",
       "      <td>object</td>\n",
       "    </tr>\n",
       "  </tbody>\n",
       "</table>\n",
       "</div>"
      ],
      "text/plain": [
       "                   variable  q_nan  p_nan  q_zeros   p_zeros  unique     type\n",
       "0               Pregnancies      0    0.0      111  0.144531      17    int64\n",
       "1                   Glucose      0    0.0        5  0.006510     136    int64\n",
       "2             BloodPressure      0    0.0       35  0.045573      47    int64\n",
       "3             SkinThickness      0    0.0      227  0.295573      51    int64\n",
       "4                   Insulin      0    0.0      374  0.486979     186    int64\n",
       "5                       BMI      0    0.0       11  0.014323     248  float64\n",
       "6  DiabetesPedigreeFunction      0    0.0        0  0.000000     517  float64\n",
       "7                       Age      0    0.0        0  0.000000      52    int64\n",
       "8                   Outcome      0    0.0        0  0.000000       2   object"
      ]
     },
     "execution_count": 22,
     "metadata": {},
     "output_type": "execute_result"
    }
   ],
   "source": [
    "data[\"Outcome\"] = data[\"Outcome\"].astype(str)\n",
    "data[\"Outcome\"] = data[\"Outcome\"].replace('0', 'no').replace('1', 'yes') \n",
    "\n",
    "status(data)"
   ]
  },
  {
   "cell_type": "markdown",
   "metadata": {},
   "source": [
    "Imputamos los valores imposibles por la mediana"
   ]
  },
  {
   "cell_type": "code",
   "execution_count": 23,
   "metadata": {},
   "outputs": [],
   "source": [
    "data['Glucose'] = data['Glucose'].replace(0,data['Glucose'].median())\n",
    "data['BloodPressure'] = data['BloodPressure'].replace(0,data['BloodPressure'].median())\n",
    "data['SkinThickness'] = data['SkinThickness'].replace(0,data['SkinThickness'].median())\n",
    "data['Insulin'] = data['Insulin'].replace(0,data['Insulin'].median())\n",
    "data['BMI'] = data['BMI'].replace(0,data['BMI'].median())"
   ]
  },
  {
   "cell_type": "markdown",
   "metadata": {},
   "source": [
    "Inspeccionamos el estado de los datos"
   ]
  },
  {
   "cell_type": "code",
   "execution_count": 24,
   "metadata": {},
   "outputs": [
    {
     "data": {
      "text/html": [
       "<div>\n",
       "<style scoped>\n",
       "    .dataframe tbody tr th:only-of-type {\n",
       "        vertical-align: middle;\n",
       "    }\n",
       "\n",
       "    .dataframe tbody tr th {\n",
       "        vertical-align: top;\n",
       "    }\n",
       "\n",
       "    .dataframe thead th {\n",
       "        text-align: right;\n",
       "    }\n",
       "</style>\n",
       "<table border=\"1\" class=\"dataframe\">\n",
       "  <thead>\n",
       "    <tr style=\"text-align: right;\">\n",
       "      <th></th>\n",
       "      <th>variable</th>\n",
       "      <th>q_nan</th>\n",
       "      <th>p_nan</th>\n",
       "      <th>q_zeros</th>\n",
       "      <th>p_zeros</th>\n",
       "      <th>unique</th>\n",
       "      <th>type</th>\n",
       "    </tr>\n",
       "  </thead>\n",
       "  <tbody>\n",
       "    <tr>\n",
       "      <th>0</th>\n",
       "      <td>Pregnancies</td>\n",
       "      <td>0</td>\n",
       "      <td>0.0</td>\n",
       "      <td>111</td>\n",
       "      <td>0.144531</td>\n",
       "      <td>17</td>\n",
       "      <td>int64</td>\n",
       "    </tr>\n",
       "    <tr>\n",
       "      <th>1</th>\n",
       "      <td>Glucose</td>\n",
       "      <td>0</td>\n",
       "      <td>0.0</td>\n",
       "      <td>0</td>\n",
       "      <td>0.000000</td>\n",
       "      <td>135</td>\n",
       "      <td>int64</td>\n",
       "    </tr>\n",
       "    <tr>\n",
       "      <th>2</th>\n",
       "      <td>BloodPressure</td>\n",
       "      <td>0</td>\n",
       "      <td>0.0</td>\n",
       "      <td>0</td>\n",
       "      <td>0.000000</td>\n",
       "      <td>46</td>\n",
       "      <td>int64</td>\n",
       "    </tr>\n",
       "    <tr>\n",
       "      <th>3</th>\n",
       "      <td>SkinThickness</td>\n",
       "      <td>0</td>\n",
       "      <td>0.0</td>\n",
       "      <td>0</td>\n",
       "      <td>0.000000</td>\n",
       "      <td>50</td>\n",
       "      <td>int64</td>\n",
       "    </tr>\n",
       "    <tr>\n",
       "      <th>4</th>\n",
       "      <td>Insulin</td>\n",
       "      <td>0</td>\n",
       "      <td>0.0</td>\n",
       "      <td>0</td>\n",
       "      <td>0.000000</td>\n",
       "      <td>186</td>\n",
       "      <td>float64</td>\n",
       "    </tr>\n",
       "    <tr>\n",
       "      <th>5</th>\n",
       "      <td>BMI</td>\n",
       "      <td>0</td>\n",
       "      <td>0.0</td>\n",
       "      <td>0</td>\n",
       "      <td>0.000000</td>\n",
       "      <td>247</td>\n",
       "      <td>float64</td>\n",
       "    </tr>\n",
       "    <tr>\n",
       "      <th>6</th>\n",
       "      <td>DiabetesPedigreeFunction</td>\n",
       "      <td>0</td>\n",
       "      <td>0.0</td>\n",
       "      <td>0</td>\n",
       "      <td>0.000000</td>\n",
       "      <td>517</td>\n",
       "      <td>float64</td>\n",
       "    </tr>\n",
       "    <tr>\n",
       "      <th>7</th>\n",
       "      <td>Age</td>\n",
       "      <td>0</td>\n",
       "      <td>0.0</td>\n",
       "      <td>0</td>\n",
       "      <td>0.000000</td>\n",
       "      <td>52</td>\n",
       "      <td>int64</td>\n",
       "    </tr>\n",
       "    <tr>\n",
       "      <th>8</th>\n",
       "      <td>Outcome</td>\n",
       "      <td>0</td>\n",
       "      <td>0.0</td>\n",
       "      <td>0</td>\n",
       "      <td>0.000000</td>\n",
       "      <td>2</td>\n",
       "      <td>object</td>\n",
       "    </tr>\n",
       "  </tbody>\n",
       "</table>\n",
       "</div>"
      ],
      "text/plain": [
       "                   variable  q_nan  p_nan  q_zeros   p_zeros  unique     type\n",
       "0               Pregnancies      0    0.0      111  0.144531      17    int64\n",
       "1                   Glucose      0    0.0        0  0.000000     135    int64\n",
       "2             BloodPressure      0    0.0        0  0.000000      46    int64\n",
       "3             SkinThickness      0    0.0        0  0.000000      50    int64\n",
       "4                   Insulin      0    0.0        0  0.000000     186  float64\n",
       "5                       BMI      0    0.0        0  0.000000     247  float64\n",
       "6  DiabetesPedigreeFunction      0    0.0        0  0.000000     517  float64\n",
       "7                       Age      0    0.0        0  0.000000      52    int64\n",
       "8                   Outcome      0    0.0        0  0.000000       2   object"
      ]
     },
     "execution_count": 24,
     "metadata": {},
     "output_type": "execute_result"
    }
   ],
   "source": [
    "status(data)"
   ]
  },
  {
   "cell_type": "markdown",
   "metadata": {},
   "source": [
    "Vemos que los datos están ahora corregidos."
   ]
  },
  {
   "cell_type": "markdown",
   "metadata": {},
   "source": [
    "Determinamos ahora las variables que más se correlacionan con la variable a predecir \"Outcome\". Para eso pasamos todas las variables primero a categóricas, discretizando las variables numéricas. En primer lugar inspeccionamos las variables numéricas para decidir como haremos la discretización."
   ]
  },
  {
   "cell_type": "markdown",
   "metadata": {},
   "source": [
    "- Embarazos"
   ]
  },
  {
   "cell_type": "code",
   "execution_count": 25,
   "metadata": {},
   "outputs": [
    {
     "data": {
      "text/plain": [
       "count    768.000000\n",
       "mean       3.845052\n",
       "std        3.369578\n",
       "min        0.000000\n",
       "25%        1.000000\n",
       "50%        3.000000\n",
       "75%        6.000000\n",
       "max       17.000000\n",
       "Name: Pregnancies, dtype: float64"
      ]
     },
     "execution_count": 25,
     "metadata": {},
     "output_type": "execute_result"
    }
   ],
   "source": [
    "data['Pregnancies'].describe()"
   ]
  },
  {
   "cell_type": "code",
   "execution_count": 26,
   "metadata": {},
   "outputs": [
    {
     "data": {
      "text/html": [
       "<div>\n",
       "<style scoped>\n",
       "    .dataframe tbody tr th:only-of-type {\n",
       "        vertical-align: middle;\n",
       "    }\n",
       "\n",
       "    .dataframe tbody tr th {\n",
       "        vertical-align: top;\n",
       "    }\n",
       "\n",
       "    .dataframe thead th {\n",
       "        text-align: right;\n",
       "    }\n",
       "</style>\n",
       "<table border=\"1\" class=\"dataframe\">\n",
       "  <thead>\n",
       "    <tr style=\"text-align: right;\">\n",
       "      <th></th>\n",
       "      <th>variable</th>\n",
       "      <th>mean</th>\n",
       "      <th>std_dev</th>\n",
       "      <th>variation_coef</th>\n",
       "      <th>p_0.01</th>\n",
       "      <th>p_0.05</th>\n",
       "      <th>p_0.25</th>\n",
       "      <th>p_0.5</th>\n",
       "      <th>p_0.75</th>\n",
       "      <th>p_0.95</th>\n",
       "      <th>p_0.99</th>\n",
       "    </tr>\n",
       "  </thead>\n",
       "  <tbody>\n",
       "    <tr>\n",
       "      <th>0</th>\n",
       "      <td>Pregnancies</td>\n",
       "      <td>3.845052</td>\n",
       "      <td>3.369578</td>\n",
       "      <td>0.876341</td>\n",
       "      <td>0.0</td>\n",
       "      <td>0.0</td>\n",
       "      <td>1.0</td>\n",
       "      <td>3.0</td>\n",
       "      <td>6.0</td>\n",
       "      <td>10.0</td>\n",
       "      <td>13.0</td>\n",
       "    </tr>\n",
       "  </tbody>\n",
       "</table>\n",
       "</div>"
      ],
      "text/plain": [
       "      variable      mean   std_dev  variation_coef  p_0.01  p_0.05  p_0.25  \\\n",
       "0  Pregnancies  3.845052  3.369578        0.876341     0.0     0.0     1.0   \n",
       "\n",
       "   p_0.5  p_0.75  p_0.95  p_0.99  \n",
       "0    3.0     6.0    10.0    13.0  "
      ]
     },
     "execution_count": 26,
     "metadata": {},
     "output_type": "execute_result"
    }
   ],
   "source": [
    "profiling_num(data['Pregnancies'])"
   ]
  },
  {
   "cell_type": "markdown",
   "metadata": {},
   "source": [
    "La variable \"Pregnancies\" toma valores entre 1 y 17, siendo 4 el valor medio, y valores mayores a 10 pueden ser considerados como outliers. Dividimos esta variable en 3 categorías"
   ]
  },
  {
   "cell_type": "code",
   "execution_count": 27,
   "metadata": {},
   "outputs": [],
   "source": [
    "data['Pregnancies_cat'], bins = pd.qcut(data['Pregnancies'], q=3, retbins=True)"
   ]
  },
  {
   "cell_type": "markdown",
   "metadata": {},
   "source": [
    "- Glucosa"
   ]
  },
  {
   "cell_type": "code",
   "execution_count": 28,
   "metadata": {},
   "outputs": [
    {
     "data": {
      "text/plain": [
       "count    768.000000\n",
       "mean     121.656250\n",
       "std       30.438286\n",
       "min       44.000000\n",
       "25%       99.750000\n",
       "50%      117.000000\n",
       "75%      140.250000\n",
       "max      199.000000\n",
       "Name: Glucose, dtype: float64"
      ]
     },
     "execution_count": 28,
     "metadata": {},
     "output_type": "execute_result"
    }
   ],
   "source": [
    "data['Glucose'].describe()"
   ]
  },
  {
   "cell_type": "code",
   "execution_count": 29,
   "metadata": {},
   "outputs": [
    {
     "data": {
      "text/html": [
       "<div>\n",
       "<style scoped>\n",
       "    .dataframe tbody tr th:only-of-type {\n",
       "        vertical-align: middle;\n",
       "    }\n",
       "\n",
       "    .dataframe tbody tr th {\n",
       "        vertical-align: top;\n",
       "    }\n",
       "\n",
       "    .dataframe thead th {\n",
       "        text-align: right;\n",
       "    }\n",
       "</style>\n",
       "<table border=\"1\" class=\"dataframe\">\n",
       "  <thead>\n",
       "    <tr style=\"text-align: right;\">\n",
       "      <th></th>\n",
       "      <th>variable</th>\n",
       "      <th>mean</th>\n",
       "      <th>std_dev</th>\n",
       "      <th>variation_coef</th>\n",
       "      <th>p_0.01</th>\n",
       "      <th>p_0.05</th>\n",
       "      <th>p_0.25</th>\n",
       "      <th>p_0.5</th>\n",
       "      <th>p_0.75</th>\n",
       "      <th>p_0.95</th>\n",
       "      <th>p_0.99</th>\n",
       "    </tr>\n",
       "  </thead>\n",
       "  <tbody>\n",
       "    <tr>\n",
       "      <th>0</th>\n",
       "      <td>Glucose</td>\n",
       "      <td>121.65625</td>\n",
       "      <td>30.438286</td>\n",
       "      <td>0.250199</td>\n",
       "      <td>67.67</td>\n",
       "      <td>80.0</td>\n",
       "      <td>99.75</td>\n",
       "      <td>117.0</td>\n",
       "      <td>140.25</td>\n",
       "      <td>181.0</td>\n",
       "      <td>196.0</td>\n",
       "    </tr>\n",
       "  </tbody>\n",
       "</table>\n",
       "</div>"
      ],
      "text/plain": [
       "  variable       mean    std_dev  variation_coef  p_0.01  p_0.05  p_0.25  \\\n",
       "0  Glucose  121.65625  30.438286        0.250199   67.67    80.0   99.75   \n",
       "\n",
       "   p_0.5  p_0.75  p_0.95  p_0.99  \n",
       "0  117.0  140.25   181.0   196.0  "
      ]
     },
     "execution_count": 29,
     "metadata": {},
     "output_type": "execute_result"
    }
   ],
   "source": [
    "profiling_num(data['Glucose'])"
   ]
  },
  {
   "cell_type": "markdown",
   "metadata": {},
   "source": [
    "La variable \"Glucose\" toma valores entre 44 y 199, siendo 121 el valor medio, y valores mayores a 181 pueden ser considerados como outliers. Dividimos esta variable en 5 categorías"
   ]
  },
  {
   "cell_type": "code",
   "execution_count": 30,
   "metadata": {},
   "outputs": [],
   "source": [
    "data['Glucose_cat'], bins = pd.qcut(data['Glucose'], q=5, retbins=True)"
   ]
  },
  {
   "cell_type": "markdown",
   "metadata": {},
   "source": [
    "- Presion sanguínea"
   ]
  },
  {
   "cell_type": "code",
   "execution_count": 31,
   "metadata": {},
   "outputs": [
    {
     "data": {
      "text/plain": [
       "count    768.000000\n",
       "mean      72.386719\n",
       "std       12.096642\n",
       "min       24.000000\n",
       "25%       64.000000\n",
       "50%       72.000000\n",
       "75%       80.000000\n",
       "max      122.000000\n",
       "Name: BloodPressure, dtype: float64"
      ]
     },
     "execution_count": 31,
     "metadata": {},
     "output_type": "execute_result"
    }
   ],
   "source": [
    "data['BloodPressure'].describe()"
   ]
  },
  {
   "cell_type": "code",
   "execution_count": 32,
   "metadata": {},
   "outputs": [
    {
     "data": {
      "text/html": [
       "<div>\n",
       "<style scoped>\n",
       "    .dataframe tbody tr th:only-of-type {\n",
       "        vertical-align: middle;\n",
       "    }\n",
       "\n",
       "    .dataframe tbody tr th {\n",
       "        vertical-align: top;\n",
       "    }\n",
       "\n",
       "    .dataframe thead th {\n",
       "        text-align: right;\n",
       "    }\n",
       "</style>\n",
       "<table border=\"1\" class=\"dataframe\">\n",
       "  <thead>\n",
       "    <tr style=\"text-align: right;\">\n",
       "      <th></th>\n",
       "      <th>variable</th>\n",
       "      <th>mean</th>\n",
       "      <th>std_dev</th>\n",
       "      <th>variation_coef</th>\n",
       "      <th>p_0.01</th>\n",
       "      <th>p_0.05</th>\n",
       "      <th>p_0.25</th>\n",
       "      <th>p_0.5</th>\n",
       "      <th>p_0.75</th>\n",
       "      <th>p_0.95</th>\n",
       "      <th>p_0.99</th>\n",
       "    </tr>\n",
       "  </thead>\n",
       "  <tbody>\n",
       "    <tr>\n",
       "      <th>0</th>\n",
       "      <td>BloodPressure</td>\n",
       "      <td>72.386719</td>\n",
       "      <td>12.096642</td>\n",
       "      <td>0.167111</td>\n",
       "      <td>44.0</td>\n",
       "      <td>52.0</td>\n",
       "      <td>64.0</td>\n",
       "      <td>72.0</td>\n",
       "      <td>80.0</td>\n",
       "      <td>90.0</td>\n",
       "      <td>106.0</td>\n",
       "    </tr>\n",
       "  </tbody>\n",
       "</table>\n",
       "</div>"
      ],
      "text/plain": [
       "        variable       mean    std_dev  variation_coef  p_0.01  p_0.05  \\\n",
       "0  BloodPressure  72.386719  12.096642        0.167111    44.0    52.0   \n",
       "\n",
       "   p_0.25  p_0.5  p_0.75  p_0.95  p_0.99  \n",
       "0    64.0   72.0    80.0    90.0   106.0  "
      ]
     },
     "execution_count": 32,
     "metadata": {},
     "output_type": "execute_result"
    }
   ],
   "source": [
    "profiling_num(data['BloodPressure'])"
   ]
  },
  {
   "cell_type": "markdown",
   "metadata": {},
   "source": [
    "La variable \"BloodPressure\" toma valores entre 24 y 122, siendo 72 el valor medio, y valores mayores a 90 pueden ser considerados como outliers. Dividimos esta variable en 5 categorías"
   ]
  },
  {
   "cell_type": "code",
   "execution_count": 33,
   "metadata": {},
   "outputs": [],
   "source": [
    "data['BloodPressure_cat'], bins = pd.qcut(data['BloodPressure'], q=5, retbins=True)"
   ]
  },
  {
   "cell_type": "markdown",
   "metadata": {},
   "source": [
    "- Grosor de la piel"
   ]
  },
  {
   "cell_type": "code",
   "execution_count": 34,
   "metadata": {},
   "outputs": [
    {
     "data": {
      "text/plain": [
       "count    768.000000\n",
       "mean      27.334635\n",
       "std        9.229014\n",
       "min        7.000000\n",
       "25%       23.000000\n",
       "50%       23.000000\n",
       "75%       32.000000\n",
       "max       99.000000\n",
       "Name: SkinThickness, dtype: float64"
      ]
     },
     "execution_count": 34,
     "metadata": {},
     "output_type": "execute_result"
    }
   ],
   "source": [
    "data['SkinThickness'].describe()"
   ]
  },
  {
   "cell_type": "code",
   "execution_count": 35,
   "metadata": {},
   "outputs": [
    {
     "data": {
      "text/html": [
       "<div>\n",
       "<style scoped>\n",
       "    .dataframe tbody tr th:only-of-type {\n",
       "        vertical-align: middle;\n",
       "    }\n",
       "\n",
       "    .dataframe tbody tr th {\n",
       "        vertical-align: top;\n",
       "    }\n",
       "\n",
       "    .dataframe thead th {\n",
       "        text-align: right;\n",
       "    }\n",
       "</style>\n",
       "<table border=\"1\" class=\"dataframe\">\n",
       "  <thead>\n",
       "    <tr style=\"text-align: right;\">\n",
       "      <th></th>\n",
       "      <th>variable</th>\n",
       "      <th>mean</th>\n",
       "      <th>std_dev</th>\n",
       "      <th>variation_coef</th>\n",
       "      <th>p_0.01</th>\n",
       "      <th>p_0.05</th>\n",
       "      <th>p_0.25</th>\n",
       "      <th>p_0.5</th>\n",
       "      <th>p_0.75</th>\n",
       "      <th>p_0.95</th>\n",
       "      <th>p_0.99</th>\n",
       "    </tr>\n",
       "  </thead>\n",
       "  <tbody>\n",
       "    <tr>\n",
       "      <th>0</th>\n",
       "      <td>SkinThickness</td>\n",
       "      <td>27.334635</td>\n",
       "      <td>9.229014</td>\n",
       "      <td>0.337631</td>\n",
       "      <td>10.0</td>\n",
       "      <td>14.35</td>\n",
       "      <td>23.0</td>\n",
       "      <td>23.0</td>\n",
       "      <td>32.0</td>\n",
       "      <td>44.0</td>\n",
       "      <td>51.33</td>\n",
       "    </tr>\n",
       "  </tbody>\n",
       "</table>\n",
       "</div>"
      ],
      "text/plain": [
       "        variable       mean   std_dev  variation_coef  p_0.01  p_0.05  p_0.25  \\\n",
       "0  SkinThickness  27.334635  9.229014        0.337631    10.0   14.35    23.0   \n",
       "\n",
       "   p_0.5  p_0.75  p_0.95  p_0.99  \n",
       "0   23.0    32.0    44.0   51.33  "
      ]
     },
     "execution_count": 35,
     "metadata": {},
     "output_type": "execute_result"
    }
   ],
   "source": [
    "profiling_num(data['SkinThickness'])"
   ]
  },
  {
   "cell_type": "markdown",
   "metadata": {},
   "source": [
    "La variable \"SkinThickness\" toma valores entre 7 y 99, siendo 27 el valor medio, y valores mayores a 44 pueden ser considerados como outliers. Dividimos esta variable en 3 categorías (no tomamos 4 ni 5 porque el cuantil 0.25 coincide con el cuantil 0.5)"
   ]
  },
  {
   "cell_type": "code",
   "execution_count": 36,
   "metadata": {},
   "outputs": [],
   "source": [
    "data['SkinThickness_cat'], bins = pd.qcut(data['SkinThickness'], q=3, retbins=True)"
   ]
  },
  {
   "cell_type": "markdown",
   "metadata": {},
   "source": [
    "- Insulina"
   ]
  },
  {
   "cell_type": "code",
   "execution_count": 37,
   "metadata": {},
   "outputs": [
    {
     "data": {
      "text/plain": [
       "count    768.000000\n",
       "mean      94.652344\n",
       "std      105.547598\n",
       "min       14.000000\n",
       "25%       30.500000\n",
       "50%       31.250000\n",
       "75%      127.250000\n",
       "max      846.000000\n",
       "Name: Insulin, dtype: float64"
      ]
     },
     "execution_count": 37,
     "metadata": {},
     "output_type": "execute_result"
    }
   ],
   "source": [
    "data['Insulin'].describe()"
   ]
  },
  {
   "cell_type": "code",
   "execution_count": 38,
   "metadata": {},
   "outputs": [
    {
     "data": {
      "text/html": [
       "<div>\n",
       "<style scoped>\n",
       "    .dataframe tbody tr th:only-of-type {\n",
       "        vertical-align: middle;\n",
       "    }\n",
       "\n",
       "    .dataframe tbody tr th {\n",
       "        vertical-align: top;\n",
       "    }\n",
       "\n",
       "    .dataframe thead th {\n",
       "        text-align: right;\n",
       "    }\n",
       "</style>\n",
       "<table border=\"1\" class=\"dataframe\">\n",
       "  <thead>\n",
       "    <tr style=\"text-align: right;\">\n",
       "      <th></th>\n",
       "      <th>variable</th>\n",
       "      <th>mean</th>\n",
       "      <th>std_dev</th>\n",
       "      <th>variation_coef</th>\n",
       "      <th>p_0.01</th>\n",
       "      <th>p_0.05</th>\n",
       "      <th>p_0.25</th>\n",
       "      <th>p_0.5</th>\n",
       "      <th>p_0.75</th>\n",
       "      <th>p_0.95</th>\n",
       "      <th>p_0.99</th>\n",
       "    </tr>\n",
       "  </thead>\n",
       "  <tbody>\n",
       "    <tr>\n",
       "      <th>0</th>\n",
       "      <td>Insulin</td>\n",
       "      <td>94.652344</td>\n",
       "      <td>105.547598</td>\n",
       "      <td>1.115108</td>\n",
       "      <td>24.34</td>\n",
       "      <td>30.5</td>\n",
       "      <td>30.5</td>\n",
       "      <td>31.25</td>\n",
       "      <td>127.25</td>\n",
       "      <td>293.0</td>\n",
       "      <td>519.9</td>\n",
       "    </tr>\n",
       "  </tbody>\n",
       "</table>\n",
       "</div>"
      ],
      "text/plain": [
       "  variable       mean     std_dev  variation_coef  p_0.01  p_0.05  p_0.25  \\\n",
       "0  Insulin  94.652344  105.547598        1.115108   24.34    30.5    30.5   \n",
       "\n",
       "   p_0.5  p_0.75  p_0.95  p_0.99  \n",
       "0  31.25  127.25   293.0   519.9  "
      ]
     },
     "execution_count": 38,
     "metadata": {},
     "output_type": "execute_result"
    }
   ],
   "source": [
    "profiling_num(data['Insulin'])"
   ]
  },
  {
   "cell_type": "markdown",
   "metadata": {},
   "source": [
    "La variable \"Insulin\" toma valores entre 14 y 846, siendo 95 el valor medio, y valores mayores a 293 pueden ser considerados como outliers. Dividimos esta variable en 3 categorías (no tomamos 4 o 5 porque el cuantil 0.05 coincide con el cuantil 0.25 y está muy cercano al cuantil 0.5)"
   ]
  },
  {
   "cell_type": "code",
   "execution_count": 39,
   "metadata": {},
   "outputs": [],
   "source": [
    "data['Insulin_cat'], bins = pd.qcut(data['Insulin'], q=3, retbins=True)"
   ]
  },
  {
   "cell_type": "markdown",
   "metadata": {},
   "source": [
    "- BMI"
   ]
  },
  {
   "cell_type": "code",
   "execution_count": 40,
   "metadata": {},
   "outputs": [
    {
     "data": {
      "text/plain": [
       "count    768.000000\n",
       "mean      32.450911\n",
       "std        6.875366\n",
       "min       18.200000\n",
       "25%       27.500000\n",
       "50%       32.000000\n",
       "75%       36.600000\n",
       "max       67.100000\n",
       "Name: BMI, dtype: float64"
      ]
     },
     "execution_count": 40,
     "metadata": {},
     "output_type": "execute_result"
    }
   ],
   "source": [
    "data['BMI'].describe()"
   ]
  },
  {
   "cell_type": "code",
   "execution_count": 41,
   "metadata": {},
   "outputs": [
    {
     "data": {
      "text/html": [
       "<div>\n",
       "<style scoped>\n",
       "    .dataframe tbody tr th:only-of-type {\n",
       "        vertical-align: middle;\n",
       "    }\n",
       "\n",
       "    .dataframe tbody tr th {\n",
       "        vertical-align: top;\n",
       "    }\n",
       "\n",
       "    .dataframe thead th {\n",
       "        text-align: right;\n",
       "    }\n",
       "</style>\n",
       "<table border=\"1\" class=\"dataframe\">\n",
       "  <thead>\n",
       "    <tr style=\"text-align: right;\">\n",
       "      <th></th>\n",
       "      <th>variable</th>\n",
       "      <th>mean</th>\n",
       "      <th>std_dev</th>\n",
       "      <th>variation_coef</th>\n",
       "      <th>p_0.01</th>\n",
       "      <th>p_0.05</th>\n",
       "      <th>p_0.25</th>\n",
       "      <th>p_0.5</th>\n",
       "      <th>p_0.75</th>\n",
       "      <th>p_0.95</th>\n",
       "      <th>p_0.99</th>\n",
       "    </tr>\n",
       "  </thead>\n",
       "  <tbody>\n",
       "    <tr>\n",
       "      <th>0</th>\n",
       "      <td>BMI</td>\n",
       "      <td>32.450911</td>\n",
       "      <td>6.875366</td>\n",
       "      <td>0.21187</td>\n",
       "      <td>19.5</td>\n",
       "      <td>22.235</td>\n",
       "      <td>27.5</td>\n",
       "      <td>32.0</td>\n",
       "      <td>36.6</td>\n",
       "      <td>44.395</td>\n",
       "      <td>50.759</td>\n",
       "    </tr>\n",
       "  </tbody>\n",
       "</table>\n",
       "</div>"
      ],
      "text/plain": [
       "  variable       mean   std_dev  variation_coef  p_0.01  p_0.05  p_0.25  \\\n",
       "0      BMI  32.450911  6.875366         0.21187    19.5  22.235    27.5   \n",
       "\n",
       "   p_0.5  p_0.75  p_0.95  p_0.99  \n",
       "0   32.0    36.6  44.395  50.759  "
      ]
     },
     "execution_count": 41,
     "metadata": {},
     "output_type": "execute_result"
    }
   ],
   "source": [
    "profiling_num(data['BMI'])"
   ]
  },
  {
   "cell_type": "markdown",
   "metadata": {},
   "source": [
    "La variable \"BMI\" toma valores entre 18 y 67, siendo 32 el valor medio, y valores mayores a 44 pueden ser considerados como outliers. Dividimos esta variable en 5 categorías."
   ]
  },
  {
   "cell_type": "code",
   "execution_count": 42,
   "metadata": {},
   "outputs": [],
   "source": [
    "data['BMI_cat'], bins = pd.qcut(data['BMI'], q=5, retbins=True)"
   ]
  },
  {
   "cell_type": "markdown",
   "metadata": {},
   "source": [
    "- DiabetesPedigreeFunction"
   ]
  },
  {
   "cell_type": "code",
   "execution_count": 43,
   "metadata": {},
   "outputs": [
    {
     "data": {
      "text/plain": [
       "count    768.000000\n",
       "mean       0.471876\n",
       "std        0.331329\n",
       "min        0.078000\n",
       "25%        0.243750\n",
       "50%        0.372500\n",
       "75%        0.626250\n",
       "max        2.420000\n",
       "Name: DiabetesPedigreeFunction, dtype: float64"
      ]
     },
     "execution_count": 43,
     "metadata": {},
     "output_type": "execute_result"
    }
   ],
   "source": [
    "data['DiabetesPedigreeFunction'].describe()"
   ]
  },
  {
   "cell_type": "code",
   "execution_count": 44,
   "metadata": {},
   "outputs": [
    {
     "data": {
      "text/html": [
       "<div>\n",
       "<style scoped>\n",
       "    .dataframe tbody tr th:only-of-type {\n",
       "        vertical-align: middle;\n",
       "    }\n",
       "\n",
       "    .dataframe tbody tr th {\n",
       "        vertical-align: top;\n",
       "    }\n",
       "\n",
       "    .dataframe thead th {\n",
       "        text-align: right;\n",
       "    }\n",
       "</style>\n",
       "<table border=\"1\" class=\"dataframe\">\n",
       "  <thead>\n",
       "    <tr style=\"text-align: right;\">\n",
       "      <th></th>\n",
       "      <th>variable</th>\n",
       "      <th>mean</th>\n",
       "      <th>std_dev</th>\n",
       "      <th>variation_coef</th>\n",
       "      <th>p_0.01</th>\n",
       "      <th>p_0.05</th>\n",
       "      <th>p_0.25</th>\n",
       "      <th>p_0.5</th>\n",
       "      <th>p_0.75</th>\n",
       "      <th>p_0.95</th>\n",
       "      <th>p_0.99</th>\n",
       "    </tr>\n",
       "  </thead>\n",
       "  <tbody>\n",
       "    <tr>\n",
       "      <th>0</th>\n",
       "      <td>DiabetesPedigreeFunction</td>\n",
       "      <td>0.471876</td>\n",
       "      <td>0.331329</td>\n",
       "      <td>0.702151</td>\n",
       "      <td>0.09468</td>\n",
       "      <td>0.14035</td>\n",
       "      <td>0.24375</td>\n",
       "      <td>0.3725</td>\n",
       "      <td>0.62625</td>\n",
       "      <td>1.13285</td>\n",
       "      <td>1.69833</td>\n",
       "    </tr>\n",
       "  </tbody>\n",
       "</table>\n",
       "</div>"
      ],
      "text/plain": [
       "                   variable      mean   std_dev  variation_coef   p_0.01  \\\n",
       "0  DiabetesPedigreeFunction  0.471876  0.331329        0.702151  0.09468   \n",
       "\n",
       "    p_0.05   p_0.25   p_0.5   p_0.75   p_0.95   p_0.99  \n",
       "0  0.14035  0.24375  0.3725  0.62625  1.13285  1.69833  "
      ]
     },
     "execution_count": 44,
     "metadata": {},
     "output_type": "execute_result"
    }
   ],
   "source": [
    "profiling_num(data['DiabetesPedigreeFunction'])"
   ]
  },
  {
   "cell_type": "markdown",
   "metadata": {},
   "source": [
    "La variable \"DiabetesPedigreeFunction\" toma valores entre 0.08 y 2.42, siendo 0.47 el valor medio, y valores mayores a 1.13 pueden ser considerados como outliers. Dividimos esta variable en 5 categorías."
   ]
  },
  {
   "cell_type": "code",
   "execution_count": 45,
   "metadata": {},
   "outputs": [],
   "source": [
    "data['DiabetesPedigreeFunction_cat'], bins = pd.qcut(data['DiabetesPedigreeFunction'], q=5, retbins=True)"
   ]
  },
  {
   "cell_type": "markdown",
   "metadata": {},
   "source": [
    "- Age"
   ]
  },
  {
   "cell_type": "code",
   "execution_count": 46,
   "metadata": {},
   "outputs": [
    {
     "data": {
      "text/plain": [
       "count    768.000000\n",
       "mean      33.240885\n",
       "std       11.760232\n",
       "min       21.000000\n",
       "25%       24.000000\n",
       "50%       29.000000\n",
       "75%       41.000000\n",
       "max       81.000000\n",
       "Name: Age, dtype: float64"
      ]
     },
     "execution_count": 46,
     "metadata": {},
     "output_type": "execute_result"
    }
   ],
   "source": [
    "data['Age'].describe()"
   ]
  },
  {
   "cell_type": "code",
   "execution_count": 47,
   "metadata": {},
   "outputs": [
    {
     "data": {
      "text/html": [
       "<div>\n",
       "<style scoped>\n",
       "    .dataframe tbody tr th:only-of-type {\n",
       "        vertical-align: middle;\n",
       "    }\n",
       "\n",
       "    .dataframe tbody tr th {\n",
       "        vertical-align: top;\n",
       "    }\n",
       "\n",
       "    .dataframe thead th {\n",
       "        text-align: right;\n",
       "    }\n",
       "</style>\n",
       "<table border=\"1\" class=\"dataframe\">\n",
       "  <thead>\n",
       "    <tr style=\"text-align: right;\">\n",
       "      <th></th>\n",
       "      <th>variable</th>\n",
       "      <th>mean</th>\n",
       "      <th>std_dev</th>\n",
       "      <th>variation_coef</th>\n",
       "      <th>p_0.01</th>\n",
       "      <th>p_0.05</th>\n",
       "      <th>p_0.25</th>\n",
       "      <th>p_0.5</th>\n",
       "      <th>p_0.75</th>\n",
       "      <th>p_0.95</th>\n",
       "      <th>p_0.99</th>\n",
       "    </tr>\n",
       "  </thead>\n",
       "  <tbody>\n",
       "    <tr>\n",
       "      <th>0</th>\n",
       "      <td>Age</td>\n",
       "      <td>33.240885</td>\n",
       "      <td>11.760232</td>\n",
       "      <td>0.353788</td>\n",
       "      <td>21.0</td>\n",
       "      <td>21.0</td>\n",
       "      <td>24.0</td>\n",
       "      <td>29.0</td>\n",
       "      <td>41.0</td>\n",
       "      <td>58.0</td>\n",
       "      <td>67.0</td>\n",
       "    </tr>\n",
       "  </tbody>\n",
       "</table>\n",
       "</div>"
      ],
      "text/plain": [
       "  variable       mean    std_dev  variation_coef  p_0.01  p_0.05  p_0.25  \\\n",
       "0      Age  33.240885  11.760232        0.353788    21.0    21.0    24.0   \n",
       "\n",
       "   p_0.5  p_0.75  p_0.95  p_0.99  \n",
       "0   29.0    41.0    58.0    67.0  "
      ]
     },
     "execution_count": 47,
     "metadata": {},
     "output_type": "execute_result"
    }
   ],
   "source": [
    "profiling_num(data['Age'])"
   ]
  },
  {
   "cell_type": "markdown",
   "metadata": {},
   "source": [
    "La variable \"Age\" toma valores entre 21 y 81, siendo 33.2 el valor medio, y valores mayores a 58 pueden ser considerados como outliers. Dividimos esta variable en 4 categorías (pues el cuantil 0.01 coincide con el 0.05 y está muy próximo al 0.25)"
   ]
  },
  {
   "cell_type": "code",
   "execution_count": 48,
   "metadata": {},
   "outputs": [],
   "source": [
    "data['Age_cat'], bins = pd.qcut(data['Age'], q=4, retbins=True)"
   ]
  },
  {
   "cell_type": "markdown",
   "metadata": {},
   "source": [
    "Inspeccionamos elnuevo estado de los datos"
   ]
  },
  {
   "cell_type": "code",
   "execution_count": 49,
   "metadata": {},
   "outputs": [
    {
     "data": {
      "text/html": [
       "<div>\n",
       "<style scoped>\n",
       "    .dataframe tbody tr th:only-of-type {\n",
       "        vertical-align: middle;\n",
       "    }\n",
       "\n",
       "    .dataframe tbody tr th {\n",
       "        vertical-align: top;\n",
       "    }\n",
       "\n",
       "    .dataframe thead th {\n",
       "        text-align: right;\n",
       "    }\n",
       "</style>\n",
       "<table border=\"1\" class=\"dataframe\">\n",
       "  <thead>\n",
       "    <tr style=\"text-align: right;\">\n",
       "      <th></th>\n",
       "      <th>variable</th>\n",
       "      <th>q_nan</th>\n",
       "      <th>p_nan</th>\n",
       "      <th>q_zeros</th>\n",
       "      <th>p_zeros</th>\n",
       "      <th>unique</th>\n",
       "      <th>type</th>\n",
       "    </tr>\n",
       "  </thead>\n",
       "  <tbody>\n",
       "    <tr>\n",
       "      <th>0</th>\n",
       "      <td>Pregnancies</td>\n",
       "      <td>0</td>\n",
       "      <td>0.0</td>\n",
       "      <td>111</td>\n",
       "      <td>0.144531</td>\n",
       "      <td>17</td>\n",
       "      <td>int64</td>\n",
       "    </tr>\n",
       "    <tr>\n",
       "      <th>1</th>\n",
       "      <td>Glucose</td>\n",
       "      <td>0</td>\n",
       "      <td>0.0</td>\n",
       "      <td>0</td>\n",
       "      <td>0.000000</td>\n",
       "      <td>135</td>\n",
       "      <td>int64</td>\n",
       "    </tr>\n",
       "    <tr>\n",
       "      <th>2</th>\n",
       "      <td>BloodPressure</td>\n",
       "      <td>0</td>\n",
       "      <td>0.0</td>\n",
       "      <td>0</td>\n",
       "      <td>0.000000</td>\n",
       "      <td>46</td>\n",
       "      <td>int64</td>\n",
       "    </tr>\n",
       "    <tr>\n",
       "      <th>3</th>\n",
       "      <td>SkinThickness</td>\n",
       "      <td>0</td>\n",
       "      <td>0.0</td>\n",
       "      <td>0</td>\n",
       "      <td>0.000000</td>\n",
       "      <td>50</td>\n",
       "      <td>int64</td>\n",
       "    </tr>\n",
       "    <tr>\n",
       "      <th>4</th>\n",
       "      <td>Insulin</td>\n",
       "      <td>0</td>\n",
       "      <td>0.0</td>\n",
       "      <td>0</td>\n",
       "      <td>0.000000</td>\n",
       "      <td>186</td>\n",
       "      <td>float64</td>\n",
       "    </tr>\n",
       "    <tr>\n",
       "      <th>5</th>\n",
       "      <td>BMI</td>\n",
       "      <td>0</td>\n",
       "      <td>0.0</td>\n",
       "      <td>0</td>\n",
       "      <td>0.000000</td>\n",
       "      <td>247</td>\n",
       "      <td>float64</td>\n",
       "    </tr>\n",
       "    <tr>\n",
       "      <th>6</th>\n",
       "      <td>DiabetesPedigreeFunction</td>\n",
       "      <td>0</td>\n",
       "      <td>0.0</td>\n",
       "      <td>0</td>\n",
       "      <td>0.000000</td>\n",
       "      <td>517</td>\n",
       "      <td>float64</td>\n",
       "    </tr>\n",
       "    <tr>\n",
       "      <th>7</th>\n",
       "      <td>Age</td>\n",
       "      <td>0</td>\n",
       "      <td>0.0</td>\n",
       "      <td>0</td>\n",
       "      <td>0.000000</td>\n",
       "      <td>52</td>\n",
       "      <td>int64</td>\n",
       "    </tr>\n",
       "    <tr>\n",
       "      <th>8</th>\n",
       "      <td>Outcome</td>\n",
       "      <td>0</td>\n",
       "      <td>0.0</td>\n",
       "      <td>0</td>\n",
       "      <td>0.000000</td>\n",
       "      <td>2</td>\n",
       "      <td>object</td>\n",
       "    </tr>\n",
       "    <tr>\n",
       "      <th>9</th>\n",
       "      <td>Pregnancies_cat</td>\n",
       "      <td>0</td>\n",
       "      <td>0.0</td>\n",
       "      <td>0</td>\n",
       "      <td>0.000000</td>\n",
       "      <td>3</td>\n",
       "      <td>category</td>\n",
       "    </tr>\n",
       "    <tr>\n",
       "      <th>10</th>\n",
       "      <td>Glucose_cat</td>\n",
       "      <td>0</td>\n",
       "      <td>0.0</td>\n",
       "      <td>0</td>\n",
       "      <td>0.000000</td>\n",
       "      <td>5</td>\n",
       "      <td>category</td>\n",
       "    </tr>\n",
       "    <tr>\n",
       "      <th>11</th>\n",
       "      <td>BloodPressure_cat</td>\n",
       "      <td>0</td>\n",
       "      <td>0.0</td>\n",
       "      <td>0</td>\n",
       "      <td>0.000000</td>\n",
       "      <td>5</td>\n",
       "      <td>category</td>\n",
       "    </tr>\n",
       "    <tr>\n",
       "      <th>12</th>\n",
       "      <td>SkinThickness_cat</td>\n",
       "      <td>0</td>\n",
       "      <td>0.0</td>\n",
       "      <td>0</td>\n",
       "      <td>0.000000</td>\n",
       "      <td>3</td>\n",
       "      <td>category</td>\n",
       "    </tr>\n",
       "    <tr>\n",
       "      <th>13</th>\n",
       "      <td>Insulin_cat</td>\n",
       "      <td>0</td>\n",
       "      <td>0.0</td>\n",
       "      <td>0</td>\n",
       "      <td>0.000000</td>\n",
       "      <td>3</td>\n",
       "      <td>category</td>\n",
       "    </tr>\n",
       "    <tr>\n",
       "      <th>14</th>\n",
       "      <td>BMI_cat</td>\n",
       "      <td>0</td>\n",
       "      <td>0.0</td>\n",
       "      <td>0</td>\n",
       "      <td>0.000000</td>\n",
       "      <td>5</td>\n",
       "      <td>category</td>\n",
       "    </tr>\n",
       "    <tr>\n",
       "      <th>15</th>\n",
       "      <td>DiabetesPedigreeFunction_cat</td>\n",
       "      <td>0</td>\n",
       "      <td>0.0</td>\n",
       "      <td>0</td>\n",
       "      <td>0.000000</td>\n",
       "      <td>5</td>\n",
       "      <td>category</td>\n",
       "    </tr>\n",
       "    <tr>\n",
       "      <th>16</th>\n",
       "      <td>Age_cat</td>\n",
       "      <td>0</td>\n",
       "      <td>0.0</td>\n",
       "      <td>0</td>\n",
       "      <td>0.000000</td>\n",
       "      <td>4</td>\n",
       "      <td>category</td>\n",
       "    </tr>\n",
       "  </tbody>\n",
       "</table>\n",
       "</div>"
      ],
      "text/plain": [
       "                        variable  q_nan  p_nan  q_zeros   p_zeros  unique  \\\n",
       "0                    Pregnancies      0    0.0      111  0.144531      17   \n",
       "1                        Glucose      0    0.0        0  0.000000     135   \n",
       "2                  BloodPressure      0    0.0        0  0.000000      46   \n",
       "3                  SkinThickness      0    0.0        0  0.000000      50   \n",
       "4                        Insulin      0    0.0        0  0.000000     186   \n",
       "5                            BMI      0    0.0        0  0.000000     247   \n",
       "6       DiabetesPedigreeFunction      0    0.0        0  0.000000     517   \n",
       "7                            Age      0    0.0        0  0.000000      52   \n",
       "8                        Outcome      0    0.0        0  0.000000       2   \n",
       "9                Pregnancies_cat      0    0.0        0  0.000000       3   \n",
       "10                   Glucose_cat      0    0.0        0  0.000000       5   \n",
       "11             BloodPressure_cat      0    0.0        0  0.000000       5   \n",
       "12             SkinThickness_cat      0    0.0        0  0.000000       3   \n",
       "13                   Insulin_cat      0    0.0        0  0.000000       3   \n",
       "14                       BMI_cat      0    0.0        0  0.000000       5   \n",
       "15  DiabetesPedigreeFunction_cat      0    0.0        0  0.000000       5   \n",
       "16                       Age_cat      0    0.0        0  0.000000       4   \n",
       "\n",
       "        type  \n",
       "0      int64  \n",
       "1      int64  \n",
       "2      int64  \n",
       "3      int64  \n",
       "4    float64  \n",
       "5    float64  \n",
       "6    float64  \n",
       "7      int64  \n",
       "8     object  \n",
       "9   category  \n",
       "10  category  \n",
       "11  category  \n",
       "12  category  \n",
       "13  category  \n",
       "14  category  \n",
       "15  category  \n",
       "16  category  "
      ]
     },
     "execution_count": 49,
     "metadata": {},
     "output_type": "execute_result"
    }
   ],
   "source": [
    "status(data)"
   ]
  },
  {
   "cell_type": "markdown",
   "metadata": {},
   "source": [
    "Nos quedamos solo con las variables categóricas"
   ]
  },
  {
   "cell_type": "code",
   "execution_count": 50,
   "metadata": {},
   "outputs": [],
   "source": [
    "data_cat = data[cat_vars(data)]"
   ]
  },
  {
   "cell_type": "markdown",
   "metadata": {},
   "source": [
    "Hacemos la conversión a variables numéricas con one-hot encoding"
   ]
  },
  {
   "cell_type": "code",
   "execution_count": 51,
   "metadata": {},
   "outputs": [],
   "source": [
    "data_cat_sin_red = pd.get_dummies(data_cat, dummy_na=True, drop_first=True)\n",
    "\n",
    "vars_to_drop = status(data_cat_sin_red).query(\"unique==1\")['variable']\n",
    "\n",
    "data_cat_final = data_cat_sin_red.drop(vars_to_drop, axis=1)"
   ]
  },
  {
   "cell_type": "markdown",
   "metadata": {},
   "source": [
    "Inspeccionamos el dataset con las variables transformadas"
   ]
  },
  {
   "cell_type": "code",
   "execution_count": 52,
   "metadata": {},
   "outputs": [
    {
     "data": {
      "text/html": [
       "<div>\n",
       "<style scoped>\n",
       "    .dataframe tbody tr th:only-of-type {\n",
       "        vertical-align: middle;\n",
       "    }\n",
       "\n",
       "    .dataframe tbody tr th {\n",
       "        vertical-align: top;\n",
       "    }\n",
       "\n",
       "    .dataframe thead th {\n",
       "        text-align: right;\n",
       "    }\n",
       "</style>\n",
       "<table border=\"1\" class=\"dataframe\">\n",
       "  <thead>\n",
       "    <tr style=\"text-align: right;\">\n",
       "      <th></th>\n",
       "      <th>Outcome_yes</th>\n",
       "      <th>Pregnancies_cat_(2.0, 5.0]</th>\n",
       "      <th>Pregnancies_cat_(5.0, 17.0]</th>\n",
       "      <th>Glucose_cat_(95.0, 109.0]</th>\n",
       "      <th>Glucose_cat_(109.0, 125.0]</th>\n",
       "      <th>Glucose_cat_(125.0, 147.0]</th>\n",
       "      <th>Glucose_cat_(147.0, 199.0]</th>\n",
       "      <th>BloodPressure_cat_(62.0, 70.0]</th>\n",
       "      <th>BloodPressure_cat_(70.0, 74.0]</th>\n",
       "      <th>BloodPressure_cat_(74.0, 82.0]</th>\n",
       "      <th>...</th>\n",
       "      <th>BMI_cat_(30.4, 33.7]</th>\n",
       "      <th>BMI_cat_(33.7, 37.8]</th>\n",
       "      <th>BMI_cat_(37.8, 67.1]</th>\n",
       "      <th>DiabetesPedigreeFunction_cat_(0.219, 0.303]</th>\n",
       "      <th>DiabetesPedigreeFunction_cat_(0.303, 0.454]</th>\n",
       "      <th>DiabetesPedigreeFunction_cat_(0.454, 0.687]</th>\n",
       "      <th>DiabetesPedigreeFunction_cat_(0.687, 2.42]</th>\n",
       "      <th>Age_cat_(24.0, 29.0]</th>\n",
       "      <th>Age_cat_(29.0, 41.0]</th>\n",
       "      <th>Age_cat_(41.0, 81.0]</th>\n",
       "    </tr>\n",
       "  </thead>\n",
       "  <tbody>\n",
       "    <tr>\n",
       "      <th>264</th>\n",
       "      <td>1</td>\n",
       "      <td>1</td>\n",
       "      <td>0</td>\n",
       "      <td>0</td>\n",
       "      <td>1</td>\n",
       "      <td>0</td>\n",
       "      <td>0</td>\n",
       "      <td>0</td>\n",
       "      <td>0</td>\n",
       "      <td>0</td>\n",
       "      <td>...</td>\n",
       "      <td>1</td>\n",
       "      <td>0</td>\n",
       "      <td>0</td>\n",
       "      <td>1</td>\n",
       "      <td>0</td>\n",
       "      <td>0</td>\n",
       "      <td>0</td>\n",
       "      <td>0</td>\n",
       "      <td>1</td>\n",
       "      <td>0</td>\n",
       "    </tr>\n",
       "    <tr>\n",
       "      <th>494</th>\n",
       "      <td>0</td>\n",
       "      <td>1</td>\n",
       "      <td>0</td>\n",
       "      <td>0</td>\n",
       "      <td>0</td>\n",
       "      <td>0</td>\n",
       "      <td>0</td>\n",
       "      <td>0</td>\n",
       "      <td>1</td>\n",
       "      <td>0</td>\n",
       "      <td>...</td>\n",
       "      <td>1</td>\n",
       "      <td>0</td>\n",
       "      <td>0</td>\n",
       "      <td>0</td>\n",
       "      <td>0</td>\n",
       "      <td>0</td>\n",
       "      <td>0</td>\n",
       "      <td>0</td>\n",
       "      <td>0</td>\n",
       "      <td>0</td>\n",
       "    </tr>\n",
       "    <tr>\n",
       "      <th>428</th>\n",
       "      <td>0</td>\n",
       "      <td>0</td>\n",
       "      <td>0</td>\n",
       "      <td>0</td>\n",
       "      <td>0</td>\n",
       "      <td>1</td>\n",
       "      <td>0</td>\n",
       "      <td>0</td>\n",
       "      <td>0</td>\n",
       "      <td>0</td>\n",
       "      <td>...</td>\n",
       "      <td>0</td>\n",
       "      <td>0</td>\n",
       "      <td>1</td>\n",
       "      <td>1</td>\n",
       "      <td>0</td>\n",
       "      <td>0</td>\n",
       "      <td>0</td>\n",
       "      <td>1</td>\n",
       "      <td>0</td>\n",
       "      <td>0</td>\n",
       "    </tr>\n",
       "    <tr>\n",
       "      <th>61</th>\n",
       "      <td>1</td>\n",
       "      <td>0</td>\n",
       "      <td>1</td>\n",
       "      <td>0</td>\n",
       "      <td>0</td>\n",
       "      <td>1</td>\n",
       "      <td>0</td>\n",
       "      <td>0</td>\n",
       "      <td>1</td>\n",
       "      <td>0</td>\n",
       "      <td>...</td>\n",
       "      <td>1</td>\n",
       "      <td>0</td>\n",
       "      <td>0</td>\n",
       "      <td>1</td>\n",
       "      <td>0</td>\n",
       "      <td>0</td>\n",
       "      <td>0</td>\n",
       "      <td>0</td>\n",
       "      <td>1</td>\n",
       "      <td>0</td>\n",
       "    </tr>\n",
       "    <tr>\n",
       "      <th>303</th>\n",
       "      <td>1</td>\n",
       "      <td>1</td>\n",
       "      <td>0</td>\n",
       "      <td>0</td>\n",
       "      <td>1</td>\n",
       "      <td>0</td>\n",
       "      <td>0</td>\n",
       "      <td>0</td>\n",
       "      <td>0</td>\n",
       "      <td>0</td>\n",
       "      <td>...</td>\n",
       "      <td>0</td>\n",
       "      <td>0</td>\n",
       "      <td>1</td>\n",
       "      <td>0</td>\n",
       "      <td>0</td>\n",
       "      <td>0</td>\n",
       "      <td>0</td>\n",
       "      <td>1</td>\n",
       "      <td>0</td>\n",
       "      <td>0</td>\n",
       "    </tr>\n",
       "  </tbody>\n",
       "</table>\n",
       "<p>5 rows × 26 columns</p>\n",
       "</div>"
      ],
      "text/plain": [
       "     Outcome_yes  Pregnancies_cat_(2.0, 5.0]  Pregnancies_cat_(5.0, 17.0]  \\\n",
       "264            1                           1                            0   \n",
       "494            0                           1                            0   \n",
       "428            0                           0                            0   \n",
       "61             1                           0                            1   \n",
       "303            1                           1                            0   \n",
       "\n",
       "     Glucose_cat_(95.0, 109.0]  Glucose_cat_(109.0, 125.0]  \\\n",
       "264                          0                           1   \n",
       "494                          0                           0   \n",
       "428                          0                           0   \n",
       "61                           0                           0   \n",
       "303                          0                           1   \n",
       "\n",
       "     Glucose_cat_(125.0, 147.0]  Glucose_cat_(147.0, 199.0]  \\\n",
       "264                           0                           0   \n",
       "494                           0                           0   \n",
       "428                           1                           0   \n",
       "61                            1                           0   \n",
       "303                           0                           0   \n",
       "\n",
       "     BloodPressure_cat_(62.0, 70.0]  BloodPressure_cat_(70.0, 74.0]  \\\n",
       "264                               0                               0   \n",
       "494                               0                               1   \n",
       "428                               0                               0   \n",
       "61                                0                               1   \n",
       "303                               0                               0   \n",
       "\n",
       "     BloodPressure_cat_(74.0, 82.0]  ...  BMI_cat_(30.4, 33.7]  \\\n",
       "264                               0  ...                     1   \n",
       "494                               0  ...                     1   \n",
       "428                               0  ...                     0   \n",
       "61                                0  ...                     1   \n",
       "303                               0  ...                     0   \n",
       "\n",
       "     BMI_cat_(33.7, 37.8]  BMI_cat_(37.8, 67.1]  \\\n",
       "264                     0                     0   \n",
       "494                     0                     0   \n",
       "428                     0                     1   \n",
       "61                      0                     0   \n",
       "303                     0                     1   \n",
       "\n",
       "     DiabetesPedigreeFunction_cat_(0.219, 0.303]  \\\n",
       "264                                            1   \n",
       "494                                            0   \n",
       "428                                            1   \n",
       "61                                             1   \n",
       "303                                            0   \n",
       "\n",
       "     DiabetesPedigreeFunction_cat_(0.303, 0.454]  \\\n",
       "264                                            0   \n",
       "494                                            0   \n",
       "428                                            0   \n",
       "61                                             0   \n",
       "303                                            0   \n",
       "\n",
       "     DiabetesPedigreeFunction_cat_(0.454, 0.687]  \\\n",
       "264                                            0   \n",
       "494                                            0   \n",
       "428                                            0   \n",
       "61                                             0   \n",
       "303                                            0   \n",
       "\n",
       "     DiabetesPedigreeFunction_cat_(0.687, 2.42]  Age_cat_(24.0, 29.0]  \\\n",
       "264                                           0                     0   \n",
       "494                                           0                     0   \n",
       "428                                           0                     1   \n",
       "61                                            0                     0   \n",
       "303                                           0                     1   \n",
       "\n",
       "     Age_cat_(29.0, 41.0]  Age_cat_(41.0, 81.0]  \n",
       "264                     1                     0  \n",
       "494                     0                     0  \n",
       "428                     0                     0  \n",
       "61                      1                     0  \n",
       "303                     0                     0  \n",
       "\n",
       "[5 rows x 26 columns]"
      ]
     },
     "execution_count": 52,
     "metadata": {},
     "output_type": "execute_result"
    }
   ],
   "source": [
    "data_cat_final.sample(5)"
   ]
  },
  {
   "cell_type": "markdown",
   "metadata": {},
   "source": [
    "Calculamos la (anti-)correlación lineal (con la estadística r) de todas las variables con la variable \"Outcome_yes\"."
   ]
  },
  {
   "cell_type": "code",
   "execution_count": 53,
   "metadata": {},
   "outputs": [
    {
     "data": {
      "text/plain": [
       "Outcome_yes                                    1.000000\n",
       "Glucose_cat_(147.0, 199.0]                     0.404161\n",
       "Insulin_cat_(30.5, 94.333]                    -0.239452\n",
       "Pregnancies_cat_(5.0, 17.0]                    0.209219\n",
       "Age_cat_(41.0, 81.0]                           0.189892\n",
       "BMI_cat_(37.8, 67.1]                           0.171125\n",
       "Glucose_cat_(95.0, 109.0]                     -0.161971\n",
       "Age_cat_(29.0, 41.0]                           0.156915\n",
       "DiabetesPedigreeFunction_cat_(0.687, 2.42]     0.154637\n",
       "Insulin_cat_(94.333, 846.0]                    0.154533\n",
       "SkinThickness_cat_(30.0, 99.0]                 0.147373\n",
       "BloodPressure_cat_(82.0, 122.0]                0.121223\n",
       "Glucose_cat_(125.0, 147.0]                     0.096752\n",
       "BMI_cat_(33.7, 37.8]                           0.086242\n",
       "BMI_cat_(30.4, 33.7]                           0.079403\n",
       "Age_cat_(24.0, 29.0]                          -0.056861\n",
       "BMI_cat_(26.2, 30.4]                          -0.048247\n",
       "Glucose_cat_(109.0, 125.0]                    -0.043733\n",
       "BloodPressure_cat_(74.0, 82.0]                 0.036619\n",
       "BloodPressure_cat_(70.0, 74.0]                 0.023869\n",
       "DiabetesPedigreeFunction_cat_(0.219, 0.303]   -0.023190\n",
       "BloodPressure_cat_(62.0, 70.0]                -0.022552\n",
       "DiabetesPedigreeFunction_cat_(0.454, 0.687]    0.015422\n",
       "DiabetesPedigreeFunction_cat_(0.303, 0.454]   -0.011869\n",
       "Pregnancies_cat_(2.0, 5.0]                     0.007522\n",
       "SkinThickness_cat_(23.0, 30.0]                -0.005182\n",
       "Name: Outcome_yes, dtype: float64"
      ]
     },
     "execution_count": 53,
     "metadata": {},
     "output_type": "execute_result"
    }
   ],
   "source": [
    "data_cat_final.corr(method=\"pearson\")[\"Outcome_yes\"].sort_values(ascending=False, key=abs)"
   ]
  },
  {
   "cell_type": "markdown",
   "metadata": {},
   "source": [
    "Seleccionamos las 5 variables que más se (anti-)correlación con la variable a predecir."
   ]
  },
  {
   "cell_type": "code",
   "execution_count": 54,
   "metadata": {},
   "outputs": [
    {
     "data": {
      "text/plain": [
       "Index(['Outcome_yes', 'Glucose_cat_(147.0, 199.0]',\n",
       "       'Insulin_cat_(30.5, 94.333]', 'Pregnancies_cat_(5.0, 17.0]',\n",
       "       'Age_cat_(41.0, 81.0]', 'BMI_cat_(37.8, 67.1]'],\n",
       "      dtype='object')"
      ]
     },
     "execution_count": 54,
     "metadata": {},
     "output_type": "execute_result"
    }
   ],
   "source": [
    "data_cat_final.corr(method=\"pearson\")[\"Outcome_yes\"].sort_values(ascending=False, key=abs)[:6].index"
   ]
  },
  {
   "cell_type": "code",
   "execution_count": 55,
   "metadata": {},
   "outputs": [],
   "source": [
    "variables = data_cat_final.corr(method=\"pearson\")[\"Outcome_yes\"].sort_values(ascending=False, key=abs)[:6].index\n",
    "data_cat_final_r = data_cat_final[variables]"
   ]
  },
  {
   "cell_type": "markdown",
   "metadata": {},
   "source": [
    "Graficamos la correlación entre estas variables y la variable a predecir"
   ]
  },
  {
   "cell_type": "code",
   "execution_count": 56,
   "metadata": {},
   "outputs": [
    {
     "data": {
      "image/png": "[encoded data removed]",
      "text/plain": [
       "<Figure size 864x576 with 2 Axes>"
      ]
     },
     "metadata": {
      "needs_background": "light"
     },
     "output_type": "display_data"
    }
   ],
   "source": [
    "df = data_cat_final_r.corr()\n",
    "new_index = df[\"Outcome_yes\"].sort_values(ascending=False, key=abs).index\n",
    "df = df.reindex(new_index)\n",
    "df = df.reindex(new_index, axis=1)\n",
    "\n",
    "plt.figure(figsize=(12,8))\n",
    "sns.heatmap(df, cmap=\"YlGnBu\")\n",
    "plt.show()"
   ]
  },
  {
   "cell_type": "markdown",
   "metadata": {},
   "source": [
    "La variable que más se correlaciona con tener diabetes es tener la glucosa alta (entre 147 y 199) como era de esperable. La variable que más se anticorrelaciona es tener la insulina en niveles medios (entre 30.5 y 94.33)."
   ]
  }
 ],
 "metadata": {
  "kernelspec": {
   "display_name": "Python 3 (ipykernel)",
   "language": "python",
   "name": "python3"
  },
  "language_info": {
   "codemirror_mode": {
    "name": "ipython",
    "version": 3
   },
   "file_extension": ".py",
   "mimetype": "text/x-python",
   "name": "python",
   "nbconvert_exporter": "python",
   "pygments_lexer": "ipython3",
   "version": "3.8.10"
  }
 },
 "nbformat": 4,
 "nbformat_minor": 4
}
