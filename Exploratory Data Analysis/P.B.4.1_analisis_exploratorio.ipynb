{
 "cells": [
  {
   "cell_type": "markdown",
   "metadata": {},
   "source": [
    "<img src=\"https://s3.amazonaws.com/datascienceheroes.com/EDV/360_banner_python.png\" width=\"400px\">\n",
    "\n",
    "\n",
    "# Escuela de Datos Vivos \n",
    "\n",
    "## LAB P.I.4.1: Comenzando con el análisis exploratorio de datos\n",
    "Creado por Pablo Casas | https://escueladedatosvivos.ai   "
   ]
  },
  {
   "cell_type": "markdown",
   "metadata": {},
   "source": [
    "## Ejercicios"
   ]
  },
  {
   "cell_type": "markdown",
   "metadata": {},
   "source": [
    "1) Cargar los datos de 'diabetes':"
   ]
  },
  {
   "cell_type": "markdown",
   "metadata": {},
   "source": [
    "2) Hacer un análisis de frecuencia de la variable a predecir (diabetic_type). ¿Están todas las clases igualmente distribuidas?"
   ]
  },
  {
   "cell_type": "markdown",
   "metadata": {},
   "source": [
    "3) Realizar un análisis univariado de las variables numéricas con las funciones `profiling_num` y `describe` de pandas (¿se animan a trasponer la tabla para que los nombres queden arriba y no al costado? "
   ]
  },
  {
   "cell_type": "markdown",
   "metadata": {},
   "source": [
    "4) ¿Cuáles son las variables que mas dispersión tienen? Analizarlo grafica y analiticamente."
   ]
  },
  {
   "cell_type": "markdown",
   "metadata": {},
   "source": [
    "---"
   ]
  },
  {
   "cell_type": "markdown",
   "metadata": {},
   "source": [
    "## Solución"
   ]
  },
  {
   "cell_type": "code",
   "execution_count": 31,
   "metadata": {},
   "outputs": [],
   "source": [
    "# Cargamos las librerías que utilizaremos en este proyecto\n",
    "\n",
    "import pandas as pd\n",
    "from funpymodeling.exploratory import status, freq_tbl, profiling_num\n",
    "import matplotlib.pyplot as plt\n",
    "import seaborn as sns "
   ]
  },
  {
   "cell_type": "markdown",
   "metadata": {},
   "source": [
    "1) Cargamos los datos"
   ]
  },
  {
   "cell_type": "code",
   "execution_count": 14,
   "metadata": {},
   "outputs": [
    {
     "name": "stdout",
     "output_type": "stream",
     "text": [
      "Cantidad de registros: 2442\n",
      "Cantidad de atributos: 8\n"
     ]
    }
   ],
   "source": [
    "data=pd.read_csv(\"../data/diabetes_multi.csv\", sep = \";\")\n",
    "print(f\"Cantidad de registros: {data.shape[0]}\")\n",
    "print(f\"Cantidad de atributos: {data.shape[1]}\")"
   ]
  },
  {
   "cell_type": "code",
   "execution_count": 10,
   "metadata": {},
   "outputs": [
    {
     "data": {
      "text/html": [
       "<div>\n",
       "<style scoped>\n",
       "    .dataframe tbody tr th:only-of-type {\n",
       "        vertical-align: middle;\n",
       "    }\n",
       "\n",
       "    .dataframe tbody tr th {\n",
       "        vertical-align: top;\n",
       "    }\n",
       "\n",
       "    .dataframe thead th {\n",
       "        text-align: right;\n",
       "    }\n",
       "</style>\n",
       "<table border=\"1\" class=\"dataframe\">\n",
       "  <thead>\n",
       "    <tr style=\"text-align: right;\">\n",
       "      <th></th>\n",
       "      <th>Pregnancies</th>\n",
       "      <th>Glucose</th>\n",
       "      <th>BloodPressure</th>\n",
       "      <th>SkinThickness</th>\n",
       "      <th>Insulin</th>\n",
       "      <th>DiabetesPedigreeFunction</th>\n",
       "      <th>Age</th>\n",
       "      <th>diabetic_type</th>\n",
       "    </tr>\n",
       "  </thead>\n",
       "  <tbody>\n",
       "    <tr>\n",
       "      <th>1284</th>\n",
       "      <td>1</td>\n",
       "      <td>118</td>\n",
       "      <td>58</td>\n",
       "      <td>36</td>\n",
       "      <td>94</td>\n",
       "      <td>0.261</td>\n",
       "      <td>23</td>\n",
       "      <td>pre-diabetic</td>\n",
       "    </tr>\n",
       "    <tr>\n",
       "      <th>2346</th>\n",
       "      <td>1</td>\n",
       "      <td>95</td>\n",
       "      <td>74</td>\n",
       "      <td>21</td>\n",
       "      <td>73</td>\n",
       "      <td>0.673</td>\n",
       "      <td>36</td>\n",
       "      <td>normal</td>\n",
       "    </tr>\n",
       "    <tr>\n",
       "      <th>1102</th>\n",
       "      <td>8</td>\n",
       "      <td>197</td>\n",
       "      <td>74</td>\n",
       "      <td>0</td>\n",
       "      <td>0</td>\n",
       "      <td>1.191</td>\n",
       "      <td>39</td>\n",
       "      <td>diabetic</td>\n",
       "    </tr>\n",
       "    <tr>\n",
       "      <th>1121</th>\n",
       "      <td>14</td>\n",
       "      <td>175</td>\n",
       "      <td>62</td>\n",
       "      <td>30</td>\n",
       "      <td>0</td>\n",
       "      <td>0.212</td>\n",
       "      <td>38</td>\n",
       "      <td>diabetic</td>\n",
       "    </tr>\n",
       "    <tr>\n",
       "      <th>981</th>\n",
       "      <td>0</td>\n",
       "      <td>162</td>\n",
       "      <td>76</td>\n",
       "      <td>56</td>\n",
       "      <td>100</td>\n",
       "      <td>0.759</td>\n",
       "      <td>25</td>\n",
       "      <td>diabetic</td>\n",
       "    </tr>\n",
       "  </tbody>\n",
       "</table>\n",
       "</div>"
      ],
      "text/plain": [
       "      Pregnancies  Glucose  BloodPressure  SkinThickness  Insulin  \\\n",
       "1284            1      118             58             36       94   \n",
       "2346            1       95             74             21       73   \n",
       "1102            8      197             74              0        0   \n",
       "1121           14      175             62             30        0   \n",
       "981             0      162             76             56      100   \n",
       "\n",
       "      DiabetesPedigreeFunction  Age diabetic_type  \n",
       "1284                     0.261   23  pre-diabetic  \n",
       "2346                     0.673   36        normal  \n",
       "1102                     1.191   39      diabetic  \n",
       "1121                     0.212   38      diabetic  \n",
       "981                      0.759   25      diabetic  "
      ]
     },
     "execution_count": 10,
     "metadata": {},
     "output_type": "execute_result"
    }
   ],
   "source": [
    "# Imprimimos 5 registros al azar para una primera inspección de los datos\n",
    "data.sample(5)"
   ]
  },
  {
   "cell_type": "markdown",
   "metadata": {},
   "source": [
    "Vemos que hay 6 variables numéricas: Pregnancies, Glucose, BloodPressure, SkinThickness, Insulin, DiabetesPedigreeFunction, y 2 variables categóricas: Age, diabetic_type. Aunque 'Age' es categórica, es expresada numéricamente."
   ]
  },
  {
   "cell_type": "code",
   "execution_count": 11,
   "metadata": {},
   "outputs": [
    {
     "data": {
      "text/html": [
       "<div>\n",
       "<style scoped>\n",
       "    .dataframe tbody tr th:only-of-type {\n",
       "        vertical-align: middle;\n",
       "    }\n",
       "\n",
       "    .dataframe tbody tr th {\n",
       "        vertical-align: top;\n",
       "    }\n",
       "\n",
       "    .dataframe thead th {\n",
       "        text-align: right;\n",
       "    }\n",
       "</style>\n",
       "<table border=\"1\" class=\"dataframe\">\n",
       "  <thead>\n",
       "    <tr style=\"text-align: right;\">\n",
       "      <th></th>\n",
       "      <th>variable</th>\n",
       "      <th>q_nan</th>\n",
       "      <th>p_nan</th>\n",
       "      <th>q_zeros</th>\n",
       "      <th>p_zeros</th>\n",
       "      <th>unique</th>\n",
       "      <th>type</th>\n",
       "    </tr>\n",
       "  </thead>\n",
       "  <tbody>\n",
       "    <tr>\n",
       "      <th>0</th>\n",
       "      <td>Pregnancies</td>\n",
       "      <td>0</td>\n",
       "      <td>0.0</td>\n",
       "      <td>376</td>\n",
       "      <td>0.153972</td>\n",
       "      <td>17</td>\n",
       "      <td>int64</td>\n",
       "    </tr>\n",
       "    <tr>\n",
       "      <th>1</th>\n",
       "      <td>Glucose</td>\n",
       "      <td>0</td>\n",
       "      <td>0.0</td>\n",
       "      <td>4</td>\n",
       "      <td>0.001638</td>\n",
       "      <td>134</td>\n",
       "      <td>int64</td>\n",
       "    </tr>\n",
       "    <tr>\n",
       "      <th>2</th>\n",
       "      <td>BloodPressure</td>\n",
       "      <td>0</td>\n",
       "      <td>0.0</td>\n",
       "      <td>104</td>\n",
       "      <td>0.042588</td>\n",
       "      <td>47</td>\n",
       "      <td>int64</td>\n",
       "    </tr>\n",
       "    <tr>\n",
       "      <th>3</th>\n",
       "      <td>SkinThickness</td>\n",
       "      <td>0</td>\n",
       "      <td>0.0</td>\n",
       "      <td>765</td>\n",
       "      <td>0.313268</td>\n",
       "      <td>51</td>\n",
       "      <td>int64</td>\n",
       "    </tr>\n",
       "    <tr>\n",
       "      <th>4</th>\n",
       "      <td>Insulin</td>\n",
       "      <td>0</td>\n",
       "      <td>0.0</td>\n",
       "      <td>1193</td>\n",
       "      <td>0.488534</td>\n",
       "      <td>182</td>\n",
       "      <td>int64</td>\n",
       "    </tr>\n",
       "    <tr>\n",
       "      <th>5</th>\n",
       "      <td>DiabetesPedigreeFunction</td>\n",
       "      <td>0</td>\n",
       "      <td>0.0</td>\n",
       "      <td>0</td>\n",
       "      <td>0.000000</td>\n",
       "      <td>496</td>\n",
       "      <td>float64</td>\n",
       "    </tr>\n",
       "    <tr>\n",
       "      <th>6</th>\n",
       "      <td>Age</td>\n",
       "      <td>0</td>\n",
       "      <td>0.0</td>\n",
       "      <td>0</td>\n",
       "      <td>0.000000</td>\n",
       "      <td>52</td>\n",
       "      <td>int64</td>\n",
       "    </tr>\n",
       "    <tr>\n",
       "      <th>7</th>\n",
       "      <td>diabetic_type</td>\n",
       "      <td>0</td>\n",
       "      <td>0.0</td>\n",
       "      <td>0</td>\n",
       "      <td>0.000000</td>\n",
       "      <td>3</td>\n",
       "      <td>object</td>\n",
       "    </tr>\n",
       "  </tbody>\n",
       "</table>\n",
       "</div>"
      ],
      "text/plain": [
       "                   variable  q_nan  p_nan  q_zeros   p_zeros  unique     type\n",
       "0               Pregnancies      0    0.0      376  0.153972      17    int64\n",
       "1                   Glucose      0    0.0        4  0.001638     134    int64\n",
       "2             BloodPressure      0    0.0      104  0.042588      47    int64\n",
       "3             SkinThickness      0    0.0      765  0.313268      51    int64\n",
       "4                   Insulin      0    0.0     1193  0.488534     182    int64\n",
       "5  DiabetesPedigreeFunction      0    0.0        0  0.000000     496  float64\n",
       "6                       Age      0    0.0        0  0.000000      52    int64\n",
       "7             diabetic_type      0    0.0        0  0.000000       3   object"
      ]
     },
     "execution_count": 11,
     "metadata": {},
     "output_type": "execute_result"
    }
   ],
   "source": [
    "# Miramos la cantidad de ceros y valores nulos por cada atributo. También los valores únicos, que dificultan el aprendizaje\n",
    "status(data)"
   ]
  },
  {
   "cell_type": "markdown",
   "metadata": {},
   "source": [
    "Vemos que no hay valores nulos en ninguno de los atributos. Hay valores cero en las variables numéricas, algunos de ellos no tienen sentido (por ejemplo glucosa cero, presión sanguínea cero)."
   ]
  },
  {
   "cell_type": "markdown",
   "metadata": {},
   "source": [
    "2) Análisis de frecuencia de la variable a predecir diabetes_type"
   ]
  },
  {
   "cell_type": "code",
   "execution_count": 26,
   "metadata": {},
   "outputs": [
    {
     "data": {
      "image/png": "[encoded data removed]",
      "text/plain": [
       "<Figure size 800x500 with 1 Axes>"
      ]
     },
     "metadata": {},
     "output_type": "display_data"
    }
   ],
   "source": [
    "# Para la variable categórica de interés hacemos un histograma de frecuencia\n",
    "\n",
    "plt.figure(figsize=(8,5))\n",
    "sns.countplot(y=data['diabetic_type'], order = data['diabetic_type'].value_counts().index)\n",
    "plt.xlabel('Cantidad de casos')\n",
    "plt.show()"
   ]
  },
  {
   "cell_type": "markdown",
   "metadata": {},
   "source": [
    "Podemos ver que no todas las clases están igualmente distribuidas, los casos predominantes corresponden a encuestados etiquedados como diabéticos o pre-diabéticos."
   ]
  },
  {
   "cell_type": "markdown",
   "metadata": {},
   "source": [
    "Hacemos un análisis cuantitativo con la función freq_tbl."
   ]
  },
  {
   "cell_type": "code",
   "execution_count": 30,
   "metadata": {},
   "outputs": [
    {
     "data": {
      "text/html": [
       "<div>\n",
       "<style scoped>\n",
       "    .dataframe tbody tr th:only-of-type {\n",
       "        vertical-align: middle;\n",
       "    }\n",
       "\n",
       "    .dataframe tbody tr th {\n",
       "        vertical-align: top;\n",
       "    }\n",
       "\n",
       "    .dataframe thead th {\n",
       "        text-align: right;\n",
       "    }\n",
       "</style>\n",
       "<table border=\"1\" class=\"dataframe\">\n",
       "  <thead>\n",
       "    <tr style=\"text-align: right;\">\n",
       "      <th></th>\n",
       "      <th>diabetic_type</th>\n",
       "      <th>frequency</th>\n",
       "      <th>percentage</th>\n",
       "      <th>cumulative_perc</th>\n",
       "    </tr>\n",
       "  </thead>\n",
       "  <tbody>\n",
       "    <tr>\n",
       "      <th>0</th>\n",
       "      <td>diabetic</td>\n",
       "      <td>1244</td>\n",
       "      <td>0.509419</td>\n",
       "      <td>0.509419</td>\n",
       "    </tr>\n",
       "    <tr>\n",
       "      <th>1</th>\n",
       "      <td>pre-diabetic</td>\n",
       "      <td>1040</td>\n",
       "      <td>0.425880</td>\n",
       "      <td>0.935299</td>\n",
       "    </tr>\n",
       "    <tr>\n",
       "      <th>2</th>\n",
       "      <td>normal</td>\n",
       "      <td>158</td>\n",
       "      <td>0.064701</td>\n",
       "      <td>1.000000</td>\n",
       "    </tr>\n",
       "  </tbody>\n",
       "</table>\n",
       "</div>"
      ],
      "text/plain": [
       "  diabetic_type  frequency  percentage  cumulative_perc\n",
       "0      diabetic       1244    0.509419         0.509419\n",
       "1  pre-diabetic       1040    0.425880         0.935299\n",
       "2        normal        158    0.064701         1.000000"
      ]
     },
     "execution_count": 30,
     "metadata": {},
     "output_type": "execute_result"
    }
   ],
   "source": [
    "freq_tbl(data.diabetic_type).sort_values(by=\"cumulative_perc\")"
   ]
  },
  {
   "cell_type": "markdown",
   "metadata": {},
   "source": [
    "Vemos que menos del 7% de los registros corresponden a etiquetas \"normal\" para el atributo diabetic_type."
   ]
  },
  {
   "cell_type": "markdown",
   "metadata": {},
   "source": [
    "3) Análisis univariado de las variables numéricas"
   ]
  },
  {
   "cell_type": "code",
   "execution_count": 33,
   "metadata": {},
   "outputs": [
    {
     "data": {
      "text/html": [
       "<div>\n",
       "<style scoped>\n",
       "    .dataframe tbody tr th:only-of-type {\n",
       "        vertical-align: middle;\n",
       "    }\n",
       "\n",
       "    .dataframe tbody tr th {\n",
       "        vertical-align: top;\n",
       "    }\n",
       "\n",
       "    .dataframe thead th {\n",
       "        text-align: right;\n",
       "    }\n",
       "</style>\n",
       "<table border=\"1\" class=\"dataframe\">\n",
       "  <thead>\n",
       "    <tr style=\"text-align: right;\">\n",
       "      <th></th>\n",
       "      <th>Pregnancies</th>\n",
       "      <th>Glucose</th>\n",
       "      <th>BloodPressure</th>\n",
       "      <th>SkinThickness</th>\n",
       "      <th>Insulin</th>\n",
       "      <th>DiabetesPedigreeFunction</th>\n",
       "      <th>Age</th>\n",
       "    </tr>\n",
       "  </thead>\n",
       "  <tbody>\n",
       "    <tr>\n",
       "      <th>count</th>\n",
       "      <td>2442.000000</td>\n",
       "      <td>2442.000000</td>\n",
       "      <td>2442.000000</td>\n",
       "      <td>2442.000000</td>\n",
       "      <td>2442.000000</td>\n",
       "      <td>2442.000000</td>\n",
       "      <td>2442.000000</td>\n",
       "    </tr>\n",
       "    <tr>\n",
       "      <th>mean</th>\n",
       "      <td>4.012695</td>\n",
       "      <td>130.220721</td>\n",
       "      <td>70.282555</td>\n",
       "      <td>20.736282</td>\n",
       "      <td>90.502867</td>\n",
       "      <td>0.482371</td>\n",
       "      <td>34.315725</td>\n",
       "    </tr>\n",
       "    <tr>\n",
       "      <th>std</th>\n",
       "      <td>3.458219</td>\n",
       "      <td>28.056886</td>\n",
       "      <td>19.137154</td>\n",
       "      <td>16.528899</td>\n",
       "      <td>124.752193</td>\n",
       "      <td>0.342914</td>\n",
       "      <td>12.079750</td>\n",
       "    </tr>\n",
       "    <tr>\n",
       "      <th>min</th>\n",
       "      <td>0.000000</td>\n",
       "      <td>0.000000</td>\n",
       "      <td>0.000000</td>\n",
       "      <td>0.000000</td>\n",
       "      <td>0.000000</td>\n",
       "      <td>0.078000</td>\n",
       "      <td>21.000000</td>\n",
       "    </tr>\n",
       "    <tr>\n",
       "      <th>25%</th>\n",
       "      <td>1.000000</td>\n",
       "      <td>109.000000</td>\n",
       "      <td>64.000000</td>\n",
       "      <td>0.000000</td>\n",
       "      <td>0.000000</td>\n",
       "      <td>0.240000</td>\n",
       "      <td>24.000000</td>\n",
       "    </tr>\n",
       "    <tr>\n",
       "      <th>50%</th>\n",
       "      <td>3.000000</td>\n",
       "      <td>125.000000</td>\n",
       "      <td>72.000000</td>\n",
       "      <td>23.000000</td>\n",
       "      <td>42.500000</td>\n",
       "      <td>0.380500</td>\n",
       "      <td>30.000000</td>\n",
       "    </tr>\n",
       "    <tr>\n",
       "      <th>75%</th>\n",
       "      <td>6.000000</td>\n",
       "      <td>147.000000</td>\n",
       "      <td>80.000000</td>\n",
       "      <td>33.000000</td>\n",
       "      <td>146.000000</td>\n",
       "      <td>0.654000</td>\n",
       "      <td>42.000000</td>\n",
       "    </tr>\n",
       "    <tr>\n",
       "      <th>max</th>\n",
       "      <td>17.000000</td>\n",
       "      <td>199.000000</td>\n",
       "      <td>122.000000</td>\n",
       "      <td>99.000000</td>\n",
       "      <td>846.000000</td>\n",
       "      <td>2.420000</td>\n",
       "      <td>81.000000</td>\n",
       "    </tr>\n",
       "  </tbody>\n",
       "</table>\n",
       "</div>"
      ],
      "text/plain": [
       "       Pregnancies      Glucose  BloodPressure  SkinThickness      Insulin  \\\n",
       "count  2442.000000  2442.000000    2442.000000    2442.000000  2442.000000   \n",
       "mean      4.012695   130.220721      70.282555      20.736282    90.502867   \n",
       "std       3.458219    28.056886      19.137154      16.528899   124.752193   \n",
       "min       0.000000     0.000000       0.000000       0.000000     0.000000   \n",
       "25%       1.000000   109.000000      64.000000       0.000000     0.000000   \n",
       "50%       3.000000   125.000000      72.000000      23.000000    42.500000   \n",
       "75%       6.000000   147.000000      80.000000      33.000000   146.000000   \n",
       "max      17.000000   199.000000     122.000000      99.000000   846.000000   \n",
       "\n",
       "       DiabetesPedigreeFunction          Age  \n",
       "count               2442.000000  2442.000000  \n",
       "mean                   0.482371    34.315725  \n",
       "std                    0.342914    12.079750  \n",
       "min                    0.078000    21.000000  \n",
       "25%                    0.240000    24.000000  \n",
       "50%                    0.380500    30.000000  \n",
       "75%                    0.654000    42.000000  \n",
       "max                    2.420000    81.000000  "
      ]
     },
     "execution_count": 33,
     "metadata": {},
     "output_type": "execute_result"
    }
   ],
   "source": [
    "# Con la función describe() de pandas obtenemos cantidades estadísticas de las variables numéricas\n",
    "\n",
    "data.describe()"
   ]
  },
  {
   "cell_type": "markdown",
   "metadata": {},
   "source": [
    "Podemos observar en particular que los valores del atributo Insulin tienen una desviación estándar muy grande comparado con su valor medio. Esto sugiere presencia de outliers."
   ]
  },
  {
   "cell_type": "code",
   "execution_count": 35,
   "metadata": {},
   "outputs": [
    {
     "data": {
      "text/html": [
       "<div>\n",
       "<style scoped>\n",
       "    .dataframe tbody tr th:only-of-type {\n",
       "        vertical-align: middle;\n",
       "    }\n",
       "\n",
       "    .dataframe tbody tr th {\n",
       "        vertical-align: top;\n",
       "    }\n",
       "\n",
       "    .dataframe thead th {\n",
       "        text-align: right;\n",
       "    }\n",
       "</style>\n",
       "<table border=\"1\" class=\"dataframe\">\n",
       "  <thead>\n",
       "    <tr style=\"text-align: right;\">\n",
       "      <th></th>\n",
       "      <th>0</th>\n",
       "      <th>1</th>\n",
       "      <th>2</th>\n",
       "      <th>3</th>\n",
       "      <th>4</th>\n",
       "      <th>5</th>\n",
       "      <th>6</th>\n",
       "    </tr>\n",
       "  </thead>\n",
       "  <tbody>\n",
       "    <tr>\n",
       "      <th>variable</th>\n",
       "      <td>Pregnancies</td>\n",
       "      <td>Glucose</td>\n",
       "      <td>BloodPressure</td>\n",
       "      <td>SkinThickness</td>\n",
       "      <td>Insulin</td>\n",
       "      <td>DiabetesPedigreeFunction</td>\n",
       "      <td>Age</td>\n",
       "    </tr>\n",
       "    <tr>\n",
       "      <th>mean</th>\n",
       "      <td>4.012695</td>\n",
       "      <td>130.220721</td>\n",
       "      <td>70.282555</td>\n",
       "      <td>20.736282</td>\n",
       "      <td>90.502867</td>\n",
       "      <td>0.482371</td>\n",
       "      <td>34.315725</td>\n",
       "    </tr>\n",
       "    <tr>\n",
       "      <th>std_dev</th>\n",
       "      <td>3.458219</td>\n",
       "      <td>28.056886</td>\n",
       "      <td>19.137154</td>\n",
       "      <td>16.528899</td>\n",
       "      <td>124.752193</td>\n",
       "      <td>0.342914</td>\n",
       "      <td>12.07975</td>\n",
       "    </tr>\n",
       "    <tr>\n",
       "      <th>variation_coef</th>\n",
       "      <td>0.86182</td>\n",
       "      <td>0.215456</td>\n",
       "      <td>0.272289</td>\n",
       "      <td>0.7971</td>\n",
       "      <td>1.378434</td>\n",
       "      <td>0.710893</td>\n",
       "      <td>0.352018</td>\n",
       "    </tr>\n",
       "    <tr>\n",
       "      <th>p_0.01</th>\n",
       "      <td>0.0</td>\n",
       "      <td>76.0</td>\n",
       "      <td>0.0</td>\n",
       "      <td>0.0</td>\n",
       "      <td>0.0</td>\n",
       "      <td>0.1</td>\n",
       "      <td>21.0</td>\n",
       "    </tr>\n",
       "    <tr>\n",
       "      <th>p_0.05</th>\n",
       "      <td>0.0</td>\n",
       "      <td>95.0</td>\n",
       "      <td>44.0</td>\n",
       "      <td>0.0</td>\n",
       "      <td>0.0</td>\n",
       "      <td>0.14</td>\n",
       "      <td>21.0</td>\n",
       "    </tr>\n",
       "    <tr>\n",
       "      <th>p_0.25</th>\n",
       "      <td>1.0</td>\n",
       "      <td>109.0</td>\n",
       "      <td>64.0</td>\n",
       "      <td>0.0</td>\n",
       "      <td>0.0</td>\n",
       "      <td>0.24</td>\n",
       "      <td>24.0</td>\n",
       "    </tr>\n",
       "    <tr>\n",
       "      <th>p_0.5</th>\n",
       "      <td>3.0</td>\n",
       "      <td>125.0</td>\n",
       "      <td>72.0</td>\n",
       "      <td>23.0</td>\n",
       "      <td>42.5</td>\n",
       "      <td>0.3805</td>\n",
       "      <td>30.0</td>\n",
       "    </tr>\n",
       "    <tr>\n",
       "      <th>p_0.75</th>\n",
       "      <td>6.0</td>\n",
       "      <td>147.0</td>\n",
       "      <td>80.0</td>\n",
       "      <td>33.0</td>\n",
       "      <td>146.0</td>\n",
       "      <td>0.654</td>\n",
       "      <td>42.0</td>\n",
       "    </tr>\n",
       "    <tr>\n",
       "      <th>p_0.95</th>\n",
       "      <td>10.0</td>\n",
       "      <td>184.0</td>\n",
       "      <td>92.0</td>\n",
       "      <td>45.0</td>\n",
       "      <td>325.0</td>\n",
       "      <td>1.154</td>\n",
       "      <td>59.0</td>\n",
       "    </tr>\n",
       "    <tr>\n",
       "      <th>p_0.99</th>\n",
       "      <td>13.0</td>\n",
       "      <td>196.0</td>\n",
       "      <td>107.18</td>\n",
       "      <td>52.0</td>\n",
       "      <td>543.0</td>\n",
       "      <td>1.731</td>\n",
       "      <td>67.0</td>\n",
       "    </tr>\n",
       "  </tbody>\n",
       "</table>\n",
       "</div>"
      ],
      "text/plain": [
       "                          0           1              2              3  \\\n",
       "variable        Pregnancies     Glucose  BloodPressure  SkinThickness   \n",
       "mean               4.012695  130.220721      70.282555      20.736282   \n",
       "std_dev            3.458219   28.056886      19.137154      16.528899   \n",
       "variation_coef      0.86182    0.215456       0.272289         0.7971   \n",
       "p_0.01                  0.0        76.0            0.0            0.0   \n",
       "p_0.05                  0.0        95.0           44.0            0.0   \n",
       "p_0.25                  1.0       109.0           64.0            0.0   \n",
       "p_0.5                   3.0       125.0           72.0           23.0   \n",
       "p_0.75                  6.0       147.0           80.0           33.0   \n",
       "p_0.95                 10.0       184.0           92.0           45.0   \n",
       "p_0.99                 13.0       196.0         107.18           52.0   \n",
       "\n",
       "                         4                         5          6  \n",
       "variable           Insulin  DiabetesPedigreeFunction        Age  \n",
       "mean             90.502867                  0.482371  34.315725  \n",
       "std_dev         124.752193                  0.342914   12.07975  \n",
       "variation_coef    1.378434                  0.710893   0.352018  \n",
       "p_0.01                 0.0                       0.1       21.0  \n",
       "p_0.05                 0.0                      0.14       21.0  \n",
       "p_0.25                 0.0                      0.24       24.0  \n",
       "p_0.5                 42.5                    0.3805       30.0  \n",
       "p_0.75               146.0                     0.654       42.0  \n",
       "p_0.95               325.0                     1.154       59.0  \n",
       "p_0.99               543.0                     1.731       67.0  "
      ]
     },
     "execution_count": 35,
     "metadata": {},
     "output_type": "execute_result"
    }
   ],
   "source": [
    "# Las variables numéricas también pueden ser exploradas estadísticamente con el método profiling_num\n",
    "\n",
    "profiling_num(data).T"
   ]
  },
  {
   "cell_type": "markdown",
   "metadata": {},
   "source": [
    "Verificamos que el atributo Insulin presenta outliers, pues el percentil 0.99 corresponde al valor 543, pero el valor máximo es 846."
   ]
  },
  {
   "cell_type": "markdown",
   "metadata": {},
   "source": [
    "4) Analizamos la dispersión de los datos para cada variable numérica"
   ]
  },
  {
   "cell_type": "code",
   "execution_count": 40,
   "metadata": {},
   "outputs": [
    {
     "data": {
      "text/plain": [
       "<Figure size 640x480 with 0 Axes>"
      ]
     },
     "metadata": {},
     "output_type": "display_data"
    },
    {
     "data": {
      "image/png": "[encoded data removed]",
      "text/plain": [
       "<Figure size 1000x1000 with 9 Axes>"
      ]
     },
     "metadata": {},
     "output_type": "display_data"
    }
   ],
   "source": [
    "# Hacemos un histograma de las variables numéricas con el método hist() de pandas\n",
    "# Variables numéricas: Pregnancies, Glucose, BloodPressure, SkinThickness, Insulin, DiabetesPedrigreeFunction, Age\n",
    "\n",
    "plt.figure()\n",
    "data.hist(figsize = (10,10))\n",
    "plt.show()"
   ]
  },
  {
   "cell_type": "markdown",
   "metadata": {},
   "source": [
    "Las variables que más dispersipon tienen son Pregnancies, Insuline, y SkinThickness. Esto es consistente con el coeficiente de variación obtenido con el método profiling_num. Es importante notar que existen valores imposibles como tener BloodPressure o Glucose igual a 0."
   ]
  }
 ],
 "metadata": {
  "kernelspec": {
   "display_name": "Python 3 (ipykernel)",
   "language": "python",
   "name": "python3"
  },
  "language_info": {
   "codemirror_mode": {
    "name": "ipython",
    "version": 3
   },
   "file_extension": ".py",
   "mimetype": "text/x-python",
   "name": "python",
   "nbconvert_exporter": "python",
   "pygments_lexer": "ipython3",
   "version": "3.8.10"
  }
 },
 "nbformat": 4,
 "nbformat_minor": 4
}
