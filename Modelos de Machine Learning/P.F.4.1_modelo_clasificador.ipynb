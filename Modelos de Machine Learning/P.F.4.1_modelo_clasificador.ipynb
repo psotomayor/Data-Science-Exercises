{
 "cells": [
  {
   "cell_type": "markdown",
   "metadata": {},
   "source": [
    "<img src=\"https://s3.amazonaws.com/datascienceheroes.com/EDV/360_banner_python.png\" width=\"400px\">\n",
    "\n",
    "# Escuela de Datos Vivos\n",
    "## LAB P.F.4.1: Modelo de clasificación\n",
    "Creado por Pablo Casas | https://escueladedatosvivos.ai    "
   ]
  },
  {
   "cell_type": "markdown",
   "metadata": {},
   "source": [
    "Resuelto por Pablo Sotomayor"
   ]
  },
  {
   "cell_type": "markdown",
   "metadata": {},
   "source": [
    "---"
   ]
  },
  {
   "cell_type": "markdown",
   "metadata": {},
   "source": [
    "## Ejercicios"
   ]
  },
  {
   "cell_type": "markdown",
   "metadata": {},
   "source": [
    "Crear un clasificador de SPAM, basadose en una tabla pre-procesada. "
   ]
  },
  {
   "cell_type": "markdown",
   "metadata": {},
   "source": [
    "1) Separar TR/TS. \n",
    "\n",
    "2) Crear un random forest, u otro modelo, ¿se animan? \n",
    "\n",
    "3) Calcular curva ROC\n",
    "\n",
    "4) Al revés del lab, calcular la matriz de confusión con punto de corte de 0.5, y con el punto que devuelva `discrimination_threshold`\n",
    "\n",
    "5) Comparar ambas matrices de confusión, cual tiene mejor tasa de True Positives?\n",
    "\n"
   ]
  },
  {
   "cell_type": "markdown",
   "metadata": {},
   "source": [
    "## Solución"
   ]
  },
  {
   "cell_type": "code",
   "execution_count": 216,
   "metadata": {},
   "outputs": [],
   "source": [
    "# Librerías que vamos a utilizar\n",
    "\n",
    "import warnings\n",
    "import numpy as np\n",
    "import pandas as pd\n",
    "import matplotlib.pyplot as plt\n",
    "import seaborn as sns\n",
    "from funpymodeling import status\n",
    "from sklearn.model_selection import train_test_split\n",
    "from sklearn.ensemble import RandomForestClassifier\n",
    "from sklearn.metrics import plot_roc_curve\n",
    "from sklearn.metrics import plot_confusion_matrix\n",
    "from yellowbrick.classifier.threshold import discrimination_threshold\n",
    "\n",
    "warnings.filterwarnings('ignore')\n",
    "%matplotlib inline"
   ]
  },
  {
   "cell_type": "markdown",
   "metadata": {},
   "source": [
    "1) Carga de datos"
   ]
  },
  {
   "cell_type": "code",
   "execution_count": 14,
   "metadata": {},
   "outputs": [
    {
     "name": "stdout",
     "output_type": "stream",
     "text": [
      "Cantidad de registros: 4600\n",
      "Cantidad de variables: 59\n"
     ]
    }
   ],
   "source": [
    "data = pd.read_csv('../data/spam_data.csv')\n",
    "\n",
    "print(f\"Cantidad de registros: {data.shape[0]}\")\n",
    "print(f\"Cantidad de variables: {data.shape[1]}\")"
   ]
  },
  {
   "cell_type": "markdown",
   "metadata": {},
   "source": [
    "Inspeccionamos los datos elegiendo una muestra al azar"
   ]
  },
  {
   "cell_type": "code",
   "execution_count": 15,
   "metadata": {},
   "outputs": [
    {
     "data": {
      "text/html": [
       "<div>\n",
       "<style scoped>\n",
       "    .dataframe tbody tr th:only-of-type {\n",
       "        vertical-align: middle;\n",
       "    }\n",
       "\n",
       "    .dataframe tbody tr th {\n",
       "        vertical-align: top;\n",
       "    }\n",
       "\n",
       "    .dataframe thead th {\n",
       "        text-align: right;\n",
       "    }\n",
       "</style>\n",
       "<table border=\"1\" class=\"dataframe\">\n",
       "  <thead>\n",
       "    <tr style=\"text-align: right;\">\n",
       "      <th></th>\n",
       "      <th>Unnamed: 0</th>\n",
       "      <th>word_freq_make</th>\n",
       "      <th>word_freq_address</th>\n",
       "      <th>word_freq_all</th>\n",
       "      <th>word_freq_3d</th>\n",
       "      <th>word_freq_our</th>\n",
       "      <th>word_freq_over</th>\n",
       "      <th>word_freq_remove</th>\n",
       "      <th>word_freq_internet</th>\n",
       "      <th>word_freq_order</th>\n",
       "      <th>...</th>\n",
       "      <th>char_freq_;</th>\n",
       "      <th>char_freq_(</th>\n",
       "      <th>char_freq_[</th>\n",
       "      <th>char_freq_!</th>\n",
       "      <th>char_freq_$</th>\n",
       "      <th>char_freq_#</th>\n",
       "      <th>capital_run_length_average</th>\n",
       "      <th>capital_run_length_longest</th>\n",
       "      <th>capital_run_length_total</th>\n",
       "      <th>is_spam</th>\n",
       "    </tr>\n",
       "  </thead>\n",
       "  <tbody>\n",
       "    <tr>\n",
       "      <th>1954</th>\n",
       "      <td>1954</td>\n",
       "      <td>0.42</td>\n",
       "      <td>0.0</td>\n",
       "      <td>0.0</td>\n",
       "      <td>0.0</td>\n",
       "      <td>0.00</td>\n",
       "      <td>0.0</td>\n",
       "      <td>0.00</td>\n",
       "      <td>0.0</td>\n",
       "      <td>0.0</td>\n",
       "      <td>...</td>\n",
       "      <td>0.000</td>\n",
       "      <td>0.000</td>\n",
       "      <td>0.000</td>\n",
       "      <td>0.151</td>\n",
       "      <td>0.0</td>\n",
       "      <td>0.0</td>\n",
       "      <td>1.533</td>\n",
       "      <td>9</td>\n",
       "      <td>69</td>\n",
       "      <td>0</td>\n",
       "    </tr>\n",
       "    <tr>\n",
       "      <th>2326</th>\n",
       "      <td>2326</td>\n",
       "      <td>0.00</td>\n",
       "      <td>0.0</td>\n",
       "      <td>0.0</td>\n",
       "      <td>0.0</td>\n",
       "      <td>0.00</td>\n",
       "      <td>0.0</td>\n",
       "      <td>0.00</td>\n",
       "      <td>0.0</td>\n",
       "      <td>0.0</td>\n",
       "      <td>...</td>\n",
       "      <td>0.000</td>\n",
       "      <td>0.664</td>\n",
       "      <td>0.000</td>\n",
       "      <td>0.000</td>\n",
       "      <td>0.0</td>\n",
       "      <td>0.0</td>\n",
       "      <td>3.157</td>\n",
       "      <td>11</td>\n",
       "      <td>60</td>\n",
       "      <td>0</td>\n",
       "    </tr>\n",
       "    <tr>\n",
       "      <th>97</th>\n",
       "      <td>97</td>\n",
       "      <td>0.00</td>\n",
       "      <td>0.0</td>\n",
       "      <td>0.0</td>\n",
       "      <td>0.0</td>\n",
       "      <td>0.00</td>\n",
       "      <td>0.6</td>\n",
       "      <td>0.00</td>\n",
       "      <td>0.0</td>\n",
       "      <td>0.0</td>\n",
       "      <td>...</td>\n",
       "      <td>0.207</td>\n",
       "      <td>0.518</td>\n",
       "      <td>0.414</td>\n",
       "      <td>0.310</td>\n",
       "      <td>0.0</td>\n",
       "      <td>0.0</td>\n",
       "      <td>4.897</td>\n",
       "      <td>17</td>\n",
       "      <td>191</td>\n",
       "      <td>1</td>\n",
       "    </tr>\n",
       "    <tr>\n",
       "      <th>2843</th>\n",
       "      <td>2843</td>\n",
       "      <td>0.00</td>\n",
       "      <td>0.0</td>\n",
       "      <td>0.0</td>\n",
       "      <td>0.0</td>\n",
       "      <td>0.00</td>\n",
       "      <td>0.0</td>\n",
       "      <td>0.00</td>\n",
       "      <td>0.0</td>\n",
       "      <td>0.0</td>\n",
       "      <td>...</td>\n",
       "      <td>0.000</td>\n",
       "      <td>0.227</td>\n",
       "      <td>0.227</td>\n",
       "      <td>0.000</td>\n",
       "      <td>0.0</td>\n",
       "      <td>0.0</td>\n",
       "      <td>4.043</td>\n",
       "      <td>28</td>\n",
       "      <td>186</td>\n",
       "      <td>0</td>\n",
       "    </tr>\n",
       "    <tr>\n",
       "      <th>1441</th>\n",
       "      <td>1441</td>\n",
       "      <td>0.00</td>\n",
       "      <td>0.0</td>\n",
       "      <td>0.0</td>\n",
       "      <td>0.0</td>\n",
       "      <td>0.97</td>\n",
       "      <td>0.0</td>\n",
       "      <td>0.97</td>\n",
       "      <td>0.0</td>\n",
       "      <td>0.0</td>\n",
       "      <td>...</td>\n",
       "      <td>0.000</td>\n",
       "      <td>0.000</td>\n",
       "      <td>0.000</td>\n",
       "      <td>0.834</td>\n",
       "      <td>0.0</td>\n",
       "      <td>0.0</td>\n",
       "      <td>3.052</td>\n",
       "      <td>68</td>\n",
       "      <td>116</td>\n",
       "      <td>1</td>\n",
       "    </tr>\n",
       "  </tbody>\n",
       "</table>\n",
       "<p>5 rows × 59 columns</p>\n",
       "</div>"
      ],
      "text/plain": [
       "      Unnamed: 0  word_freq_make  word_freq_address  word_freq_all  \\\n",
       "1954        1954            0.42                0.0            0.0   \n",
       "2326        2326            0.00                0.0            0.0   \n",
       "97            97            0.00                0.0            0.0   \n",
       "2843        2843            0.00                0.0            0.0   \n",
       "1441        1441            0.00                0.0            0.0   \n",
       "\n",
       "      word_freq_3d  word_freq_our  word_freq_over  word_freq_remove  \\\n",
       "1954           0.0           0.00             0.0              0.00   \n",
       "2326           0.0           0.00             0.0              0.00   \n",
       "97             0.0           0.00             0.6              0.00   \n",
       "2843           0.0           0.00             0.0              0.00   \n",
       "1441           0.0           0.97             0.0              0.97   \n",
       "\n",
       "      word_freq_internet  word_freq_order  ...  char_freq_;  char_freq_(  \\\n",
       "1954                 0.0              0.0  ...        0.000        0.000   \n",
       "2326                 0.0              0.0  ...        0.000        0.664   \n",
       "97                   0.0              0.0  ...        0.207        0.518   \n",
       "2843                 0.0              0.0  ...        0.000        0.227   \n",
       "1441                 0.0              0.0  ...        0.000        0.000   \n",
       "\n",
       "      char_freq_[  char_freq_!  char_freq_$  char_freq_#  \\\n",
       "1954        0.000        0.151          0.0          0.0   \n",
       "2326        0.000        0.000          0.0          0.0   \n",
       "97          0.414        0.310          0.0          0.0   \n",
       "2843        0.227        0.000          0.0          0.0   \n",
       "1441        0.000        0.834          0.0          0.0   \n",
       "\n",
       "      capital_run_length_average  capital_run_length_longest  \\\n",
       "1954                       1.533                           9   \n",
       "2326                       3.157                          11   \n",
       "97                         4.897                          17   \n",
       "2843                       4.043                          28   \n",
       "1441                       3.052                          68   \n",
       "\n",
       "      capital_run_length_total  is_spam  \n",
       "1954                        69        0  \n",
       "2326                        60        0  \n",
       "97                         191        1  \n",
       "2843                       186        0  \n",
       "1441                       116        1  \n",
       "\n",
       "[5 rows x 59 columns]"
      ]
     },
     "execution_count": 15,
     "metadata": {},
     "output_type": "execute_result"
    }
   ],
   "source": [
    "data.sample(5)"
   ]
  },
  {
   "cell_type": "markdown",
   "metadata": {},
   "source": [
    "Vemos que la columna \"Unnamed: 0\" no da información, pues es el índice del dato. Eliminamos ese atributo"
   ]
  },
  {
   "cell_type": "code",
   "execution_count": 16,
   "metadata": {},
   "outputs": [],
   "source": [
    "data = data.drop(\"Unnamed: 0\", axis=1)"
   ]
  },
  {
   "cell_type": "markdown",
   "metadata": {},
   "source": [
    "Revisamos el estado de los datos"
   ]
  },
  {
   "cell_type": "code",
   "execution_count": 18,
   "metadata": {},
   "outputs": [
    {
     "data": {
      "text/html": [
       "<div>\n",
       "<style scoped>\n",
       "    .dataframe tbody tr th:only-of-type {\n",
       "        vertical-align: middle;\n",
       "    }\n",
       "\n",
       "    .dataframe tbody tr th {\n",
       "        vertical-align: top;\n",
       "    }\n",
       "\n",
       "    .dataframe thead th {\n",
       "        text-align: right;\n",
       "    }\n",
       "</style>\n",
       "<table border=\"1\" class=\"dataframe\">\n",
       "  <thead>\n",
       "    <tr style=\"text-align: right;\">\n",
       "      <th></th>\n",
       "      <th>variable</th>\n",
       "      <th>q_nan</th>\n",
       "      <th>p_nan</th>\n",
       "      <th>q_zeros</th>\n",
       "      <th>p_zeros</th>\n",
       "      <th>unique</th>\n",
       "      <th>type</th>\n",
       "    </tr>\n",
       "  </thead>\n",
       "  <tbody>\n",
       "    <tr>\n",
       "      <th>56</th>\n",
       "      <td>capital_run_length_total</td>\n",
       "      <td>0</td>\n",
       "      <td>0.0</td>\n",
       "      <td>0</td>\n",
       "      <td>0.000000</td>\n",
       "      <td>919</td>\n",
       "      <td>int64</td>\n",
       "    </tr>\n",
       "    <tr>\n",
       "      <th>55</th>\n",
       "      <td>capital_run_length_longest</td>\n",
       "      <td>0</td>\n",
       "      <td>0.0</td>\n",
       "      <td>0</td>\n",
       "      <td>0.000000</td>\n",
       "      <td>271</td>\n",
       "      <td>int64</td>\n",
       "    </tr>\n",
       "    <tr>\n",
       "      <th>57</th>\n",
       "      <td>is_spam</td>\n",
       "      <td>0</td>\n",
       "      <td>0.0</td>\n",
       "      <td>2788</td>\n",
       "      <td>0.606087</td>\n",
       "      <td>2</td>\n",
       "      <td>int64</td>\n",
       "    </tr>\n",
       "    <tr>\n",
       "      <th>54</th>\n",
       "      <td>capital_run_length_average</td>\n",
       "      <td>0</td>\n",
       "      <td>0.0</td>\n",
       "      <td>0</td>\n",
       "      <td>0.000000</td>\n",
       "      <td>2160</td>\n",
       "      <td>float64</td>\n",
       "    </tr>\n",
       "    <tr>\n",
       "      <th>51</th>\n",
       "      <td>char_freq_!</td>\n",
       "      <td>0</td>\n",
       "      <td>0.0</td>\n",
       "      <td>2343</td>\n",
       "      <td>0.509348</td>\n",
       "      <td>963</td>\n",
       "      <td>float64</td>\n",
       "    </tr>\n",
       "    <tr>\n",
       "      <th>49</th>\n",
       "      <td>char_freq_(</td>\n",
       "      <td>0</td>\n",
       "      <td>0.0</td>\n",
       "      <td>1885</td>\n",
       "      <td>0.409783</td>\n",
       "      <td>641</td>\n",
       "      <td>float64</td>\n",
       "    </tr>\n",
       "    <tr>\n",
       "      <th>18</th>\n",
       "      <td>word_freq_you</td>\n",
       "      <td>0</td>\n",
       "      <td>0.0</td>\n",
       "      <td>1374</td>\n",
       "      <td>0.298696</td>\n",
       "      <td>575</td>\n",
       "      <td>float64</td>\n",
       "    </tr>\n",
       "    <tr>\n",
       "      <th>52</th>\n",
       "      <td>char_freq_$</td>\n",
       "      <td>0</td>\n",
       "      <td>0.0</td>\n",
       "      <td>3200</td>\n",
       "      <td>0.695652</td>\n",
       "      <td>504</td>\n",
       "      <td>float64</td>\n",
       "    </tr>\n",
       "    <tr>\n",
       "      <th>20</th>\n",
       "      <td>word_freq_your</td>\n",
       "      <td>0</td>\n",
       "      <td>0.0</td>\n",
       "      <td>2178</td>\n",
       "      <td>0.473478</td>\n",
       "      <td>401</td>\n",
       "      <td>float64</td>\n",
       "    </tr>\n",
       "    <tr>\n",
       "      <th>24</th>\n",
       "      <td>word_freq_hp</td>\n",
       "      <td>0</td>\n",
       "      <td>0.0</td>\n",
       "      <td>3510</td>\n",
       "      <td>0.763043</td>\n",
       "      <td>395</td>\n",
       "      <td>float64</td>\n",
       "    </tr>\n",
       "    <tr>\n",
       "      <th>11</th>\n",
       "      <td>word_freq_will</td>\n",
       "      <td>0</td>\n",
       "      <td>0.0</td>\n",
       "      <td>2276</td>\n",
       "      <td>0.494783</td>\n",
       "      <td>316</td>\n",
       "      <td>float64</td>\n",
       "    </tr>\n",
       "    <tr>\n",
       "      <th>53</th>\n",
       "      <td>char_freq_#</td>\n",
       "      <td>0</td>\n",
       "      <td>0.0</td>\n",
       "      <td>3850</td>\n",
       "      <td>0.836957</td>\n",
       "      <td>316</td>\n",
       "      <td>float64</td>\n",
       "    </tr>\n",
       "    <tr>\n",
       "      <th>48</th>\n",
       "      <td>char_freq_;</td>\n",
       "      <td>0</td>\n",
       "      <td>0.0</td>\n",
       "      <td>3810</td>\n",
       "      <td>0.828261</td>\n",
       "      <td>313</td>\n",
       "      <td>float64</td>\n",
       "    </tr>\n",
       "    <tr>\n",
       "      <th>25</th>\n",
       "      <td>word_freq_hpl</td>\n",
       "      <td>0</td>\n",
       "      <td>0.0</td>\n",
       "      <td>3789</td>\n",
       "      <td>0.823696</td>\n",
       "      <td>281</td>\n",
       "      <td>float64</td>\n",
       "    </tr>\n",
       "    <tr>\n",
       "      <th>4</th>\n",
       "      <td>word_freq_our</td>\n",
       "      <td>0</td>\n",
       "      <td>0.0</td>\n",
       "      <td>2853</td>\n",
       "      <td>0.620217</td>\n",
       "      <td>255</td>\n",
       "      <td>float64</td>\n",
       "    </tr>\n",
       "    <tr>\n",
       "      <th>15</th>\n",
       "      <td>word_freq_free</td>\n",
       "      <td>0</td>\n",
       "      <td>0.0</td>\n",
       "      <td>3360</td>\n",
       "      <td>0.730435</td>\n",
       "      <td>253</td>\n",
       "      <td>float64</td>\n",
       "    </tr>\n",
       "    <tr>\n",
       "      <th>9</th>\n",
       "      <td>word_freq_mail</td>\n",
       "      <td>0</td>\n",
       "      <td>0.0</td>\n",
       "      <td>3298</td>\n",
       "      <td>0.716957</td>\n",
       "      <td>245</td>\n",
       "      <td>float64</td>\n",
       "    </tr>\n",
       "    <tr>\n",
       "      <th>26</th>\n",
       "      <td>word_freq_george</td>\n",
       "      <td>0</td>\n",
       "      <td>0.0</td>\n",
       "      <td>3820</td>\n",
       "      <td>0.830435</td>\n",
       "      <td>240</td>\n",
       "      <td>float64</td>\n",
       "    </tr>\n",
       "    <tr>\n",
       "      <th>44</th>\n",
       "      <td>word_freq_re</td>\n",
       "      <td>0</td>\n",
       "      <td>0.0</td>\n",
       "      <td>3289</td>\n",
       "      <td>0.715000</td>\n",
       "      <td>230</td>\n",
       "      <td>float64</td>\n",
       "    </tr>\n",
       "    <tr>\n",
       "      <th>17</th>\n",
       "      <td>word_freq_email</td>\n",
       "      <td>0</td>\n",
       "      <td>0.0</td>\n",
       "      <td>3563</td>\n",
       "      <td>0.774565</td>\n",
       "      <td>229</td>\n",
       "      <td>float64</td>\n",
       "    </tr>\n",
       "    <tr>\n",
       "      <th>45</th>\n",
       "      <td>word_freq_edu</td>\n",
       "      <td>0</td>\n",
       "      <td>0.0</td>\n",
       "      <td>4083</td>\n",
       "      <td>0.887609</td>\n",
       "      <td>227</td>\n",
       "      <td>float64</td>\n",
       "    </tr>\n",
       "    <tr>\n",
       "      <th>50</th>\n",
       "      <td>char_freq_[</td>\n",
       "      <td>0</td>\n",
       "      <td>0.0</td>\n",
       "      <td>4071</td>\n",
       "      <td>0.885000</td>\n",
       "      <td>225</td>\n",
       "      <td>float64</td>\n",
       "    </tr>\n",
       "    <tr>\n",
       "      <th>2</th>\n",
       "      <td>word_freq_all</td>\n",
       "      <td>0</td>\n",
       "      <td>0.0</td>\n",
       "      <td>2713</td>\n",
       "      <td>0.589783</td>\n",
       "      <td>214</td>\n",
       "      <td>float64</td>\n",
       "    </tr>\n",
       "    <tr>\n",
       "      <th>27</th>\n",
       "      <td>word_freq_650</td>\n",
       "      <td>0</td>\n",
       "      <td>0.0</td>\n",
       "      <td>4137</td>\n",
       "      <td>0.899348</td>\n",
       "      <td>200</td>\n",
       "      <td>float64</td>\n",
       "    </tr>\n",
       "    <tr>\n",
       "      <th>16</th>\n",
       "      <td>word_freq_business</td>\n",
       "      <td>0</td>\n",
       "      <td>0.0</td>\n",
       "      <td>3637</td>\n",
       "      <td>0.790652</td>\n",
       "      <td>197</td>\n",
       "      <td>float64</td>\n",
       "    </tr>\n",
       "    <tr>\n",
       "      <th>36</th>\n",
       "      <td>word_freq_1999</td>\n",
       "      <td>0</td>\n",
       "      <td>0.0</td>\n",
       "      <td>3771</td>\n",
       "      <td>0.819783</td>\n",
       "      <td>188</td>\n",
       "      <td>float64</td>\n",
       "    </tr>\n",
       "    <tr>\n",
       "      <th>41</th>\n",
       "      <td>word_freq_meeting</td>\n",
       "      <td>0</td>\n",
       "      <td>0.0</td>\n",
       "      <td>4259</td>\n",
       "      <td>0.925870</td>\n",
       "      <td>186</td>\n",
       "      <td>float64</td>\n",
       "    </tr>\n",
       "    <tr>\n",
       "      <th>32</th>\n",
       "      <td>word_freq_data</td>\n",
       "      <td>0</td>\n",
       "      <td>0.0</td>\n",
       "      <td>4195</td>\n",
       "      <td>0.911957</td>\n",
       "      <td>184</td>\n",
       "      <td>float64</td>\n",
       "    </tr>\n",
       "    <tr>\n",
       "      <th>29</th>\n",
       "      <td>word_freq_labs</td>\n",
       "      <td>0</td>\n",
       "      <td>0.0</td>\n",
       "      <td>4131</td>\n",
       "      <td>0.898043</td>\n",
       "      <td>179</td>\n",
       "      <td>float64</td>\n",
       "    </tr>\n",
       "    <tr>\n",
       "      <th>34</th>\n",
       "      <td>word_freq_85</td>\n",
       "      <td>0</td>\n",
       "      <td>0.0</td>\n",
       "      <td>4115</td>\n",
       "      <td>0.894565</td>\n",
       "      <td>177</td>\n",
       "      <td>float64</td>\n",
       "    </tr>\n",
       "    <tr>\n",
       "      <th>6</th>\n",
       "      <td>word_freq_remove</td>\n",
       "      <td>0</td>\n",
       "      <td>0.0</td>\n",
       "      <td>3793</td>\n",
       "      <td>0.824565</td>\n",
       "      <td>173</td>\n",
       "      <td>float64</td>\n",
       "    </tr>\n",
       "    <tr>\n",
       "      <th>1</th>\n",
       "      <td>word_freq_address</td>\n",
       "      <td>0</td>\n",
       "      <td>0.0</td>\n",
       "      <td>3703</td>\n",
       "      <td>0.805000</td>\n",
       "      <td>171</td>\n",
       "      <td>float64</td>\n",
       "    </tr>\n",
       "    <tr>\n",
       "      <th>7</th>\n",
       "      <td>word_freq_internet</td>\n",
       "      <td>0</td>\n",
       "      <td>0.0</td>\n",
       "      <td>3776</td>\n",
       "      <td>0.820870</td>\n",
       "      <td>170</td>\n",
       "      <td>float64</td>\n",
       "    </tr>\n",
       "    <tr>\n",
       "      <th>22</th>\n",
       "      <td>word_freq_000</td>\n",
       "      <td>0</td>\n",
       "      <td>0.0</td>\n",
       "      <td>3921</td>\n",
       "      <td>0.852391</td>\n",
       "      <td>164</td>\n",
       "      <td>float64</td>\n",
       "    </tr>\n",
       "    <tr>\n",
       "      <th>38</th>\n",
       "      <td>word_freq_pm</td>\n",
       "      <td>0</td>\n",
       "      <td>0.0</td>\n",
       "      <td>4216</td>\n",
       "      <td>0.916522</td>\n",
       "      <td>163</td>\n",
       "      <td>float64</td>\n",
       "    </tr>\n",
       "    <tr>\n",
       "      <th>43</th>\n",
       "      <td>word_freq_project</td>\n",
       "      <td>0</td>\n",
       "      <td>0.0</td>\n",
       "      <td>4273</td>\n",
       "      <td>0.928913</td>\n",
       "      <td>160</td>\n",
       "      <td>float64</td>\n",
       "    </tr>\n",
       "    <tr>\n",
       "      <th>35</th>\n",
       "      <td>word_freq_technology</td>\n",
       "      <td>0</td>\n",
       "      <td>0.0</td>\n",
       "      <td>4001</td>\n",
       "      <td>0.869783</td>\n",
       "      <td>159</td>\n",
       "      <td>float64</td>\n",
       "    </tr>\n",
       "    <tr>\n",
       "      <th>12</th>\n",
       "      <td>word_freq_people</td>\n",
       "      <td>0</td>\n",
       "      <td>0.0</td>\n",
       "      <td>3748</td>\n",
       "      <td>0.814783</td>\n",
       "      <td>158</td>\n",
       "      <td>float64</td>\n",
       "    </tr>\n",
       "    <tr>\n",
       "      <th>28</th>\n",
       "      <td>word_freq_lab</td>\n",
       "      <td>0</td>\n",
       "      <td>0.0</td>\n",
       "      <td>4228</td>\n",
       "      <td>0.919130</td>\n",
       "      <td>156</td>\n",
       "      <td>float64</td>\n",
       "    </tr>\n",
       "    <tr>\n",
       "      <th>19</th>\n",
       "      <td>word_freq_credit</td>\n",
       "      <td>0</td>\n",
       "      <td>0.0</td>\n",
       "      <td>4176</td>\n",
       "      <td>0.907826</td>\n",
       "      <td>148</td>\n",
       "      <td>float64</td>\n",
       "    </tr>\n",
       "    <tr>\n",
       "      <th>8</th>\n",
       "      <td>word_freq_order</td>\n",
       "      <td>0</td>\n",
       "      <td>0.0</td>\n",
       "      <td>3827</td>\n",
       "      <td>0.831957</td>\n",
       "      <td>144</td>\n",
       "      <td>float64</td>\n",
       "    </tr>\n",
       "    <tr>\n",
       "      <th>23</th>\n",
       "      <td>word_freq_money</td>\n",
       "      <td>0</td>\n",
       "      <td>0.0</td>\n",
       "      <td>3865</td>\n",
       "      <td>0.840217</td>\n",
       "      <td>143</td>\n",
       "      <td>float64</td>\n",
       "    </tr>\n",
       "    <tr>\n",
       "      <th>0</th>\n",
       "      <td>word_freq_make</td>\n",
       "      <td>0</td>\n",
       "      <td>0.0</td>\n",
       "      <td>3547</td>\n",
       "      <td>0.771087</td>\n",
       "      <td>142</td>\n",
       "      <td>float64</td>\n",
       "    </tr>\n",
       "    <tr>\n",
       "      <th>5</th>\n",
       "      <td>word_freq_over</td>\n",
       "      <td>0</td>\n",
       "      <td>0.0</td>\n",
       "      <td>3601</td>\n",
       "      <td>0.782826</td>\n",
       "      <td>141</td>\n",
       "      <td>float64</td>\n",
       "    </tr>\n",
       "    <tr>\n",
       "      <th>42</th>\n",
       "      <td>word_freq_original</td>\n",
       "      <td>0</td>\n",
       "      <td>0.0</td>\n",
       "      <td>4225</td>\n",
       "      <td>0.918478</td>\n",
       "      <td>136</td>\n",
       "      <td>float64</td>\n",
       "    </tr>\n",
       "    <tr>\n",
       "      <th>13</th>\n",
       "      <td>word_freq_report</td>\n",
       "      <td>0</td>\n",
       "      <td>0.0</td>\n",
       "      <td>4243</td>\n",
       "      <td>0.922391</td>\n",
       "      <td>133</td>\n",
       "      <td>float64</td>\n",
       "    </tr>\n",
       "    <tr>\n",
       "      <th>30</th>\n",
       "      <td>word_freq_telnet</td>\n",
       "      <td>0</td>\n",
       "      <td>0.0</td>\n",
       "      <td>4307</td>\n",
       "      <td>0.936304</td>\n",
       "      <td>128</td>\n",
       "      <td>float64</td>\n",
       "    </tr>\n",
       "    <tr>\n",
       "      <th>39</th>\n",
       "      <td>word_freq_direct</td>\n",
       "      <td>0</td>\n",
       "      <td>0.0</td>\n",
       "      <td>4147</td>\n",
       "      <td>0.901522</td>\n",
       "      <td>125</td>\n",
       "      <td>float64</td>\n",
       "    </tr>\n",
       "    <tr>\n",
       "      <th>14</th>\n",
       "      <td>word_freq_addresses</td>\n",
       "      <td>0</td>\n",
       "      <td>0.0</td>\n",
       "      <td>4264</td>\n",
       "      <td>0.926957</td>\n",
       "      <td>118</td>\n",
       "      <td>float64</td>\n",
       "    </tr>\n",
       "    <tr>\n",
       "      <th>10</th>\n",
       "      <td>word_freq_receive</td>\n",
       "      <td>0</td>\n",
       "      <td>0.0</td>\n",
       "      <td>3891</td>\n",
       "      <td>0.845870</td>\n",
       "      <td>113</td>\n",
       "      <td>float64</td>\n",
       "    </tr>\n",
       "    <tr>\n",
       "      <th>33</th>\n",
       "      <td>word_freq_415</td>\n",
       "      <td>0</td>\n",
       "      <td>0.0</td>\n",
       "      <td>4385</td>\n",
       "      <td>0.953261</td>\n",
       "      <td>110</td>\n",
       "      <td>float64</td>\n",
       "    </tr>\n",
       "    <tr>\n",
       "      <th>40</th>\n",
       "      <td>word_freq_cs</td>\n",
       "      <td>0</td>\n",
       "      <td>0.0</td>\n",
       "      <td>4452</td>\n",
       "      <td>0.967826</td>\n",
       "      <td>108</td>\n",
       "      <td>float64</td>\n",
       "    </tr>\n",
       "    <tr>\n",
       "      <th>31</th>\n",
       "      <td>word_freq_857</td>\n",
       "      <td>0</td>\n",
       "      <td>0.0</td>\n",
       "      <td>4395</td>\n",
       "      <td>0.955435</td>\n",
       "      <td>106</td>\n",
       "      <td>float64</td>\n",
       "    </tr>\n",
       "    <tr>\n",
       "      <th>47</th>\n",
       "      <td>word_freq_conference</td>\n",
       "      <td>0</td>\n",
       "      <td>0.0</td>\n",
       "      <td>4397</td>\n",
       "      <td>0.955870</td>\n",
       "      <td>106</td>\n",
       "      <td>float64</td>\n",
       "    </tr>\n",
       "    <tr>\n",
       "      <th>21</th>\n",
       "      <td>word_freq_font</td>\n",
       "      <td>0</td>\n",
       "      <td>0.0</td>\n",
       "      <td>4483</td>\n",
       "      <td>0.974565</td>\n",
       "      <td>99</td>\n",
       "      <td>float64</td>\n",
       "    </tr>\n",
       "    <tr>\n",
       "      <th>37</th>\n",
       "      <td>word_freq_parts</td>\n",
       "      <td>0</td>\n",
       "      <td>0.0</td>\n",
       "      <td>4517</td>\n",
       "      <td>0.981957</td>\n",
       "      <td>53</td>\n",
       "      <td>float64</td>\n",
       "    </tr>\n",
       "    <tr>\n",
       "      <th>3</th>\n",
       "      <td>word_freq_3d</td>\n",
       "      <td>0</td>\n",
       "      <td>0.0</td>\n",
       "      <td>4553</td>\n",
       "      <td>0.989783</td>\n",
       "      <td>43</td>\n",
       "      <td>float64</td>\n",
       "    </tr>\n",
       "    <tr>\n",
       "      <th>46</th>\n",
       "      <td>word_freq_table</td>\n",
       "      <td>0</td>\n",
       "      <td>0.0</td>\n",
       "      <td>4537</td>\n",
       "      <td>0.986304</td>\n",
       "      <td>38</td>\n",
       "      <td>float64</td>\n",
       "    </tr>\n",
       "  </tbody>\n",
       "</table>\n",
       "</div>"
      ],
      "text/plain": [
       "                      variable  q_nan  p_nan  q_zeros   p_zeros  unique  \\\n",
       "56    capital_run_length_total      0    0.0        0  0.000000     919   \n",
       "55  capital_run_length_longest      0    0.0        0  0.000000     271   \n",
       "57                     is_spam      0    0.0     2788  0.606087       2   \n",
       "54  capital_run_length_average      0    0.0        0  0.000000    2160   \n",
       "51                 char_freq_!      0    0.0     2343  0.509348     963   \n",
       "49                 char_freq_(      0    0.0     1885  0.409783     641   \n",
       "18               word_freq_you      0    0.0     1374  0.298696     575   \n",
       "52                 char_freq_$      0    0.0     3200  0.695652     504   \n",
       "20              word_freq_your      0    0.0     2178  0.473478     401   \n",
       "24                word_freq_hp      0    0.0     3510  0.763043     395   \n",
       "11              word_freq_will      0    0.0     2276  0.494783     316   \n",
       "53                 char_freq_#      0    0.0     3850  0.836957     316   \n",
       "48                 char_freq_;      0    0.0     3810  0.828261     313   \n",
       "25               word_freq_hpl      0    0.0     3789  0.823696     281   \n",
       "4                word_freq_our      0    0.0     2853  0.620217     255   \n",
       "15              word_freq_free      0    0.0     3360  0.730435     253   \n",
       "9               word_freq_mail      0    0.0     3298  0.716957     245   \n",
       "26            word_freq_george      0    0.0     3820  0.830435     240   \n",
       "44                word_freq_re      0    0.0     3289  0.715000     230   \n",
       "17             word_freq_email      0    0.0     3563  0.774565     229   \n",
       "45               word_freq_edu      0    0.0     4083  0.887609     227   \n",
       "50                 char_freq_[      0    0.0     4071  0.885000     225   \n",
       "2                word_freq_all      0    0.0     2713  0.589783     214   \n",
       "27               word_freq_650      0    0.0     4137  0.899348     200   \n",
       "16          word_freq_business      0    0.0     3637  0.790652     197   \n",
       "36              word_freq_1999      0    0.0     3771  0.819783     188   \n",
       "41           word_freq_meeting      0    0.0     4259  0.925870     186   \n",
       "32              word_freq_data      0    0.0     4195  0.911957     184   \n",
       "29              word_freq_labs      0    0.0     4131  0.898043     179   \n",
       "34                word_freq_85      0    0.0     4115  0.894565     177   \n",
       "6             word_freq_remove      0    0.0     3793  0.824565     173   \n",
       "1            word_freq_address      0    0.0     3703  0.805000     171   \n",
       "7           word_freq_internet      0    0.0     3776  0.820870     170   \n",
       "22               word_freq_000      0    0.0     3921  0.852391     164   \n",
       "38                word_freq_pm      0    0.0     4216  0.916522     163   \n",
       "43           word_freq_project      0    0.0     4273  0.928913     160   \n",
       "35        word_freq_technology      0    0.0     4001  0.869783     159   \n",
       "12            word_freq_people      0    0.0     3748  0.814783     158   \n",
       "28               word_freq_lab      0    0.0     4228  0.919130     156   \n",
       "19            word_freq_credit      0    0.0     4176  0.907826     148   \n",
       "8              word_freq_order      0    0.0     3827  0.831957     144   \n",
       "23             word_freq_money      0    0.0     3865  0.840217     143   \n",
       "0               word_freq_make      0    0.0     3547  0.771087     142   \n",
       "5               word_freq_over      0    0.0     3601  0.782826     141   \n",
       "42          word_freq_original      0    0.0     4225  0.918478     136   \n",
       "13            word_freq_report      0    0.0     4243  0.922391     133   \n",
       "30            word_freq_telnet      0    0.0     4307  0.936304     128   \n",
       "39            word_freq_direct      0    0.0     4147  0.901522     125   \n",
       "14         word_freq_addresses      0    0.0     4264  0.926957     118   \n",
       "10           word_freq_receive      0    0.0     3891  0.845870     113   \n",
       "33               word_freq_415      0    0.0     4385  0.953261     110   \n",
       "40                word_freq_cs      0    0.0     4452  0.967826     108   \n",
       "31               word_freq_857      0    0.0     4395  0.955435     106   \n",
       "47        word_freq_conference      0    0.0     4397  0.955870     106   \n",
       "21              word_freq_font      0    0.0     4483  0.974565      99   \n",
       "37             word_freq_parts      0    0.0     4517  0.981957      53   \n",
       "3                 word_freq_3d      0    0.0     4553  0.989783      43   \n",
       "46             word_freq_table      0    0.0     4537  0.986304      38   \n",
       "\n",
       "       type  \n",
       "56    int64  \n",
       "55    int64  \n",
       "57    int64  \n",
       "54  float64  \n",
       "51  float64  \n",
       "49  float64  \n",
       "18  float64  \n",
       "52  float64  \n",
       "20  float64  \n",
       "24  float64  \n",
       "11  float64  \n",
       "53  float64  \n",
       "48  float64  \n",
       "25  float64  \n",
       "4   float64  \n",
       "15  float64  \n",
       "9   float64  \n",
       "26  float64  \n",
       "44  float64  \n",
       "17  float64  \n",
       "45  float64  \n",
       "50  float64  \n",
       "2   float64  \n",
       "27  float64  \n",
       "16  float64  \n",
       "36  float64  \n",
       "41  float64  \n",
       "32  float64  \n",
       "29  float64  \n",
       "34  float64  \n",
       "6   float64  \n",
       "1   float64  \n",
       "7   float64  \n",
       "22  float64  \n",
       "38  float64  \n",
       "43  float64  \n",
       "35  float64  \n",
       "12  float64  \n",
       "28  float64  \n",
       "19  float64  \n",
       "8   float64  \n",
       "23  float64  \n",
       "0   float64  \n",
       "5   float64  \n",
       "42  float64  \n",
       "13  float64  \n",
       "30  float64  \n",
       "39  float64  \n",
       "14  float64  \n",
       "10  float64  \n",
       "33  float64  \n",
       "40  float64  \n",
       "31  float64  \n",
       "47  float64  \n",
       "21  float64  \n",
       "37  float64  \n",
       "3   float64  \n",
       "46  float64  "
      ]
     },
     "execution_count": 18,
     "metadata": {},
     "output_type": "execute_result"
    }
   ],
   "source": [
    "status(data).sort_values(by=[\"type\", \"unique\"], ascending=False)"
   ]
  },
  {
   "cell_type": "markdown",
   "metadata": {},
   "source": [
    "Se verifica que los datos han sido pre-procesados adecuadamente."
   ]
  },
  {
   "cell_type": "markdown",
   "metadata": {},
   "source": [
    "Separación entre datos de TR y TS"
   ]
  },
  {
   "cell_type": "markdown",
   "metadata": {},
   "source": [
    "Todas las variables son numéricas, por lo que podemos usar el método de clasificación RandomForest sin hacer one-code enconding."
   ]
  },
  {
   "cell_type": "code",
   "execution_count": 20,
   "metadata": {},
   "outputs": [],
   "source": [
    "x_data = data.drop('is_spam', axis=1)\n",
    "y_data = data['is_spam']\n",
    "\n",
    "x_tr, x_ts, y_tr, y_ts = train_test_split(x_data, y_data, test_size=0.3, random_state=100)"
   ]
  },
  {
   "cell_type": "markdown",
   "metadata": {},
   "source": [
    "2) Creación de un modelo predictivo random forest"
   ]
  },
  {
   "cell_type": "code",
   "execution_count": 108,
   "metadata": {},
   "outputs": [],
   "source": [
    "rf = RandomForestClassifier(     \n",
    "    n_estimators=19,\n",
    "    max_depth=6, \n",
    "    min_samples_leaf=40,\n",
    "    random_state=99)"
   ]
  },
  {
   "cell_type": "markdown",
   "metadata": {},
   "source": [
    "Entrenamos al modelo"
   ]
  },
  {
   "cell_type": "code",
   "execution_count": 109,
   "metadata": {},
   "outputs": [
    {
     "data": {
      "text/plain": [
       "RandomForestClassifier(max_depth=6, min_samples_leaf=40, n_estimators=19,\n",
       "                       random_state=99)"
      ]
     },
     "execution_count": 109,
     "metadata": {},
     "output_type": "execute_result"
    }
   ],
   "source": [
    "rf.fit(x_tr, y_tr)"
   ]
  },
  {
   "cell_type": "markdown",
   "metadata": {},
   "source": [
    "Probabilidades calculadas con el modelo para los datos de entrenamiento"
   ]
  },
  {
   "cell_type": "code",
   "execution_count": 146,
   "metadata": {},
   "outputs": [
    {
     "data": {
      "text/plain": [
       "array([[0.86614836, 0.13385164],\n",
       "       [0.86521901, 0.13478099],\n",
       "       [0.9021946 , 0.0978054 ],\n",
       "       ...,\n",
       "       [0.90253628, 0.09746372],\n",
       "       [0.40094105, 0.59905895],\n",
       "       [0.93735487, 0.06264513]])"
      ]
     },
     "execution_count": 146,
     "metadata": {},
     "output_type": "execute_result"
    }
   ],
   "source": [
    "pred_probs=rf.predict_proba(x_tr)\n",
    "pred_probs"
   ]
  },
  {
   "cell_type": "markdown",
   "metadata": {},
   "source": [
    "La primera columna corresponde a la prob de clase 0, la segunda columna a la prob de clase 1. Nuestro vector de interés es el caso de obtener la clas e1 (es decir, resultado positivo)."
   ]
  },
  {
   "cell_type": "code",
   "execution_count": 147,
   "metadata": {},
   "outputs": [
    {
     "data": {
      "text/plain": [
       "array([0.13385164, 0.13478099, 0.0978054 , ..., 0.09746372, 0.59905895,\n",
       "       0.06264513])"
      ]
     },
     "execution_count": 147,
     "metadata": {},
     "output_type": "execute_result"
    }
   ],
   "source": [
    "y_prob_tr=pred_probs[:,1]\n",
    "y_prob_tr"
   ]
  },
  {
   "cell_type": "markdown",
   "metadata": {},
   "source": [
    "Graficamos la matriz de confusión. La función plot_confusion_matrix de sklearn asume 0.5 como punto de corte para las probabilidades."
   ]
  },
  {
   "cell_type": "code",
   "execution_count": 152,
   "metadata": {},
   "outputs": [
    {
     "data": {
      "text/plain": [
       "<sklearn.metrics._plot.confusion_matrix.ConfusionMatrixDisplay at 0x7fa6844c8e80>"
      ]
     },
     "execution_count": 152,
     "metadata": {},
     "output_type": "execute_result"
    },
    {
     "data": {
      "image/png": "[encoded data removed]",
      "text/plain": [
       "<Figure size 432x288 with 2 Axes>"
      ]
     },
     "metadata": {},
     "output_type": "display_data"
    }
   ],
   "source": [
    "sns.set(font_scale=1.5) \n",
    "\n",
    "plot_confusion_matrix(rf, x_tr, y_tr,\n",
    "                      display_labels=['no','si'],\n",
    "                      cmap='Blues')"
   ]
  },
  {
   "cell_type": "markdown",
   "metadata": {},
   "source": [
    "Este grafico nos indica lo siguiente:\n",
    "- Verdaderos negativos (TN): 1920\n",
    "- Falsos negativos (FN): 183\n",
    "- Verdaderos positivos (TP): 1057\n",
    "- Falsos positivos (FP): 60"
   ]
  },
  {
   "cell_type": "markdown",
   "metadata": {},
   "source": [
    "Podemos también obtener una matriz de confusión con los valores normalizados."
   ]
  },
  {
   "cell_type": "code",
   "execution_count": 175,
   "metadata": {},
   "outputs": [
    {
     "data": {
      "text/plain": [
       "<sklearn.metrics._plot.confusion_matrix.ConfusionMatrixDisplay at 0x7fa684c39850>"
      ]
     },
     "execution_count": 175,
     "metadata": {},
     "output_type": "execute_result"
    },
    {
     "data": {
      "image/png": "[encoded data removed]",
      "text/plain": [
       "<Figure size 432x288 with 2 Axes>"
      ]
     },
     "metadata": {},
     "output_type": "display_data"
    }
   ],
   "source": [
    "sns.set(font_scale=1.5) \n",
    "\n",
    "plot_confusion_matrix(rf, x_tr, y_tr,\n",
    "                      display_labels=['no','si'],\n",
    "                      cmap='Blues',\n",
    "                      normalize='true')"
   ]
  },
  {
   "cell_type": "markdown",
   "metadata": {},
   "source": [
    "Este gráfico nos indica lo siguiente:\n",
    "- Del total de valores que son realmente negativos, el modelo predice bien el 97% de los casos y mal el 3% de los casos restantes.\n",
    "- Del total de valores que son realmente positivos, el modelo predice bien el 85% de los casos y mal el 15% de los casos restantes."
   ]
  },
  {
   "cell_type": "markdown",
   "metadata": {},
   "source": [
    "También podemos normalizar sobre las predicciones, así tenemos una medida de la confianza en las predicciones de cada clase."
   ]
  },
  {
   "cell_type": "code",
   "execution_count": 178,
   "metadata": {},
   "outputs": [
    {
     "data": {
      "text/plain": [
       "<sklearn.metrics._plot.confusion_matrix.ConfusionMatrixDisplay at 0x7fa684c27b80>"
      ]
     },
     "execution_count": 178,
     "metadata": {},
     "output_type": "execute_result"
    },
    {
     "data": {
      "image/png": "[encoded data removed]",
      "text/plain": [
       "<Figure size 432x288 with 2 Axes>"
      ]
     },
     "metadata": {},
     "output_type": "display_data"
    }
   ],
   "source": [
    "sns.set(font_scale=1.5) \n",
    "\n",
    "plot_confusion_matrix(rf, x_tr, y_tr,\n",
    "                      display_labels=['no','si'],\n",
    "                      cmap='Blues',\n",
    "                      normalize='pred')"
   ]
  },
  {
   "cell_type": "markdown",
   "metadata": {},
   "source": [
    "Este gráfico nos indica lo siguiente:\n",
    "- Del total de valores que el modelo predice como negativos, el 91% eran verdaderamente negativos y el 9% están mal clasificados.\n",
    "- Del total de valores que el modelo predice como positivos, el 95% eran verdaderamente positivos y el 5% están mal clasificados."
   ]
  },
  {
   "cell_type": "markdown",
   "metadata": {},
   "source": [
    "Revisamos el valor del punto de corte para la clasificación de los datos"
   ]
  },
  {
   "cell_type": "code",
   "execution_count": 162,
   "metadata": {},
   "outputs": [
    {
     "name": "stdout",
     "output_type": "stream",
     "text": [
      "Valor medio de las probabilidades predichas para el conjunto de entrenamiento = 0.3836781365875951\n"
     ]
    }
   ],
   "source": [
    "print(f\"Valor medio de las probabilidades predichas para el conjunto de entrenamiento = {y_prob_tr.mean()}\")"
   ]
  },
  {
   "cell_type": "markdown",
   "metadata": {},
   "source": [
    "Establecemos un vector de \"nuevas probabilidades\" (más precisamente, nuevas clasificaciones), a partir del nuevo punto de corte"
   ]
  },
  {
   "cell_type": "code",
   "execution_count": 185,
   "metadata": {},
   "outputs": [],
   "source": [
    "y_pred_tr_2 = np.where(y_prob_tr>0.27, 1, 0)"
   ]
  },
  {
   "cell_type": "markdown",
   "metadata": {},
   "source": [
    "Calculamos la matriz de confusión con el nuevo punto de corte"
   ]
  },
  {
   "cell_type": "code",
   "execution_count": 186,
   "metadata": {},
   "outputs": [
    {
     "data": {
      "text/html": [
       "<div>\n",
       "<style scoped>\n",
       "    .dataframe tbody tr th:only-of-type {\n",
       "        vertical-align: middle;\n",
       "    }\n",
       "\n",
       "    .dataframe tbody tr th {\n",
       "        vertical-align: top;\n",
       "    }\n",
       "\n",
       "    .dataframe thead th {\n",
       "        text-align: right;\n",
       "    }\n",
       "</style>\n",
       "<table border=\"1\" class=\"dataframe\">\n",
       "  <thead>\n",
       "    <tr style=\"text-align: right;\">\n",
       "      <th>Pred</th>\n",
       "      <th>0</th>\n",
       "      <th>1</th>\n",
       "    </tr>\n",
       "    <tr>\n",
       "      <th>Actual</th>\n",
       "      <th></th>\n",
       "      <th></th>\n",
       "    </tr>\n",
       "  </thead>\n",
       "  <tbody>\n",
       "    <tr>\n",
       "      <th>0</th>\n",
       "      <td>0.837374</td>\n",
       "      <td>0.162626</td>\n",
       "    </tr>\n",
       "    <tr>\n",
       "      <th>1</th>\n",
       "      <td>0.045161</td>\n",
       "      <td>0.954839</td>\n",
       "    </tr>\n",
       "  </tbody>\n",
       "</table>\n",
       "</div>"
      ],
      "text/plain": [
       "Pred           0         1\n",
       "Actual                    \n",
       "0       0.837374  0.162626\n",
       "1       0.045161  0.954839"
      ]
     },
     "execution_count": 186,
     "metadata": {},
     "output_type": "execute_result"
    }
   ],
   "source": [
    "conf_mat_2 = pd.crosstab(\n",
    "    index=y_tr,\n",
    "    columns=y_prob_tr_2,\n",
    "    rownames=['Actual'],\n",
    "    colnames=['Pred'],\n",
    "    normalize=\"index\")\n",
    "conf_mat_2"
   ]
  },
  {
   "cell_type": "markdown",
   "metadata": {},
   "source": [
    "La matriz de arriba está normalizada por los valores verdaderos de los datos. Podemos obtener también la misma matriz normalizada por los valores que predice el modelo."
   ]
  },
  {
   "cell_type": "code",
   "execution_count": 187,
   "metadata": {},
   "outputs": [
    {
     "data": {
      "text/html": [
       "<div>\n",
       "<style scoped>\n",
       "    .dataframe tbody tr th:only-of-type {\n",
       "        vertical-align: middle;\n",
       "    }\n",
       "\n",
       "    .dataframe tbody tr th {\n",
       "        vertical-align: top;\n",
       "    }\n",
       "\n",
       "    .dataframe thead th {\n",
       "        text-align: right;\n",
       "    }\n",
       "</style>\n",
       "<table border=\"1\" class=\"dataframe\">\n",
       "  <thead>\n",
       "    <tr style=\"text-align: right;\">\n",
       "      <th>Pred</th>\n",
       "      <th>0</th>\n",
       "      <th>1</th>\n",
       "    </tr>\n",
       "    <tr>\n",
       "      <th>Actual</th>\n",
       "      <th></th>\n",
       "      <th></th>\n",
       "    </tr>\n",
       "  </thead>\n",
       "  <tbody>\n",
       "    <tr>\n",
       "      <th>0</th>\n",
       "      <td>0.967328</td>\n",
       "      <td>0.213811</td>\n",
       "    </tr>\n",
       "    <tr>\n",
       "      <th>1</th>\n",
       "      <td>0.032672</td>\n",
       "      <td>0.786189</td>\n",
       "    </tr>\n",
       "  </tbody>\n",
       "</table>\n",
       "</div>"
      ],
      "text/plain": [
       "Pred           0         1\n",
       "Actual                    \n",
       "0       0.967328  0.213811\n",
       "1       0.032672  0.786189"
      ]
     },
     "execution_count": 187,
     "metadata": {},
     "output_type": "execute_result"
    }
   ],
   "source": [
    "conf_mat_2 = pd.crosstab(\n",
    "    index=y_tr,\n",
    "    columns=y_prob_tr_2,\n",
    "    rownames=['Actual'],\n",
    "    colnames=['Pred'],\n",
    "    normalize=\"columns\")\n",
    "conf_mat_2"
   ]
  },
  {
   "cell_type": "markdown",
   "metadata": {},
   "source": [
    "Comparamos los resultados obtenidos. Primero obtenemos la clase predicha por el modelo (para el punto de corte 0.5)"
   ]
  },
  {
   "cell_type": "code",
   "execution_count": 188,
   "metadata": {},
   "outputs": [],
   "source": [
    "y_tr_pred = rf.predict(x_tr)"
   ]
  },
  {
   "cell_type": "code",
   "execution_count": 210,
   "metadata": {},
   "outputs": [
    {
     "name": "stderr",
     "output_type": "stream",
     "text": [
      "<ipython-input-210-58ed5d6614d6>:23: UserWarning: Matplotlib is currently using module://ipykernel.pylab.backend_inline, which is a non-GUI backend, so cannot show the figure.\n",
      "  fig.show(warn=False)\n"
     ]
    },
    {
     "data": {
      "image/png": "[encoded data removed]",
      "text/plain": [
       "<Figure size 1080x576 with 4 Axes>"
      ]
     },
     "metadata": {},
     "output_type": "display_data"
    }
   ],
   "source": [
    "sns.set(font_scale=1.5)\n",
    "\n",
    "fig, ax =plt.subplots(1,2, figsize=(15,8))\n",
    "\n",
    "\n",
    "conf_mat1 = pd.crosstab(index=y_tr,\n",
    "                        columns=y_tr_pred,\n",
    "                        rownames=['Actual'], \n",
    "                        colnames=['Pred'], \n",
    "                        normalize='index')\n",
    "\n",
    "conf_mat2 = pd.crosstab(index=y_tr,\n",
    "                        columns=y_pred_tr_2,\n",
    "                        rownames=['Actual'],\n",
    "                        colnames=['Pred'],\n",
    "                        normalize=\"index\")\n",
    "\n",
    "fig.suptitle(\"Normalización por los valores reales de los datos\", fontsize=18)\n",
    "\n",
    "sns.heatmap(conf_mat1, annot=True, cmap='Blues', fmt='g', ax=ax[0])\n",
    "sns.heatmap(conf_mat2, annot=True, cmap='Blues', fmt='g', ax=ax[1])\n",
    "\n",
    "fig.show(warn=False)"
   ]
  },
  {
   "cell_type": "markdown",
   "metadata": {},
   "source": [
    "- Vemos que al bajar el punto de corte de 0.5 a 0.38 el porcentaje de casos que clasifica bien el modelo sube de 85% a 95%, esto se debe a que para los valores que el modelo clasifica como 1 ahora entran más casos que anteriormente eran equitados como 0, subiendo así el porcentaje de casos bien clasificados.\n",
    "\n",
    "- En contraste, el porcentaje de casos negativos bien clasificados baja de 97% a 84%. Esto se debe a que ahora el modelo clasifica como 0 menos casos que antes, pues varios de esos casos tenían una probabilidad entre 0.38 y 0.5 de ser 1, y ahora son clasificados efectivamente como 1."
   ]
  },
  {
   "cell_type": "code",
   "execution_count": 213,
   "metadata": {},
   "outputs": [
    {
     "name": "stderr",
     "output_type": "stream",
     "text": [
      "<ipython-input-213-5a61964809ba>:23: UserWarning: Matplotlib is currently using module://ipykernel.pylab.backend_inline, which is a non-GUI backend, so cannot show the figure.\n",
      "  fig.show(warn=False)\n"
     ]
    },
    {
     "data": {
      "image/png": "[encoded data removed]",
      "text/plain": [
       "<Figure size 1080x576 with 4 Axes>"
      ]
     },
     "metadata": {},
     "output_type": "display_data"
    }
   ],
   "source": [
    "sns.set(font_scale=1.5)\n",
    "\n",
    "fig, ax =plt.subplots(1,2, figsize=(15,8))\n",
    "\n",
    "\n",
    "conf_mat1 = pd.crosstab(index=y_tr,\n",
    "                        columns=y_tr_pred,\n",
    "                        rownames=['Actual'], \n",
    "                        colnames=['Pred'], \n",
    "                        normalize=\"columns\")\n",
    "\n",
    "conf_mat2 = pd.crosstab(index=y_tr,\n",
    "                        columns=y_pred_tr_2,\n",
    "                        rownames=['Actual'],\n",
    "                        colnames=['Pred'],\n",
    "                        normalize=\"columns\")\n",
    "\n",
    "fig.suptitle(\"Normalización por los valores predichos por el modelo\", fontsize=18)\n",
    "\n",
    "sns.heatmap(conf_mat1, annot=True, cmap='Blues', fmt='g', ax=ax[0])\n",
    "sns.heatmap(conf_mat2, annot=True, cmap='Blues', fmt='g', ax=ax[1])\n",
    "\n",
    "fig.show(warn=False)"
   ]
  },
  {
   "cell_type": "markdown",
   "metadata": {},
   "source": [
    "- Inicialmente, de todos los casos que el modelo predice como 1, el 95% de los casos estaban bien clasificados, y el 5% de los casos mal clasificados. Al bajar el punto de corte se agregan muchos casos nuevos que el modelo predice como 1 pero que en su mayoría son 0, por lo que baja la calidad de predicción del modelo.\n",
    "\n",
    "- En contraste, ahora son menos casos clasificados como 0, pero esos casos es más seguro que efectivamente lo sean, por lo que los casos que el modelo predice correctamente como negativos aumenta de 91% a 97%."
   ]
  },
  {
   "cell_type": "markdown",
   "metadata": {},
   "source": [
    "Analizamos ahora el valor más óptimo para los puntos de corte"
   ]
  },
  {
   "cell_type": "code",
   "execution_count": 224,
   "metadata": {},
   "outputs": [
    {
     "data": {
      "image/png": "[encoded data removed]",
      "text/plain": [
       "<Figure size 720x576 with 1 Axes>"
      ]
     },
     "metadata": {
      "needs_background": "light"
     },
     "output_type": "display_data"
    }
   ],
   "source": [
    "plt.figure(figsize=(10,8))\n",
    "dis_res=discrimination_threshold(rf, x_tr, y_tr)\n",
    "plt.show()"
   ]
  },
  {
   "cell_type": "markdown",
   "metadata": {},
   "source": [
    "Así, al tener en cuenta las distintas métricas, el valor de punto de corte óptimo hallado es 0.41"
   ]
  },
  {
   "cell_type": "markdown",
   "metadata": {},
   "source": [
    "3) Graficamos la curva ROC"
   ]
  },
  {
   "cell_type": "code",
   "execution_count": 228,
   "metadata": {},
   "outputs": [
    {
     "data": {
      "image/png": "[encoded data removed]",
      "text/plain": [
       "<Figure size 432x288 with 1 Axes>"
      ]
     },
     "metadata": {
      "needs_background": "light"
     },
     "output_type": "display_data"
    }
   ],
   "source": [
    "tr_disp = plot_roc_curve(rf, x_tr, y_tr)\n",
    "ts_disp = plot_roc_curve(rf, x_ts, y_ts, ax=tr_disp.ax_)\n",
    "ts_disp.figure_.suptitle(\"ROC curve comparison\")\n",
    "plt.show()"
   ]
  },
  {
   "cell_type": "markdown",
   "metadata": {},
   "source": [
    "Podemos ver que hay un buen acuerdo entre el rendimiento con los datos de TR y los datos de TS. Además el modelo predice bien."
   ]
  }
 ],
 "metadata": {
  "kernelspec": {
   "display_name": "Python 3 (ipykernel)",
   "language": "python",
   "name": "python3"
  },
  "language_info": {
   "codemirror_mode": {
    "name": "ipython",
    "version": 3
   },
   "file_extension": ".py",
   "mimetype": "text/x-python",
   "name": "python",
   "nbconvert_exporter": "python",
   "pygments_lexer": "ipython3",
   "version": "3.8.10"
  }
 },
 "nbformat": 4,
 "nbformat_minor": 4
}
