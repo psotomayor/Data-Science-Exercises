{
 "cells": [
  {
   "cell_type": "markdown",
   "metadata": {},
   "source": [
    "<img src=\"https://s3.amazonaws.com/datascienceheroes.com/EDV/360_banner_python.png\" width=\"400px\">\n",
    "\n",
    "\n",
    "# Escuela de Datos Vivos \n",
    "## LAB P.F.5: Modelos de regresión\n",
    "Creado por Pablo Casas | https://escueladedatosvivos.ai"
   ]
  },
  {
   "cell_type": "markdown",
   "metadata": {},
   "source": [
    "Resuelto por Pablo Sotomayor"
   ]
  },
  {
   "cell_type": "markdown",
   "metadata": {},
   "source": [
    "---"
   ]
  },
  {
   "cell_type": "markdown",
   "metadata": {},
   "source": [
    "## Ejercicios"
   ]
  },
  {
   "cell_type": "markdown",
   "metadata": {},
   "source": [
    "1) Modificar los parámetros del random forest a : `min_samples_leaf=20`, `min_samples_split=40`. Pueden también variarlos. \n",
    "\n",
    "2) Comparar el R2 del modelo anterior, y de este que posee la modificación de sus parámetros. \n",
    "\n",
    "3) Probar otro parámetros: `max_depth`.\n",
    "\n",
    "4) ¿Qué pasa si min_samples_split < min_samples_leaf?\n"
   ]
  },
  {
   "cell_type": "markdown",
   "metadata": {},
   "source": [
    "## Solución"
   ]
  },
  {
   "cell_type": "code",
   "execution_count": 146,
   "metadata": {},
   "outputs": [],
   "source": [
    "# Librerías que utilizaremos\n",
    "\n",
    "import warnings\n",
    "import numpy as np\n",
    "import pandas as pd\n",
    "import seaborn as sns\n",
    "import matplotlib.pyplot as plt\n",
    "from pandas_profiling import ProfileReport\n",
    "from minepy import MINE\n",
    "from __future__ import division\n",
    "from sklearn.linear_model import LinearRegression\n",
    "from sklearn.model_selection import train_test_split\n",
    "from sklearn.model_selection import GridSearchCV\n",
    "from sklearn.ensemble import RandomForestRegressor \n",
    "from sklearn.metrics import accuracy_score, explained_variance_score\n",
    "from yellowbrick.regressor import PredictionError\n",
    "from yellowbrick.regressor import ResidualsPlot\n",
    "from funpymodeling.exploratory import freq_tbl, status, profiling_num, cat_vars, num_vars\n",
    "from plotnine import *\n",
    "\n",
    "%matplotlib inline\n",
    "\n",
    "warnings.filterwarnings('ignore')"
   ]
  },
  {
   "cell_type": "markdown",
   "metadata": {},
   "source": [
    "1) Carga de datos"
   ]
  },
  {
   "cell_type": "code",
   "execution_count": 45,
   "metadata": {},
   "outputs": [
    {
     "name": "stdout",
     "output_type": "stream",
     "text": [
      "Cantidad de registros: 119390\n",
      "Cantidad de variables: 32\n"
     ]
    }
   ],
   "source": [
    "data=pd.read_csv(\"../data/hotels.csv\", sep = \",\")\n",
    "\n",
    "print(f\"Cantidad de registros: {data.shape[0]}\")\n",
    "print(f\"Cantidad de variables: {data.shape[1]}\")"
   ]
  },
  {
   "cell_type": "markdown",
   "metadata": {},
   "source": [
    "Inspeccionamos los datos elegiendo una muestra al azar"
   ]
  },
  {
   "cell_type": "code",
   "execution_count": 46,
   "metadata": {},
   "outputs": [
    {
     "data": {
      "text/html": [
       "<div>\n",
       "<style scoped>\n",
       "    .dataframe tbody tr th:only-of-type {\n",
       "        vertical-align: middle;\n",
       "    }\n",
       "\n",
       "    .dataframe tbody tr th {\n",
       "        vertical-align: top;\n",
       "    }\n",
       "\n",
       "    .dataframe thead th {\n",
       "        text-align: right;\n",
       "    }\n",
       "</style>\n",
       "<table border=\"1\" class=\"dataframe\">\n",
       "  <thead>\n",
       "    <tr style=\"text-align: right;\">\n",
       "      <th></th>\n",
       "      <th>hotel</th>\n",
       "      <th>is_canceled</th>\n",
       "      <th>lead_time</th>\n",
       "      <th>arrival_date_year</th>\n",
       "      <th>arrival_date_month</th>\n",
       "      <th>arrival_date_week_number</th>\n",
       "      <th>arrival_date_day_of_month</th>\n",
       "      <th>stays_in_weekend_nights</th>\n",
       "      <th>stays_in_week_nights</th>\n",
       "      <th>adults</th>\n",
       "      <th>...</th>\n",
       "      <th>deposit_type</th>\n",
       "      <th>agent</th>\n",
       "      <th>company</th>\n",
       "      <th>days_in_waiting_list</th>\n",
       "      <th>customer_type</th>\n",
       "      <th>adr</th>\n",
       "      <th>required_car_parking_spaces</th>\n",
       "      <th>total_of_special_requests</th>\n",
       "      <th>reservation_status</th>\n",
       "      <th>reservation_status_date</th>\n",
       "    </tr>\n",
       "  </thead>\n",
       "  <tbody>\n",
       "    <tr>\n",
       "      <th>56787</th>\n",
       "      <td>City Hotel</td>\n",
       "      <td>1</td>\n",
       "      <td>41</td>\n",
       "      <td>2016</td>\n",
       "      <td>September</td>\n",
       "      <td>38</td>\n",
       "      <td>14</td>\n",
       "      <td>0</td>\n",
       "      <td>2</td>\n",
       "      <td>2</td>\n",
       "      <td>...</td>\n",
       "      <td>No Deposit</td>\n",
       "      <td>86.0</td>\n",
       "      <td>NaN</td>\n",
       "      <td>0</td>\n",
       "      <td>Transient-Party</td>\n",
       "      <td>130.00</td>\n",
       "      <td>0</td>\n",
       "      <td>0</td>\n",
       "      <td>Canceled</td>\n",
       "      <td>2016-08-10</td>\n",
       "    </tr>\n",
       "    <tr>\n",
       "      <th>107534</th>\n",
       "      <td>City Hotel</td>\n",
       "      <td>0</td>\n",
       "      <td>3</td>\n",
       "      <td>2017</td>\n",
       "      <td>March</td>\n",
       "      <td>10</td>\n",
       "      <td>11</td>\n",
       "      <td>2</td>\n",
       "      <td>1</td>\n",
       "      <td>2</td>\n",
       "      <td>...</td>\n",
       "      <td>No Deposit</td>\n",
       "      <td>9.0</td>\n",
       "      <td>NaN</td>\n",
       "      <td>0</td>\n",
       "      <td>Transient</td>\n",
       "      <td>98.00</td>\n",
       "      <td>0</td>\n",
       "      <td>1</td>\n",
       "      <td>Check-Out</td>\n",
       "      <td>2017-03-14</td>\n",
       "    </tr>\n",
       "    <tr>\n",
       "      <th>115901</th>\n",
       "      <td>City Hotel</td>\n",
       "      <td>0</td>\n",
       "      <td>33</td>\n",
       "      <td>2017</td>\n",
       "      <td>July</td>\n",
       "      <td>28</td>\n",
       "      <td>10</td>\n",
       "      <td>1</td>\n",
       "      <td>2</td>\n",
       "      <td>1</td>\n",
       "      <td>...</td>\n",
       "      <td>No Deposit</td>\n",
       "      <td>10.0</td>\n",
       "      <td>NaN</td>\n",
       "      <td>0</td>\n",
       "      <td>Transient</td>\n",
       "      <td>100.00</td>\n",
       "      <td>0</td>\n",
       "      <td>0</td>\n",
       "      <td>Check-Out</td>\n",
       "      <td>2017-07-13</td>\n",
       "    </tr>\n",
       "    <tr>\n",
       "      <th>79490</th>\n",
       "      <td>City Hotel</td>\n",
       "      <td>0</td>\n",
       "      <td>5</td>\n",
       "      <td>2015</td>\n",
       "      <td>October</td>\n",
       "      <td>44</td>\n",
       "      <td>27</td>\n",
       "      <td>0</td>\n",
       "      <td>1</td>\n",
       "      <td>1</td>\n",
       "      <td>...</td>\n",
       "      <td>No Deposit</td>\n",
       "      <td>NaN</td>\n",
       "      <td>40.0</td>\n",
       "      <td>0</td>\n",
       "      <td>Transient</td>\n",
       "      <td>65.00</td>\n",
       "      <td>0</td>\n",
       "      <td>0</td>\n",
       "      <td>Check-Out</td>\n",
       "      <td>2015-10-28</td>\n",
       "    </tr>\n",
       "    <tr>\n",
       "      <th>39175</th>\n",
       "      <td>Resort Hotel</td>\n",
       "      <td>0</td>\n",
       "      <td>199</td>\n",
       "      <td>2017</td>\n",
       "      <td>August</td>\n",
       "      <td>31</td>\n",
       "      <td>3</td>\n",
       "      <td>2</td>\n",
       "      <td>5</td>\n",
       "      <td>3</td>\n",
       "      <td>...</td>\n",
       "      <td>No Deposit</td>\n",
       "      <td>250.0</td>\n",
       "      <td>NaN</td>\n",
       "      <td>0</td>\n",
       "      <td>Transient</td>\n",
       "      <td>187.37</td>\n",
       "      <td>0</td>\n",
       "      <td>2</td>\n",
       "      <td>Check-Out</td>\n",
       "      <td>2017-08-10</td>\n",
       "    </tr>\n",
       "  </tbody>\n",
       "</table>\n",
       "<p>5 rows × 32 columns</p>\n",
       "</div>"
      ],
      "text/plain": [
       "               hotel  is_canceled  lead_time  arrival_date_year  \\\n",
       "56787     City Hotel            1         41               2016   \n",
       "107534    City Hotel            0          3               2017   \n",
       "115901    City Hotel            0         33               2017   \n",
       "79490     City Hotel            0          5               2015   \n",
       "39175   Resort Hotel            0        199               2017   \n",
       "\n",
       "       arrival_date_month  arrival_date_week_number  \\\n",
       "56787           September                        38   \n",
       "107534              March                        10   \n",
       "115901               July                        28   \n",
       "79490             October                        44   \n",
       "39175              August                        31   \n",
       "\n",
       "        arrival_date_day_of_month  stays_in_weekend_nights  \\\n",
       "56787                          14                        0   \n",
       "107534                         11                        2   \n",
       "115901                         10                        1   \n",
       "79490                          27                        0   \n",
       "39175                           3                        2   \n",
       "\n",
       "        stays_in_week_nights  adults  ...  deposit_type  agent company  \\\n",
       "56787                      2       2  ...    No Deposit   86.0     NaN   \n",
       "107534                     1       2  ...    No Deposit    9.0     NaN   \n",
       "115901                     2       1  ...    No Deposit   10.0     NaN   \n",
       "79490                      1       1  ...    No Deposit    NaN    40.0   \n",
       "39175                      5       3  ...    No Deposit  250.0     NaN   \n",
       "\n",
       "       days_in_waiting_list    customer_type     adr  \\\n",
       "56787                     0  Transient-Party  130.00   \n",
       "107534                    0        Transient   98.00   \n",
       "115901                    0        Transient  100.00   \n",
       "79490                     0        Transient   65.00   \n",
       "39175                     0        Transient  187.37   \n",
       "\n",
       "        required_car_parking_spaces  total_of_special_requests  \\\n",
       "56787                             0                          0   \n",
       "107534                            0                          1   \n",
       "115901                            0                          0   \n",
       "79490                             0                          0   \n",
       "39175                             0                          2   \n",
       "\n",
       "        reservation_status reservation_status_date  \n",
       "56787             Canceled              2016-08-10  \n",
       "107534           Check-Out              2017-03-14  \n",
       "115901           Check-Out              2017-07-13  \n",
       "79490            Check-Out              2015-10-28  \n",
       "39175            Check-Out              2017-08-10  \n",
       "\n",
       "[5 rows x 32 columns]"
      ]
     },
     "execution_count": 46,
     "metadata": {},
     "output_type": "execute_result"
    }
   ],
   "source": [
    "data.sample(5)"
   ]
  },
  {
   "cell_type": "markdown",
   "metadata": {},
   "source": [
    "Seleccionamos algunos atributos de interés"
   ]
  },
  {
   "cell_type": "code",
   "execution_count": 47,
   "metadata": {},
   "outputs": [],
   "source": [
    "variables = ['total_of_special_requests','deposit_type','customer_type', 'stays_in_weekend_nights', \n",
    "             'stays_in_week_nights', 'required_car_parking_spaces','arrival_date_month',\n",
    "             'arrival_date_day_of_month','hotel']\n",
    "\n",
    "data2 = data[variables].copy()"
   ]
  },
  {
   "cell_type": "markdown",
   "metadata": {},
   "source": [
    "Revisamos los datos para el nuevo conjunto de variables"
   ]
  },
  {
   "cell_type": "code",
   "execution_count": 48,
   "metadata": {},
   "outputs": [
    {
     "data": {
      "text/html": [
       "<div>\n",
       "<style scoped>\n",
       "    .dataframe tbody tr th:only-of-type {\n",
       "        vertical-align: middle;\n",
       "    }\n",
       "\n",
       "    .dataframe tbody tr th {\n",
       "        vertical-align: top;\n",
       "    }\n",
       "\n",
       "    .dataframe thead th {\n",
       "        text-align: right;\n",
       "    }\n",
       "</style>\n",
       "<table border=\"1\" class=\"dataframe\">\n",
       "  <thead>\n",
       "    <tr style=\"text-align: right;\">\n",
       "      <th></th>\n",
       "      <th>total_of_special_requests</th>\n",
       "      <th>deposit_type</th>\n",
       "      <th>customer_type</th>\n",
       "      <th>stays_in_weekend_nights</th>\n",
       "      <th>stays_in_week_nights</th>\n",
       "      <th>required_car_parking_spaces</th>\n",
       "      <th>arrival_date_month</th>\n",
       "      <th>arrival_date_day_of_month</th>\n",
       "      <th>hotel</th>\n",
       "    </tr>\n",
       "  </thead>\n",
       "  <tbody>\n",
       "    <tr>\n",
       "      <th>0</th>\n",
       "      <td>0</td>\n",
       "      <td>No Deposit</td>\n",
       "      <td>Transient</td>\n",
       "      <td>0</td>\n",
       "      <td>0</td>\n",
       "      <td>0</td>\n",
       "      <td>July</td>\n",
       "      <td>1</td>\n",
       "      <td>Resort Hotel</td>\n",
       "    </tr>\n",
       "    <tr>\n",
       "      <th>1</th>\n",
       "      <td>0</td>\n",
       "      <td>No Deposit</td>\n",
       "      <td>Transient</td>\n",
       "      <td>0</td>\n",
       "      <td>0</td>\n",
       "      <td>0</td>\n",
       "      <td>July</td>\n",
       "      <td>1</td>\n",
       "      <td>Resort Hotel</td>\n",
       "    </tr>\n",
       "    <tr>\n",
       "      <th>2</th>\n",
       "      <td>0</td>\n",
       "      <td>No Deposit</td>\n",
       "      <td>Transient</td>\n",
       "      <td>0</td>\n",
       "      <td>1</td>\n",
       "      <td>0</td>\n",
       "      <td>July</td>\n",
       "      <td>1</td>\n",
       "      <td>Resort Hotel</td>\n",
       "    </tr>\n",
       "    <tr>\n",
       "      <th>3</th>\n",
       "      <td>0</td>\n",
       "      <td>No Deposit</td>\n",
       "      <td>Transient</td>\n",
       "      <td>0</td>\n",
       "      <td>1</td>\n",
       "      <td>0</td>\n",
       "      <td>July</td>\n",
       "      <td>1</td>\n",
       "      <td>Resort Hotel</td>\n",
       "    </tr>\n",
       "    <tr>\n",
       "      <th>4</th>\n",
       "      <td>1</td>\n",
       "      <td>No Deposit</td>\n",
       "      <td>Transient</td>\n",
       "      <td>0</td>\n",
       "      <td>2</td>\n",
       "      <td>0</td>\n",
       "      <td>July</td>\n",
       "      <td>1</td>\n",
       "      <td>Resort Hotel</td>\n",
       "    </tr>\n",
       "  </tbody>\n",
       "</table>\n",
       "</div>"
      ],
      "text/plain": [
       "   total_of_special_requests deposit_type customer_type  \\\n",
       "0                          0   No Deposit     Transient   \n",
       "1                          0   No Deposit     Transient   \n",
       "2                          0   No Deposit     Transient   \n",
       "3                          0   No Deposit     Transient   \n",
       "4                          1   No Deposit     Transient   \n",
       "\n",
       "   stays_in_weekend_nights  stays_in_week_nights  required_car_parking_spaces  \\\n",
       "0                        0                     0                            0   \n",
       "1                        0                     0                            0   \n",
       "2                        0                     1                            0   \n",
       "3                        0                     1                            0   \n",
       "4                        0                     2                            0   \n",
       "\n",
       "  arrival_date_month  arrival_date_day_of_month         hotel  \n",
       "0               July                          1  Resort Hotel  \n",
       "1               July                          1  Resort Hotel  \n",
       "2               July                          1  Resort Hotel  \n",
       "3               July                          1  Resort Hotel  \n",
       "4               July                          1  Resort Hotel  "
      ]
     },
     "execution_count": 48,
     "metadata": {},
     "output_type": "execute_result"
    }
   ],
   "source": [
    "data2.head()"
   ]
  },
  {
   "cell_type": "markdown",
   "metadata": {},
   "source": [
    "Revisamos el estado de los datos"
   ]
  },
  {
   "cell_type": "code",
   "execution_count": 49,
   "metadata": {},
   "outputs": [
    {
     "data": {
      "text/html": [
       "<div>\n",
       "<style scoped>\n",
       "    .dataframe tbody tr th:only-of-type {\n",
       "        vertical-align: middle;\n",
       "    }\n",
       "\n",
       "    .dataframe tbody tr th {\n",
       "        vertical-align: top;\n",
       "    }\n",
       "\n",
       "    .dataframe thead th {\n",
       "        text-align: right;\n",
       "    }\n",
       "</style>\n",
       "<table border=\"1\" class=\"dataframe\">\n",
       "  <thead>\n",
       "    <tr style=\"text-align: right;\">\n",
       "      <th></th>\n",
       "      <th>variable</th>\n",
       "      <th>q_nan</th>\n",
       "      <th>p_nan</th>\n",
       "      <th>q_zeros</th>\n",
       "      <th>p_zeros</th>\n",
       "      <th>unique</th>\n",
       "      <th>type</th>\n",
       "    </tr>\n",
       "  </thead>\n",
       "  <tbody>\n",
       "    <tr>\n",
       "      <th>6</th>\n",
       "      <td>arrival_date_month</td>\n",
       "      <td>0</td>\n",
       "      <td>0.0</td>\n",
       "      <td>0</td>\n",
       "      <td>0.000000</td>\n",
       "      <td>12</td>\n",
       "      <td>object</td>\n",
       "    </tr>\n",
       "    <tr>\n",
       "      <th>2</th>\n",
       "      <td>customer_type</td>\n",
       "      <td>0</td>\n",
       "      <td>0.0</td>\n",
       "      <td>0</td>\n",
       "      <td>0.000000</td>\n",
       "      <td>4</td>\n",
       "      <td>object</td>\n",
       "    </tr>\n",
       "    <tr>\n",
       "      <th>1</th>\n",
       "      <td>deposit_type</td>\n",
       "      <td>0</td>\n",
       "      <td>0.0</td>\n",
       "      <td>0</td>\n",
       "      <td>0.000000</td>\n",
       "      <td>3</td>\n",
       "      <td>object</td>\n",
       "    </tr>\n",
       "    <tr>\n",
       "      <th>8</th>\n",
       "      <td>hotel</td>\n",
       "      <td>0</td>\n",
       "      <td>0.0</td>\n",
       "      <td>0</td>\n",
       "      <td>0.000000</td>\n",
       "      <td>2</td>\n",
       "      <td>object</td>\n",
       "    </tr>\n",
       "    <tr>\n",
       "      <th>5</th>\n",
       "      <td>required_car_parking_spaces</td>\n",
       "      <td>0</td>\n",
       "      <td>0.0</td>\n",
       "      <td>111974</td>\n",
       "      <td>0.937884</td>\n",
       "      <td>5</td>\n",
       "      <td>int64</td>\n",
       "    </tr>\n",
       "    <tr>\n",
       "      <th>0</th>\n",
       "      <td>total_of_special_requests</td>\n",
       "      <td>0</td>\n",
       "      <td>0.0</td>\n",
       "      <td>70318</td>\n",
       "      <td>0.588977</td>\n",
       "      <td>6</td>\n",
       "      <td>int64</td>\n",
       "    </tr>\n",
       "    <tr>\n",
       "      <th>3</th>\n",
       "      <td>stays_in_weekend_nights</td>\n",
       "      <td>0</td>\n",
       "      <td>0.0</td>\n",
       "      <td>51998</td>\n",
       "      <td>0.435531</td>\n",
       "      <td>17</td>\n",
       "      <td>int64</td>\n",
       "    </tr>\n",
       "    <tr>\n",
       "      <th>4</th>\n",
       "      <td>stays_in_week_nights</td>\n",
       "      <td>0</td>\n",
       "      <td>0.0</td>\n",
       "      <td>7645</td>\n",
       "      <td>0.064034</td>\n",
       "      <td>35</td>\n",
       "      <td>int64</td>\n",
       "    </tr>\n",
       "    <tr>\n",
       "      <th>7</th>\n",
       "      <td>arrival_date_day_of_month</td>\n",
       "      <td>0</td>\n",
       "      <td>0.0</td>\n",
       "      <td>0</td>\n",
       "      <td>0.000000</td>\n",
       "      <td>31</td>\n",
       "      <td>int64</td>\n",
       "    </tr>\n",
       "  </tbody>\n",
       "</table>\n",
       "</div>"
      ],
      "text/plain": [
       "                      variable  q_nan  p_nan  q_zeros   p_zeros  unique  \\\n",
       "6           arrival_date_month      0    0.0        0  0.000000      12   \n",
       "2                customer_type      0    0.0        0  0.000000       4   \n",
       "1                 deposit_type      0    0.0        0  0.000000       3   \n",
       "8                        hotel      0    0.0        0  0.000000       2   \n",
       "5  required_car_parking_spaces      0    0.0   111974  0.937884       5   \n",
       "0    total_of_special_requests      0    0.0    70318  0.588977       6   \n",
       "3      stays_in_weekend_nights      0    0.0    51998  0.435531      17   \n",
       "4         stays_in_week_nights      0    0.0     7645  0.064034      35   \n",
       "7    arrival_date_day_of_month      0    0.0        0  0.000000      31   \n",
       "\n",
       "     type  \n",
       "6  object  \n",
       "2  object  \n",
       "1  object  \n",
       "8  object  \n",
       "5   int64  \n",
       "0   int64  \n",
       "3   int64  \n",
       "4   int64  \n",
       "7   int64  "
      ]
     },
     "execution_count": 49,
     "metadata": {},
     "output_type": "execute_result"
    }
   ],
   "source": [
    "status(data2).sort_values(by=[\"type\", \"p_nan\", \"p_zeros\", \"unique\"], ascending=False)"
   ]
  },
  {
   "cell_type": "markdown",
   "metadata": {},
   "source": [
    "Tenemos 4 variables declaradas como categóricas y 5 declaradas como numéricas. El dataset no tiene valores nulos, pero hay datos con valores cero (pero en ningún caso valores imposibles). La variable \"arrival_date_day_of_month\" está mal declaradas como numérica."
   ]
  },
  {
   "cell_type": "markdown",
   "metadata": {},
   "source": [
    "En este problema la variable a predecir is \"total_stay\", la cantidad de noches que permanece un viajero en el hotel. Creamos la variable a predecir a partir de las variables \"stays_in_weekend_nights\" (cantidad de noches en fines de semana) y \"stays_in_week_nights\" (cantidad de noches en días de semana)"
   ]
  },
  {
   "cell_type": "code",
   "execution_count": 50,
   "metadata": {},
   "outputs": [],
   "source": [
    "data_y = data2['stays_in_week_nights'] + data2['stays_in_weekend_nights']\n",
    "data_y = data_y.rename(\"total_stays\")\n",
    "\n",
    "data_x = data2.drop(['stays_in_week_nights','stays_in_weekend_nights'], axis=1)"
   ]
  },
  {
   "cell_type": "markdown",
   "metadata": {},
   "source": [
    "Inspeccionamos las variables independientes y la variable a predecir"
   ]
  },
  {
   "cell_type": "code",
   "execution_count": 51,
   "metadata": {},
   "outputs": [
    {
     "data": {
      "text/html": [
       "<div>\n",
       "<style scoped>\n",
       "    .dataframe tbody tr th:only-of-type {\n",
       "        vertical-align: middle;\n",
       "    }\n",
       "\n",
       "    .dataframe tbody tr th {\n",
       "        vertical-align: top;\n",
       "    }\n",
       "\n",
       "    .dataframe thead th {\n",
       "        text-align: right;\n",
       "    }\n",
       "</style>\n",
       "<table border=\"1\" class=\"dataframe\">\n",
       "  <thead>\n",
       "    <tr style=\"text-align: right;\">\n",
       "      <th></th>\n",
       "      <th>total_of_special_requests</th>\n",
       "      <th>deposit_type</th>\n",
       "      <th>customer_type</th>\n",
       "      <th>required_car_parking_spaces</th>\n",
       "      <th>arrival_date_month</th>\n",
       "      <th>arrival_date_day_of_month</th>\n",
       "      <th>hotel</th>\n",
       "    </tr>\n",
       "  </thead>\n",
       "  <tbody>\n",
       "    <tr>\n",
       "      <th>0</th>\n",
       "      <td>0</td>\n",
       "      <td>No Deposit</td>\n",
       "      <td>Transient</td>\n",
       "      <td>0</td>\n",
       "      <td>July</td>\n",
       "      <td>1</td>\n",
       "      <td>Resort Hotel</td>\n",
       "    </tr>\n",
       "    <tr>\n",
       "      <th>1</th>\n",
       "      <td>0</td>\n",
       "      <td>No Deposit</td>\n",
       "      <td>Transient</td>\n",
       "      <td>0</td>\n",
       "      <td>July</td>\n",
       "      <td>1</td>\n",
       "      <td>Resort Hotel</td>\n",
       "    </tr>\n",
       "    <tr>\n",
       "      <th>2</th>\n",
       "      <td>0</td>\n",
       "      <td>No Deposit</td>\n",
       "      <td>Transient</td>\n",
       "      <td>0</td>\n",
       "      <td>July</td>\n",
       "      <td>1</td>\n",
       "      <td>Resort Hotel</td>\n",
       "    </tr>\n",
       "    <tr>\n",
       "      <th>3</th>\n",
       "      <td>0</td>\n",
       "      <td>No Deposit</td>\n",
       "      <td>Transient</td>\n",
       "      <td>0</td>\n",
       "      <td>July</td>\n",
       "      <td>1</td>\n",
       "      <td>Resort Hotel</td>\n",
       "    </tr>\n",
       "    <tr>\n",
       "      <th>4</th>\n",
       "      <td>1</td>\n",
       "      <td>No Deposit</td>\n",
       "      <td>Transient</td>\n",
       "      <td>0</td>\n",
       "      <td>July</td>\n",
       "      <td>1</td>\n",
       "      <td>Resort Hotel</td>\n",
       "    </tr>\n",
       "  </tbody>\n",
       "</table>\n",
       "</div>"
      ],
      "text/plain": [
       "   total_of_special_requests deposit_type customer_type  \\\n",
       "0                          0   No Deposit     Transient   \n",
       "1                          0   No Deposit     Transient   \n",
       "2                          0   No Deposit     Transient   \n",
       "3                          0   No Deposit     Transient   \n",
       "4                          1   No Deposit     Transient   \n",
       "\n",
       "   required_car_parking_spaces arrival_date_month  arrival_date_day_of_month  \\\n",
       "0                            0               July                          1   \n",
       "1                            0               July                          1   \n",
       "2                            0               July                          1   \n",
       "3                            0               July                          1   \n",
       "4                            0               July                          1   \n",
       "\n",
       "          hotel  \n",
       "0  Resort Hotel  \n",
       "1  Resort Hotel  \n",
       "2  Resort Hotel  \n",
       "3  Resort Hotel  \n",
       "4  Resort Hotel  "
      ]
     },
     "execution_count": 51,
     "metadata": {},
     "output_type": "execute_result"
    }
   ],
   "source": [
    "data_x.head()"
   ]
  },
  {
   "cell_type": "code",
   "execution_count": 52,
   "metadata": {},
   "outputs": [
    {
     "data": {
      "text/plain": [
       "0    0\n",
       "1    0\n",
       "2    1\n",
       "3    1\n",
       "4    2\n",
       "Name: total_stays, dtype: int64"
      ]
     },
     "execution_count": 52,
     "metadata": {},
     "output_type": "execute_result"
    }
   ],
   "source": [
    "data_y.head()"
   ]
  },
  {
   "cell_type": "markdown",
   "metadata": {},
   "source": [
    "Transformamos la variable \"arrival_date_day_of_month\" a categórica"
   ]
  },
  {
   "cell_type": "code",
   "execution_count": 53,
   "metadata": {},
   "outputs": [],
   "source": [
    "data_x['arrival_date_day_of_month'] = data_x['arrival_date_day_of_month'].astype('str')"
   ]
  },
  {
   "cell_type": "markdown",
   "metadata": {},
   "source": [
    "Hacemos un análisis exploratorio de los datos. Empezamos con las variables categóricas"
   ]
  },
  {
   "cell_type": "markdown",
   "metadata": {},
   "source": [
    "Variable: \"total_of_special_requests\""
   ]
  },
  {
   "cell_type": "code",
   "execution_count": 54,
   "metadata": {},
   "outputs": [
    {
     "data": {
      "text/html": [
       "<div>\n",
       "<style scoped>\n",
       "    .dataframe tbody tr th:only-of-type {\n",
       "        vertical-align: middle;\n",
       "    }\n",
       "\n",
       "    .dataframe tbody tr th {\n",
       "        vertical-align: top;\n",
       "    }\n",
       "\n",
       "    .dataframe thead th {\n",
       "        text-align: right;\n",
       "    }\n",
       "</style>\n",
       "<table border=\"1\" class=\"dataframe\">\n",
       "  <thead>\n",
       "    <tr style=\"text-align: right;\">\n",
       "      <th></th>\n",
       "      <th>deposit_type</th>\n",
       "      <th>frequency</th>\n",
       "      <th>percentage</th>\n",
       "      <th>cumulative_perc</th>\n",
       "    </tr>\n",
       "  </thead>\n",
       "  <tbody>\n",
       "    <tr>\n",
       "      <th>0</th>\n",
       "      <td>No Deposit</td>\n",
       "      <td>104641</td>\n",
       "      <td>0.876464</td>\n",
       "      <td>0.876464</td>\n",
       "    </tr>\n",
       "    <tr>\n",
       "      <th>1</th>\n",
       "      <td>Non Refund</td>\n",
       "      <td>14587</td>\n",
       "      <td>0.122179</td>\n",
       "      <td>0.998643</td>\n",
       "    </tr>\n",
       "    <tr>\n",
       "      <th>2</th>\n",
       "      <td>Refundable</td>\n",
       "      <td>162</td>\n",
       "      <td>0.001357</td>\n",
       "      <td>1.000000</td>\n",
       "    </tr>\n",
       "  </tbody>\n",
       "</table>\n",
       "</div>"
      ],
      "text/plain": [
       "  deposit_type  frequency  percentage  cumulative_perc\n",
       "0   No Deposit     104641    0.876464         0.876464\n",
       "1   Non Refund      14587    0.122179         0.998643\n",
       "2   Refundable        162    0.001357         1.000000"
      ]
     },
     "execution_count": 54,
     "metadata": {},
     "output_type": "execute_result"
    }
   ],
   "source": [
    "freq_tbl(data_x[\"deposit_type\"])"
   ]
  },
  {
   "cell_type": "markdown",
   "metadata": {},
   "source": [
    "Vemos que las clases están desbalanceadas, la mayoría de los registros indican que no se hizo un depósito"
   ]
  },
  {
   "cell_type": "markdown",
   "metadata": {},
   "source": [
    "Variable: \"customer_type"
   ]
  },
  {
   "cell_type": "code",
   "execution_count": 55,
   "metadata": {},
   "outputs": [
    {
     "data": {
      "text/html": [
       "<div>\n",
       "<style scoped>\n",
       "    .dataframe tbody tr th:only-of-type {\n",
       "        vertical-align: middle;\n",
       "    }\n",
       "\n",
       "    .dataframe tbody tr th {\n",
       "        vertical-align: top;\n",
       "    }\n",
       "\n",
       "    .dataframe thead th {\n",
       "        text-align: right;\n",
       "    }\n",
       "</style>\n",
       "<table border=\"1\" class=\"dataframe\">\n",
       "  <thead>\n",
       "    <tr style=\"text-align: right;\">\n",
       "      <th></th>\n",
       "      <th>customer_type</th>\n",
       "      <th>frequency</th>\n",
       "      <th>percentage</th>\n",
       "      <th>cumulative_perc</th>\n",
       "    </tr>\n",
       "  </thead>\n",
       "  <tbody>\n",
       "    <tr>\n",
       "      <th>0</th>\n",
       "      <td>Transient</td>\n",
       "      <td>89613</td>\n",
       "      <td>0.750591</td>\n",
       "      <td>0.750591</td>\n",
       "    </tr>\n",
       "    <tr>\n",
       "      <th>1</th>\n",
       "      <td>Transient-Party</td>\n",
       "      <td>25124</td>\n",
       "      <td>0.210436</td>\n",
       "      <td>0.961027</td>\n",
       "    </tr>\n",
       "    <tr>\n",
       "      <th>2</th>\n",
       "      <td>Contract</td>\n",
       "      <td>4076</td>\n",
       "      <td>0.034140</td>\n",
       "      <td>0.995167</td>\n",
       "    </tr>\n",
       "    <tr>\n",
       "      <th>3</th>\n",
       "      <td>Group</td>\n",
       "      <td>577</td>\n",
       "      <td>0.004833</td>\n",
       "      <td>1.000000</td>\n",
       "    </tr>\n",
       "  </tbody>\n",
       "</table>\n",
       "</div>"
      ],
      "text/plain": [
       "     customer_type  frequency  percentage  cumulative_perc\n",
       "0        Transient      89613    0.750591         0.750591\n",
       "1  Transient-Party      25124    0.210436         0.961027\n",
       "2         Contract       4076    0.034140         0.995167\n",
       "3            Group        577    0.004833         1.000000"
      ]
     },
     "execution_count": 55,
     "metadata": {},
     "output_type": "execute_result"
    }
   ],
   "source": [
    "freq_tbl(data_x[\"customer_type\"])"
   ]
  },
  {
   "cell_type": "markdown",
   "metadata": {},
   "source": [
    "La mayoría de los clientes son transitorios, seguidos por los que ingresan debido a una fiesta."
   ]
  },
  {
   "cell_type": "markdown",
   "metadata": {},
   "source": [
    "Variable: \"arrival_date_month\""
   ]
  },
  {
   "cell_type": "code",
   "execution_count": 56,
   "metadata": {},
   "outputs": [
    {
     "data": {
      "text/html": [
       "<div>\n",
       "<style scoped>\n",
       "    .dataframe tbody tr th:only-of-type {\n",
       "        vertical-align: middle;\n",
       "    }\n",
       "\n",
       "    .dataframe tbody tr th {\n",
       "        vertical-align: top;\n",
       "    }\n",
       "\n",
       "    .dataframe thead th {\n",
       "        text-align: right;\n",
       "    }\n",
       "</style>\n",
       "<table border=\"1\" class=\"dataframe\">\n",
       "  <thead>\n",
       "    <tr style=\"text-align: right;\">\n",
       "      <th></th>\n",
       "      <th>arrival_date_month</th>\n",
       "      <th>frequency</th>\n",
       "      <th>percentage</th>\n",
       "      <th>cumulative_perc</th>\n",
       "    </tr>\n",
       "  </thead>\n",
       "  <tbody>\n",
       "    <tr>\n",
       "      <th>0</th>\n",
       "      <td>August</td>\n",
       "      <td>13877</td>\n",
       "      <td>0.116233</td>\n",
       "      <td>0.116233</td>\n",
       "    </tr>\n",
       "    <tr>\n",
       "      <th>1</th>\n",
       "      <td>July</td>\n",
       "      <td>12661</td>\n",
       "      <td>0.106047</td>\n",
       "      <td>0.222280</td>\n",
       "    </tr>\n",
       "    <tr>\n",
       "      <th>2</th>\n",
       "      <td>May</td>\n",
       "      <td>11791</td>\n",
       "      <td>0.098760</td>\n",
       "      <td>0.321040</td>\n",
       "    </tr>\n",
       "    <tr>\n",
       "      <th>3</th>\n",
       "      <td>October</td>\n",
       "      <td>11160</td>\n",
       "      <td>0.093475</td>\n",
       "      <td>0.414515</td>\n",
       "    </tr>\n",
       "    <tr>\n",
       "      <th>4</th>\n",
       "      <td>April</td>\n",
       "      <td>11089</td>\n",
       "      <td>0.092880</td>\n",
       "      <td>0.507396</td>\n",
       "    </tr>\n",
       "    <tr>\n",
       "      <th>5</th>\n",
       "      <td>June</td>\n",
       "      <td>10939</td>\n",
       "      <td>0.091624</td>\n",
       "      <td>0.599020</td>\n",
       "    </tr>\n",
       "    <tr>\n",
       "      <th>6</th>\n",
       "      <td>September</td>\n",
       "      <td>10508</td>\n",
       "      <td>0.088014</td>\n",
       "      <td>0.687034</td>\n",
       "    </tr>\n",
       "    <tr>\n",
       "      <th>7</th>\n",
       "      <td>March</td>\n",
       "      <td>9794</td>\n",
       "      <td>0.082034</td>\n",
       "      <td>0.769068</td>\n",
       "    </tr>\n",
       "    <tr>\n",
       "      <th>8</th>\n",
       "      <td>February</td>\n",
       "      <td>8068</td>\n",
       "      <td>0.067577</td>\n",
       "      <td>0.836645</td>\n",
       "    </tr>\n",
       "    <tr>\n",
       "      <th>9</th>\n",
       "      <td>November</td>\n",
       "      <td>6794</td>\n",
       "      <td>0.056906</td>\n",
       "      <td>0.893551</td>\n",
       "    </tr>\n",
       "    <tr>\n",
       "      <th>10</th>\n",
       "      <td>December</td>\n",
       "      <td>6780</td>\n",
       "      <td>0.056789</td>\n",
       "      <td>0.950339</td>\n",
       "    </tr>\n",
       "    <tr>\n",
       "      <th>11</th>\n",
       "      <td>January</td>\n",
       "      <td>5929</td>\n",
       "      <td>0.049661</td>\n",
       "      <td>1.000000</td>\n",
       "    </tr>\n",
       "  </tbody>\n",
       "</table>\n",
       "</div>"
      ],
      "text/plain": [
       "   arrival_date_month  frequency  percentage  cumulative_perc\n",
       "0              August      13877    0.116233         0.116233\n",
       "1                July      12661    0.106047         0.222280\n",
       "2                 May      11791    0.098760         0.321040\n",
       "3             October      11160    0.093475         0.414515\n",
       "4               April      11089    0.092880         0.507396\n",
       "5                June      10939    0.091624         0.599020\n",
       "6           September      10508    0.088014         0.687034\n",
       "7               March       9794    0.082034         0.769068\n",
       "8            February       8068    0.067577         0.836645\n",
       "9            November       6794    0.056906         0.893551\n",
       "10           December       6780    0.056789         0.950339\n",
       "11            January       5929    0.049661         1.000000"
      ]
     },
     "execution_count": 56,
     "metadata": {},
     "output_type": "execute_result"
    }
   ],
   "source": [
    "freq_tbl(data_x[\"arrival_date_month\"])"
   ]
  },
  {
   "cell_type": "markdown",
   "metadata": {},
   "source": [
    "En este caso hay una distribución aproximadamente uniforme para los meses en que los clientes se hospedan. Hay una leve tendencia hacia agosto y julio (meses del verano en el hemisferio norte)."
   ]
  },
  {
   "cell_type": "markdown",
   "metadata": {},
   "source": [
    "Variable: \"arrival_date_day_of_month\""
   ]
  },
  {
   "cell_type": "code",
   "execution_count": 57,
   "metadata": {},
   "outputs": [
    {
     "data": {
      "text/html": [
       "<div>\n",
       "<style scoped>\n",
       "    .dataframe tbody tr th:only-of-type {\n",
       "        vertical-align: middle;\n",
       "    }\n",
       "\n",
       "    .dataframe tbody tr th {\n",
       "        vertical-align: top;\n",
       "    }\n",
       "\n",
       "    .dataframe thead th {\n",
       "        text-align: right;\n",
       "    }\n",
       "</style>\n",
       "<table border=\"1\" class=\"dataframe\">\n",
       "  <thead>\n",
       "    <tr style=\"text-align: right;\">\n",
       "      <th></th>\n",
       "      <th>arrival_date_day_of_month</th>\n",
       "      <th>frequency</th>\n",
       "      <th>percentage</th>\n",
       "      <th>cumulative_perc</th>\n",
       "    </tr>\n",
       "  </thead>\n",
       "  <tbody>\n",
       "    <tr>\n",
       "      <th>0</th>\n",
       "      <td>17</td>\n",
       "      <td>4406</td>\n",
       "      <td>0.036904</td>\n",
       "      <td>0.036904</td>\n",
       "    </tr>\n",
       "    <tr>\n",
       "      <th>1</th>\n",
       "      <td>5</td>\n",
       "      <td>4317</td>\n",
       "      <td>0.036159</td>\n",
       "      <td>0.073063</td>\n",
       "    </tr>\n",
       "    <tr>\n",
       "      <th>2</th>\n",
       "      <td>15</td>\n",
       "      <td>4196</td>\n",
       "      <td>0.035145</td>\n",
       "      <td>0.108208</td>\n",
       "    </tr>\n",
       "    <tr>\n",
       "      <th>3</th>\n",
       "      <td>25</td>\n",
       "      <td>4160</td>\n",
       "      <td>0.034844</td>\n",
       "      <td>0.143052</td>\n",
       "    </tr>\n",
       "    <tr>\n",
       "      <th>4</th>\n",
       "      <td>26</td>\n",
       "      <td>4147</td>\n",
       "      <td>0.034735</td>\n",
       "      <td>0.177787</td>\n",
       "    </tr>\n",
       "    <tr>\n",
       "      <th>5</th>\n",
       "      <td>9</td>\n",
       "      <td>4096</td>\n",
       "      <td>0.034308</td>\n",
       "      <td>0.212095</td>\n",
       "    </tr>\n",
       "    <tr>\n",
       "      <th>6</th>\n",
       "      <td>12</td>\n",
       "      <td>4087</td>\n",
       "      <td>0.034232</td>\n",
       "      <td>0.246327</td>\n",
       "    </tr>\n",
       "    <tr>\n",
       "      <th>7</th>\n",
       "      <td>16</td>\n",
       "      <td>4078</td>\n",
       "      <td>0.034157</td>\n",
       "      <td>0.280484</td>\n",
       "    </tr>\n",
       "    <tr>\n",
       "      <th>8</th>\n",
       "      <td>2</td>\n",
       "      <td>4055</td>\n",
       "      <td>0.033964</td>\n",
       "      <td>0.314448</td>\n",
       "    </tr>\n",
       "    <tr>\n",
       "      <th>9</th>\n",
       "      <td>19</td>\n",
       "      <td>4052</td>\n",
       "      <td>0.033939</td>\n",
       "      <td>0.348388</td>\n",
       "    </tr>\n",
       "    <tr>\n",
       "      <th>10</th>\n",
       "      <td>20</td>\n",
       "      <td>4032</td>\n",
       "      <td>0.033772</td>\n",
       "      <td>0.382159</td>\n",
       "    </tr>\n",
       "    <tr>\n",
       "      <th>11</th>\n",
       "      <td>18</td>\n",
       "      <td>4002</td>\n",
       "      <td>0.033520</td>\n",
       "      <td>0.415680</td>\n",
       "    </tr>\n",
       "    <tr>\n",
       "      <th>12</th>\n",
       "      <td>24</td>\n",
       "      <td>3993</td>\n",
       "      <td>0.033445</td>\n",
       "      <td>0.449125</td>\n",
       "    </tr>\n",
       "    <tr>\n",
       "      <th>13</th>\n",
       "      <td>28</td>\n",
       "      <td>3946</td>\n",
       "      <td>0.033051</td>\n",
       "      <td>0.482176</td>\n",
       "    </tr>\n",
       "    <tr>\n",
       "      <th>14</th>\n",
       "      <td>8</td>\n",
       "      <td>3921</td>\n",
       "      <td>0.032842</td>\n",
       "      <td>0.515018</td>\n",
       "    </tr>\n",
       "    <tr>\n",
       "      <th>15</th>\n",
       "      <td>3</td>\n",
       "      <td>3855</td>\n",
       "      <td>0.032289</td>\n",
       "      <td>0.547307</td>\n",
       "    </tr>\n",
       "    <tr>\n",
       "      <th>16</th>\n",
       "      <td>30</td>\n",
       "      <td>3853</td>\n",
       "      <td>0.032272</td>\n",
       "      <td>0.579580</td>\n",
       "    </tr>\n",
       "    <tr>\n",
       "      <th>17</th>\n",
       "      <td>6</td>\n",
       "      <td>3833</td>\n",
       "      <td>0.032105</td>\n",
       "      <td>0.611684</td>\n",
       "    </tr>\n",
       "    <tr>\n",
       "      <th>18</th>\n",
       "      <td>14</td>\n",
       "      <td>3819</td>\n",
       "      <td>0.031988</td>\n",
       "      <td>0.643672</td>\n",
       "    </tr>\n",
       "    <tr>\n",
       "      <th>19</th>\n",
       "      <td>27</td>\n",
       "      <td>3802</td>\n",
       "      <td>0.031845</td>\n",
       "      <td>0.675517</td>\n",
       "    </tr>\n",
       "    <tr>\n",
       "      <th>20</th>\n",
       "      <td>21</td>\n",
       "      <td>3767</td>\n",
       "      <td>0.031552</td>\n",
       "      <td>0.707069</td>\n",
       "    </tr>\n",
       "    <tr>\n",
       "      <th>21</th>\n",
       "      <td>4</td>\n",
       "      <td>3763</td>\n",
       "      <td>0.031519</td>\n",
       "      <td>0.738588</td>\n",
       "    </tr>\n",
       "    <tr>\n",
       "      <th>22</th>\n",
       "      <td>13</td>\n",
       "      <td>3745</td>\n",
       "      <td>0.031368</td>\n",
       "      <td>0.769956</td>\n",
       "    </tr>\n",
       "    <tr>\n",
       "      <th>23</th>\n",
       "      <td>7</td>\n",
       "      <td>3665</td>\n",
       "      <td>0.030698</td>\n",
       "      <td>0.800653</td>\n",
       "    </tr>\n",
       "    <tr>\n",
       "      <th>24</th>\n",
       "      <td>1</td>\n",
       "      <td>3626</td>\n",
       "      <td>0.030371</td>\n",
       "      <td>0.831024</td>\n",
       "    </tr>\n",
       "    <tr>\n",
       "      <th>25</th>\n",
       "      <td>23</td>\n",
       "      <td>3616</td>\n",
       "      <td>0.030287</td>\n",
       "      <td>0.861312</td>\n",
       "    </tr>\n",
       "    <tr>\n",
       "      <th>26</th>\n",
       "      <td>11</td>\n",
       "      <td>3599</td>\n",
       "      <td>0.030145</td>\n",
       "      <td>0.891457</td>\n",
       "    </tr>\n",
       "    <tr>\n",
       "      <th>27</th>\n",
       "      <td>22</td>\n",
       "      <td>3596</td>\n",
       "      <td>0.030120</td>\n",
       "      <td>0.921576</td>\n",
       "    </tr>\n",
       "    <tr>\n",
       "      <th>28</th>\n",
       "      <td>29</td>\n",
       "      <td>3580</td>\n",
       "      <td>0.029986</td>\n",
       "      <td>0.951562</td>\n",
       "    </tr>\n",
       "    <tr>\n",
       "      <th>29</th>\n",
       "      <td>10</td>\n",
       "      <td>3575</td>\n",
       "      <td>0.029944</td>\n",
       "      <td>0.981506</td>\n",
       "    </tr>\n",
       "    <tr>\n",
       "      <th>30</th>\n",
       "      <td>31</td>\n",
       "      <td>2208</td>\n",
       "      <td>0.018494</td>\n",
       "      <td>1.000000</td>\n",
       "    </tr>\n",
       "  </tbody>\n",
       "</table>\n",
       "</div>"
      ],
      "text/plain": [
       "   arrival_date_day_of_month  frequency  percentage  cumulative_perc\n",
       "0                         17       4406    0.036904         0.036904\n",
       "1                          5       4317    0.036159         0.073063\n",
       "2                         15       4196    0.035145         0.108208\n",
       "3                         25       4160    0.034844         0.143052\n",
       "4                         26       4147    0.034735         0.177787\n",
       "5                          9       4096    0.034308         0.212095\n",
       "6                         12       4087    0.034232         0.246327\n",
       "7                         16       4078    0.034157         0.280484\n",
       "8                          2       4055    0.033964         0.314448\n",
       "9                         19       4052    0.033939         0.348388\n",
       "10                        20       4032    0.033772         0.382159\n",
       "11                        18       4002    0.033520         0.415680\n",
       "12                        24       3993    0.033445         0.449125\n",
       "13                        28       3946    0.033051         0.482176\n",
       "14                         8       3921    0.032842         0.515018\n",
       "15                         3       3855    0.032289         0.547307\n",
       "16                        30       3853    0.032272         0.579580\n",
       "17                         6       3833    0.032105         0.611684\n",
       "18                        14       3819    0.031988         0.643672\n",
       "19                        27       3802    0.031845         0.675517\n",
       "20                        21       3767    0.031552         0.707069\n",
       "21                         4       3763    0.031519         0.738588\n",
       "22                        13       3745    0.031368         0.769956\n",
       "23                         7       3665    0.030698         0.800653\n",
       "24                         1       3626    0.030371         0.831024\n",
       "25                        23       3616    0.030287         0.861312\n",
       "26                        11       3599    0.030145         0.891457\n",
       "27                        22       3596    0.030120         0.921576\n",
       "28                        29       3580    0.029986         0.951562\n",
       "29                        10       3575    0.029944         0.981506\n",
       "30                        31       2208    0.018494         1.000000"
      ]
     },
     "execution_count": 57,
     "metadata": {},
     "output_type": "execute_result"
    }
   ],
   "source": [
    "freq_tbl(data_x[\"arrival_date_day_of_month\"])"
   ]
  },
  {
   "cell_type": "markdown",
   "metadata": {},
   "source": [
    "Nuevamente vemos una distribución aproximadamente uniforme, esta vez para el día del mes en que eligen hospedarse los clientes. El día menos elegido es el 31."
   ]
  },
  {
   "cell_type": "markdown",
   "metadata": {},
   "source": [
    "Analizamos que es lo que ocurre cuando dividimos los días en categorías (elegimos 5 categorías)"
   ]
  },
  {
   "cell_type": "code",
   "execution_count": 58,
   "metadata": {},
   "outputs": [],
   "source": [
    "data_x['arrival_date_day_of_month'] = data_x['arrival_date_day_of_month'].astype(int)"
   ]
  },
  {
   "cell_type": "code",
   "execution_count": 60,
   "metadata": {},
   "outputs": [
    {
     "data": {
      "text/plain": [
       "0          1\n",
       "1          1\n",
       "2          1\n",
       "3          1\n",
       "4          1\n",
       "          ..\n",
       "119385    30\n",
       "119386    31\n",
       "119387    31\n",
       "119388    31\n",
       "119389    29\n",
       "Name: arrival_date_day_of_month, Length: 119390, dtype: int64"
      ]
     },
     "execution_count": 60,
     "metadata": {},
     "output_type": "execute_result"
    }
   ],
   "source": [
    "data_x[\"arrival_date_day_of_month\"]"
   ]
  },
  {
   "cell_type": "code",
   "execution_count": 92,
   "metadata": {},
   "outputs": [
    {
     "data": {
      "text/html": [
       "<div>\n",
       "<style scoped>\n",
       "    .dataframe tbody tr th:only-of-type {\n",
       "        vertical-align: middle;\n",
       "    }\n",
       "\n",
       "    .dataframe tbody tr th {\n",
       "        vertical-align: top;\n",
       "    }\n",
       "\n",
       "    .dataframe thead th {\n",
       "        text-align: right;\n",
       "    }\n",
       "</style>\n",
       "<table border=\"1\" class=\"dataframe\">\n",
       "  <thead>\n",
       "    <tr style=\"text-align: right;\">\n",
       "      <th></th>\n",
       "      <th>arrival_date_day_of_month_cat</th>\n",
       "      <th>frequency</th>\n",
       "      <th>percentage</th>\n",
       "      <th>cumulative_perc</th>\n",
       "    </tr>\n",
       "  </thead>\n",
       "  <tbody>\n",
       "    <tr>\n",
       "      <th>0</th>\n",
       "      <td>(0.999, 7.0]</td>\n",
       "      <td>27114</td>\n",
       "      <td>0.227104</td>\n",
       "      <td>0.227104</td>\n",
       "    </tr>\n",
       "    <tr>\n",
       "      <th>1</th>\n",
       "      <td>(13.0, 19.0]</td>\n",
       "      <td>24553</td>\n",
       "      <td>0.205654</td>\n",
       "      <td>0.432758</td>\n",
       "    </tr>\n",
       "    <tr>\n",
       "      <th>2</th>\n",
       "      <td>(19.0, 25.0]</td>\n",
       "      <td>23164</td>\n",
       "      <td>0.194020</td>\n",
       "      <td>0.626778</td>\n",
       "    </tr>\n",
       "    <tr>\n",
       "      <th>3</th>\n",
       "      <td>(7.0, 13.0]</td>\n",
       "      <td>23023</td>\n",
       "      <td>0.192839</td>\n",
       "      <td>0.819616</td>\n",
       "    </tr>\n",
       "    <tr>\n",
       "      <th>4</th>\n",
       "      <td>(25.0, 31.0]</td>\n",
       "      <td>21536</td>\n",
       "      <td>0.180384</td>\n",
       "      <td>1.000000</td>\n",
       "    </tr>\n",
       "  </tbody>\n",
       "</table>\n",
       "</div>"
      ],
      "text/plain": [
       "  arrival_date_day_of_month_cat  frequency  percentage  cumulative_perc\n",
       "0                  (0.999, 7.0]      27114    0.227104         0.227104\n",
       "1                  (13.0, 19.0]      24553    0.205654         0.432758\n",
       "2                  (19.0, 25.0]      23164    0.194020         0.626778\n",
       "3                   (7.0, 13.0]      23023    0.192839         0.819616\n",
       "4                  (25.0, 31.0]      21536    0.180384         1.000000"
      ]
     },
     "execution_count": 92,
     "metadata": {},
     "output_type": "execute_result"
    }
   ],
   "source": [
    "data_x[\"arrival_date_day_of_month_cat\"], bins = pd.qcut(data_x[\"arrival_date_day_of_month\"], q=5, retbins=True)\n",
    "freq_tbl(data_x[\"arrival_date_day_of_month_cat\"])"
   ]
  },
  {
   "cell_type": "markdown",
   "metadata": {},
   "source": [
    "Vemos que en la primera semana de los meses es donde los clientes eligen hospedarse con más frecuencia. La última semana del mes es la fecha menos frecuente."
   ]
  },
  {
   "cell_type": "markdown",
   "metadata": {},
   "source": [
    "Variable: \"hotel\""
   ]
  },
  {
   "cell_type": "code",
   "execution_count": 74,
   "metadata": {},
   "outputs": [
    {
     "data": {
      "text/html": [
       "<div>\n",
       "<style scoped>\n",
       "    .dataframe tbody tr th:only-of-type {\n",
       "        vertical-align: middle;\n",
       "    }\n",
       "\n",
       "    .dataframe tbody tr th {\n",
       "        vertical-align: top;\n",
       "    }\n",
       "\n",
       "    .dataframe thead th {\n",
       "        text-align: right;\n",
       "    }\n",
       "</style>\n",
       "<table border=\"1\" class=\"dataframe\">\n",
       "  <thead>\n",
       "    <tr style=\"text-align: right;\">\n",
       "      <th></th>\n",
       "      <th>hotel</th>\n",
       "      <th>frequency</th>\n",
       "      <th>percentage</th>\n",
       "      <th>cumulative_perc</th>\n",
       "    </tr>\n",
       "  </thead>\n",
       "  <tbody>\n",
       "    <tr>\n",
       "      <th>0</th>\n",
       "      <td>City Hotel</td>\n",
       "      <td>79330</td>\n",
       "      <td>0.664461</td>\n",
       "      <td>0.664461</td>\n",
       "    </tr>\n",
       "    <tr>\n",
       "      <th>1</th>\n",
       "      <td>Resort Hotel</td>\n",
       "      <td>40060</td>\n",
       "      <td>0.335539</td>\n",
       "      <td>1.000000</td>\n",
       "    </tr>\n",
       "  </tbody>\n",
       "</table>\n",
       "</div>"
      ],
      "text/plain": [
       "          hotel  frequency  percentage  cumulative_perc\n",
       "0    City Hotel      79330    0.664461         0.664461\n",
       "1  Resort Hotel      40060    0.335539         1.000000"
      ]
     },
     "execution_count": 74,
     "metadata": {},
     "output_type": "execute_result"
    }
   ],
   "source": [
    "freq_tbl(data_x[\"hotel\"])"
   ]
  },
  {
   "cell_type": "markdown",
   "metadata": {},
   "source": [
    "Vemos que las clases no están muy desbalanceadas, aunque la mayoría de registros corresponden al hotel Resort Hotel."
   ]
  },
  {
   "cell_type": "markdown",
   "metadata": {},
   "source": [
    "Analizamos ahora las variables numéricas."
   ]
  },
  {
   "cell_type": "markdown",
   "metadata": {},
   "source": [
    "Variable: \"total_of_special_requests\"\t"
   ]
  },
  {
   "cell_type": "code",
   "execution_count": 79,
   "metadata": {},
   "outputs": [
    {
     "data": {
      "text/html": [
       "<div>\n",
       "<style scoped>\n",
       "    .dataframe tbody tr th:only-of-type {\n",
       "        vertical-align: middle;\n",
       "    }\n",
       "\n",
       "    .dataframe tbody tr th {\n",
       "        vertical-align: top;\n",
       "    }\n",
       "\n",
       "    .dataframe thead th {\n",
       "        text-align: right;\n",
       "    }\n",
       "</style>\n",
       "<table border=\"1\" class=\"dataframe\">\n",
       "  <thead>\n",
       "    <tr style=\"text-align: right;\">\n",
       "      <th></th>\n",
       "      <th>variable</th>\n",
       "      <th>mean</th>\n",
       "      <th>std_dev</th>\n",
       "      <th>variation_coef</th>\n",
       "      <th>p_0.01</th>\n",
       "      <th>p_0.05</th>\n",
       "      <th>p_0.25</th>\n",
       "      <th>p_0.5</th>\n",
       "      <th>p_0.75</th>\n",
       "      <th>p_0.95</th>\n",
       "      <th>p_0.99</th>\n",
       "    </tr>\n",
       "  </thead>\n",
       "  <tbody>\n",
       "    <tr>\n",
       "      <th>0</th>\n",
       "      <td>total_of_special_requests</td>\n",
       "      <td>0.571363</td>\n",
       "      <td>0.792798</td>\n",
       "      <td>1.387557</td>\n",
       "      <td>0.0</td>\n",
       "      <td>0.0</td>\n",
       "      <td>0.0</td>\n",
       "      <td>0.0</td>\n",
       "      <td>1.0</td>\n",
       "      <td>2.0</td>\n",
       "      <td>3.0</td>\n",
       "    </tr>\n",
       "  </tbody>\n",
       "</table>\n",
       "</div>"
      ],
      "text/plain": [
       "                    variable      mean   std_dev  variation_coef  p_0.01  \\\n",
       "0  total_of_special_requests  0.571363  0.792798        1.387557     0.0   \n",
       "\n",
       "   p_0.05  p_0.25  p_0.5  p_0.75  p_0.95  p_0.99  \n",
       "0     0.0     0.0    0.0     1.0     2.0     3.0  "
      ]
     },
     "execution_count": 79,
     "metadata": {},
     "output_type": "execute_result"
    }
   ],
   "source": [
    "profiling_num(data_x[\"total_of_special_requests\"])"
   ]
  },
  {
   "cell_type": "code",
   "execution_count": 81,
   "metadata": {},
   "outputs": [
    {
     "data": {
      "text/plain": [
       "0    70318\n",
       "1    33226\n",
       "2    12969\n",
       "3     2497\n",
       "4      340\n",
       "5       40\n",
       "Name: total_of_special_requests, dtype: int64"
      ]
     },
     "execution_count": 81,
     "metadata": {},
     "output_type": "execute_result"
    }
   ],
   "source": [
    "data_x[\"total_of_special_requests\"].value_counts()"
   ]
  },
  {
   "cell_type": "code",
   "execution_count": 82,
   "metadata": {},
   "outputs": [
    {
     "data": {
      "text/plain": [
       "count    119390.000000\n",
       "mean          0.571363\n",
       "std           0.792798\n",
       "min           0.000000\n",
       "25%           0.000000\n",
       "50%           0.000000\n",
       "75%           1.000000\n",
       "max           5.000000\n",
       "Name: total_of_special_requests, dtype: float64"
      ]
     },
     "execution_count": 82,
     "metadata": {},
     "output_type": "execute_result"
    }
   ],
   "source": [
    "data_x[\"total_of_special_requests\"].describe()"
   ]
  },
  {
   "cell_type": "markdown",
   "metadata": {},
   "source": [
    "Vemos que esta variable está desbalanceada, la mayoría de los casos corresponden a 0 pedidos especiales, seguido de 1 pedido especial. El coeficiente de variación es mayor a 1, lo que sugiere presencia de outliers. Esto se confirma, pues el cuantil 0.99 corresponde a 3 pedidos especiales, y hay 380 casos de 4 o 5 pedidos."
   ]
  },
  {
   "cell_type": "markdown",
   "metadata": {},
   "source": [
    "Variable: \"required_car_parking_spaces\""
   ]
  },
  {
   "cell_type": "code",
   "execution_count": 84,
   "metadata": {},
   "outputs": [
    {
     "data": {
      "text/html": [
       "<div>\n",
       "<style scoped>\n",
       "    .dataframe tbody tr th:only-of-type {\n",
       "        vertical-align: middle;\n",
       "    }\n",
       "\n",
       "    .dataframe tbody tr th {\n",
       "        vertical-align: top;\n",
       "    }\n",
       "\n",
       "    .dataframe thead th {\n",
       "        text-align: right;\n",
       "    }\n",
       "</style>\n",
       "<table border=\"1\" class=\"dataframe\">\n",
       "  <thead>\n",
       "    <tr style=\"text-align: right;\">\n",
       "      <th></th>\n",
       "      <th>variable</th>\n",
       "      <th>mean</th>\n",
       "      <th>std_dev</th>\n",
       "      <th>variation_coef</th>\n",
       "      <th>p_0.01</th>\n",
       "      <th>p_0.05</th>\n",
       "      <th>p_0.25</th>\n",
       "      <th>p_0.5</th>\n",
       "      <th>p_0.75</th>\n",
       "      <th>p_0.95</th>\n",
       "      <th>p_0.99</th>\n",
       "    </tr>\n",
       "  </thead>\n",
       "  <tbody>\n",
       "    <tr>\n",
       "      <th>0</th>\n",
       "      <td>required_car_parking_spaces</td>\n",
       "      <td>0.062518</td>\n",
       "      <td>0.245291</td>\n",
       "      <td>3.923541</td>\n",
       "      <td>0.0</td>\n",
       "      <td>0.0</td>\n",
       "      <td>0.0</td>\n",
       "      <td>0.0</td>\n",
       "      <td>0.0</td>\n",
       "      <td>1.0</td>\n",
       "      <td>1.0</td>\n",
       "    </tr>\n",
       "  </tbody>\n",
       "</table>\n",
       "</div>"
      ],
      "text/plain": [
       "                      variable      mean   std_dev  variation_coef  p_0.01  \\\n",
       "0  required_car_parking_spaces  0.062518  0.245291        3.923541     0.0   \n",
       "\n",
       "   p_0.05  p_0.25  p_0.5  p_0.75  p_0.95  p_0.99  \n",
       "0     0.0     0.0    0.0     0.0     1.0     1.0  "
      ]
     },
     "execution_count": 84,
     "metadata": {},
     "output_type": "execute_result"
    }
   ],
   "source": [
    "profiling_num(data_x[\"required_car_parking_spaces\"])"
   ]
  },
  {
   "cell_type": "code",
   "execution_count": 85,
   "metadata": {},
   "outputs": [
    {
     "data": {
      "text/plain": [
       "0    111974\n",
       "1      7383\n",
       "2        28\n",
       "3         3\n",
       "8         2\n",
       "Name: required_car_parking_spaces, dtype: int64"
      ]
     },
     "execution_count": 85,
     "metadata": {},
     "output_type": "execute_result"
    }
   ],
   "source": [
    "data_x[\"required_car_parking_spaces\"].value_counts()"
   ]
  },
  {
   "cell_type": "code",
   "execution_count": 86,
   "metadata": {},
   "outputs": [
    {
     "data": {
      "text/plain": [
       "count    119390.000000\n",
       "mean          0.062518\n",
       "std           0.245291\n",
       "min           0.000000\n",
       "25%           0.000000\n",
       "50%           0.000000\n",
       "75%           0.000000\n",
       "max           8.000000\n",
       "Name: required_car_parking_spaces, dtype: float64"
      ]
     },
     "execution_count": 86,
     "metadata": {},
     "output_type": "execute_result"
    }
   ],
   "source": [
    "data_x[\"required_car_parking_spaces\"].describe()"
   ]
  },
  {
   "cell_type": "markdown",
   "metadata": {},
   "source": [
    "Nuevamente vemos que la clase está desbalanceada, en este caso es aún más significativa. Hay 33 casos que pueden tratarse como outliers."
   ]
  },
  {
   "cell_type": "markdown",
   "metadata": {},
   "source": [
    "Analizamos ahora la variable a predecir"
   ]
  },
  {
   "cell_type": "code",
   "execution_count": 93,
   "metadata": {},
   "outputs": [
    {
     "data": {
      "text/html": [
       "<div>\n",
       "<style scoped>\n",
       "    .dataframe tbody tr th:only-of-type {\n",
       "        vertical-align: middle;\n",
       "    }\n",
       "\n",
       "    .dataframe tbody tr th {\n",
       "        vertical-align: top;\n",
       "    }\n",
       "\n",
       "    .dataframe thead th {\n",
       "        text-align: right;\n",
       "    }\n",
       "</style>\n",
       "<table border=\"1\" class=\"dataframe\">\n",
       "  <thead>\n",
       "    <tr style=\"text-align: right;\">\n",
       "      <th></th>\n",
       "      <th>variable</th>\n",
       "      <th>mean</th>\n",
       "      <th>std_dev</th>\n",
       "      <th>variation_coef</th>\n",
       "      <th>p_0.01</th>\n",
       "      <th>p_0.05</th>\n",
       "      <th>p_0.25</th>\n",
       "      <th>p_0.5</th>\n",
       "      <th>p_0.75</th>\n",
       "      <th>p_0.95</th>\n",
       "      <th>p_0.99</th>\n",
       "    </tr>\n",
       "  </thead>\n",
       "  <tbody>\n",
       "    <tr>\n",
       "      <th>0</th>\n",
       "      <td>total_stays</td>\n",
       "      <td>3.4279</td>\n",
       "      <td>2.557439</td>\n",
       "      <td>0.746066</td>\n",
       "      <td>1.0</td>\n",
       "      <td>1.0</td>\n",
       "      <td>2.0</td>\n",
       "      <td>3.0</td>\n",
       "      <td>4.0</td>\n",
       "      <td>7.0</td>\n",
       "      <td>14.0</td>\n",
       "    </tr>\n",
       "  </tbody>\n",
       "</table>\n",
       "</div>"
      ],
      "text/plain": [
       "      variable    mean   std_dev  variation_coef  p_0.01  p_0.05  p_0.25  \\\n",
       "0  total_stays  3.4279  2.557439        0.746066     1.0     1.0     2.0   \n",
       "\n",
       "   p_0.5  p_0.75  p_0.95  p_0.99  \n",
       "0    3.0     4.0     7.0    14.0  "
      ]
     },
     "execution_count": 93,
     "metadata": {},
     "output_type": "execute_result"
    }
   ],
   "source": [
    "profiling_num(data_y)"
   ]
  },
  {
   "cell_type": "code",
   "execution_count": 94,
   "metadata": {},
   "outputs": [
    {
     "data": {
      "text/plain": [
       "2     27643\n",
       "3     27076\n",
       "1     21020\n",
       "4     17383\n",
       "7      8655\n",
       "5      7784\n",
       "6      3857\n",
       "8      1161\n",
       "10     1139\n",
       "14      916\n",
       "9       841\n",
       "0       715\n",
       "11      396\n",
       "12      223\n",
       "13      142\n",
       "15       75\n",
       "21       71\n",
       "16       40\n",
       "25       37\n",
       "28       35\n",
       "18       35\n",
       "19       22\n",
       "17       20\n",
       "22       14\n",
       "29       14\n",
       "20       14\n",
       "30       13\n",
       "23        8\n",
       "26        6\n",
       "24        6\n",
       "27        5\n",
       "35        5\n",
       "42        4\n",
       "33        3\n",
       "56        2\n",
       "57        1\n",
       "34        1\n",
       "38        1\n",
       "43        1\n",
       "69        1\n",
       "45        1\n",
       "46        1\n",
       "48        1\n",
       "49        1\n",
       "60        1\n",
       "Name: total_stays, dtype: int64"
      ]
     },
     "execution_count": 94,
     "metadata": {},
     "output_type": "execute_result"
    }
   ],
   "source": [
    "data_y.value_counts()"
   ]
  },
  {
   "cell_type": "code",
   "execution_count": 95,
   "metadata": {},
   "outputs": [
    {
     "data": {
      "text/plain": [
       "count    119390.000000\n",
       "mean          3.427900\n",
       "std           2.557439\n",
       "min           0.000000\n",
       "25%           2.000000\n",
       "50%           3.000000\n",
       "75%           4.000000\n",
       "max          69.000000\n",
       "Name: total_stays, dtype: float64"
      ]
     },
     "execution_count": 95,
     "metadata": {},
     "output_type": "execute_result"
    }
   ],
   "source": [
    "data_y.describe()"
   ]
  },
  {
   "cell_type": "markdown",
   "metadata": {},
   "source": [
    "Vemos que la variable a predecir tiene un coeficiente de variación menor a 1, por lo que no está muy afectada por outliers (aunque si tiene una cantidad significativa de ellos). La cantidad de días que permanece un huesped en el hotel es de 3.4 $\\pm$ 2.6 al 66% de precisión (1 $\\sigma$)"
   ]
  },
  {
   "cell_type": "markdown",
   "metadata": {},
   "source": [
    "Hacemos un análisis bivariado. Primero entre las variables categóricas y la variable a predecir (numérica). Hacemos un dataframe con las variables independientes y la variable a predecir."
   ]
  },
  {
   "cell_type": "code",
   "execution_count": 121,
   "metadata": {},
   "outputs": [],
   "source": [
    "data_xy = pd.concat([data_x, data_y], axis=1)\n",
    "data_xy = data_xy.drop(\"arrival_date_day_of_month\", axis=1)"
   ]
  },
  {
   "cell_type": "markdown",
   "metadata": {},
   "source": [
    "Analizamos las variables \"deposit_type\" y \"total_stays\""
   ]
  },
  {
   "cell_type": "code",
   "execution_count": 122,
   "metadata": {},
   "outputs": [
    {
     "data": {
      "text/plain": [
       "deposit_type\n",
       "Refundable    3.827160\n",
       "No Deposit    3.526964\n",
       "Non Refund    2.712826\n",
       "Name: total_stays, dtype: float64"
      ]
     },
     "execution_count": 122,
     "metadata": {},
     "output_type": "execute_result"
    }
   ],
   "source": [
    "data_xy.groupby('deposit_type')['total_stays'].mean().sort_values(ascending=False)"
   ]
  },
  {
   "cell_type": "markdown",
   "metadata": {},
   "source": [
    "Vemos que los clientes que pagan un depósito reembolsable se hospedan en promedio más días."
   ]
  },
  {
   "cell_type": "markdown",
   "metadata": {},
   "source": [
    "Analizamos las variables \"customer_type\" y \"total_stays\""
   ]
  },
  {
   "cell_type": "code",
   "execution_count": 123,
   "metadata": {},
   "outputs": [
    {
     "data": {
      "text/plain": [
       "customer_type\n",
       "Contract           5.320658\n",
       "Transient          3.447145\n",
       "Transient-Party    3.064719\n",
       "Group              2.882149\n",
       "Name: total_stays, dtype: float64"
      ]
     },
     "execution_count": 123,
     "metadata": {},
     "output_type": "execute_result"
    }
   ],
   "source": [
    "data_xy.groupby('customer_type')['total_stays'].mean().sort_values(ascending=False)"
   ]
  },
  {
   "cell_type": "markdown",
   "metadata": {},
   "source": [
    "Los clientes que se hospedan en la modalidad Contract se quedan más días en promedio."
   ]
  },
  {
   "cell_type": "markdown",
   "metadata": {},
   "source": [
    "Analizamos las variables \"arrival_date_day_of_month\" (categorizada) y \"total_stays"
   ]
  },
  {
   "cell_type": "code",
   "execution_count": 124,
   "metadata": {},
   "outputs": [
    {
     "data": {
      "text/plain": [
       "arrival_date_day_of_month_cat\n",
       "(0.999, 7.0]    3.604522\n",
       "(25.0, 31.0]    3.403278\n",
       "(19.0, 25.0]    3.383181\n",
       "(7.0, 13.0]     3.373974\n",
       "(13.0, 19.0]    3.347208\n",
       "Name: total_stays, dtype: float64"
      ]
     },
     "execution_count": 124,
     "metadata": {},
     "output_type": "execute_result"
    }
   ],
   "source": [
    "data_xy.groupby('arrival_date_day_of_month_cat')['total_stays'].mean().sort_values(ascending=False)"
   ]
  },
  {
   "cell_type": "markdown",
   "metadata": {},
   "source": [
    "Aunque es muy estable, en promedio los clientes que se hospedan la primera semana se alojan más días (como vimos previamente)"
   ]
  },
  {
   "cell_type": "markdown",
   "metadata": {},
   "source": [
    "Analizamos las variables \"hotel\" y \"total_stays"
   ]
  },
  {
   "cell_type": "code",
   "execution_count": 125,
   "metadata": {},
   "outputs": [
    {
     "data": {
      "text/plain": [
       "hotel\n",
       "Resort Hotel    4.318547\n",
       "City Hotel      2.978142\n",
       "Name: total_stays, dtype: float64"
      ]
     },
     "execution_count": 125,
     "metadata": {},
     "output_type": "execute_result"
    }
   ],
   "source": [
    "data_xy.groupby('hotel')['total_stays'].mean().sort_values(ascending=False)"
   ]
  },
  {
   "cell_type": "markdown",
   "metadata": {},
   "source": [
    "En promedio los clientes que se hospedan en el Resort Hotel se quedan más días."
   ]
  },
  {
   "cell_type": "markdown",
   "metadata": {},
   "source": [
    "Para las variables numéricas analizamos la correlación lineal con la estadística r (Pearson)"
   ]
  },
  {
   "cell_type": "code",
   "execution_count": 126,
   "metadata": {},
   "outputs": [
    {
     "data": {
      "text/html": [
       "<div>\n",
       "<style scoped>\n",
       "    .dataframe tbody tr th:only-of-type {\n",
       "        vertical-align: middle;\n",
       "    }\n",
       "\n",
       "    .dataframe tbody tr th {\n",
       "        vertical-align: top;\n",
       "    }\n",
       "\n",
       "    .dataframe thead th {\n",
       "        text-align: right;\n",
       "    }\n",
       "</style>\n",
       "<table border=\"1\" class=\"dataframe\">\n",
       "  <thead>\n",
       "    <tr style=\"text-align: right;\">\n",
       "      <th></th>\n",
       "      <th>total_of_special_requests</th>\n",
       "      <th>required_car_parking_spaces</th>\n",
       "      <th>total_stays</th>\n",
       "    </tr>\n",
       "  </thead>\n",
       "  <tbody>\n",
       "    <tr>\n",
       "      <th>total_of_special_requests</th>\n",
       "      <td>1.000000</td>\n",
       "      <td>0.082626</td>\n",
       "      <td>0.079259</td>\n",
       "    </tr>\n",
       "    <tr>\n",
       "      <th>required_car_parking_spaces</th>\n",
       "      <td>0.082626</td>\n",
       "      <td>1.000000</td>\n",
       "      <td>-0.025794</td>\n",
       "    </tr>\n",
       "    <tr>\n",
       "      <th>total_stays</th>\n",
       "      <td>0.079259</td>\n",
       "      <td>-0.025794</td>\n",
       "      <td>1.000000</td>\n",
       "    </tr>\n",
       "  </tbody>\n",
       "</table>\n",
       "</div>"
      ],
      "text/plain": [
       "                             total_of_special_requests  \\\n",
       "total_of_special_requests                     1.000000   \n",
       "required_car_parking_spaces                   0.082626   \n",
       "total_stays                                   0.079259   \n",
       "\n",
       "                             required_car_parking_spaces  total_stays  \n",
       "total_of_special_requests                       0.082626     0.079259  \n",
       "required_car_parking_spaces                     1.000000    -0.025794  \n",
       "total_stays                                    -0.025794     1.000000  "
      ]
     },
     "execution_count": 126,
     "metadata": {},
     "output_type": "execute_result"
    }
   ],
   "source": [
    "data_xy.corr()"
   ]
  },
  {
   "cell_type": "markdown",
   "metadata": {},
   "source": [
    "Vemos hay una correlación muy débil entre las variables."
   ]
  },
  {
   "cell_type": "markdown",
   "metadata": {},
   "source": [
    "Convertimos todas las variables a numéricas haciendo one-hot encoding"
   ]
  },
  {
   "cell_type": "code",
   "execution_count": 128,
   "metadata": {},
   "outputs": [
    {
     "data": {
      "text/html": [
       "<div>\n",
       "<style scoped>\n",
       "    .dataframe tbody tr th:only-of-type {\n",
       "        vertical-align: middle;\n",
       "    }\n",
       "\n",
       "    .dataframe tbody tr th {\n",
       "        vertical-align: top;\n",
       "    }\n",
       "\n",
       "    .dataframe thead th {\n",
       "        text-align: right;\n",
       "    }\n",
       "</style>\n",
       "<table border=\"1\" class=\"dataframe\">\n",
       "  <thead>\n",
       "    <tr style=\"text-align: right;\">\n",
       "      <th></th>\n",
       "      <th>variable</th>\n",
       "      <th>q_nan</th>\n",
       "      <th>p_nan</th>\n",
       "      <th>q_zeros</th>\n",
       "      <th>p_zeros</th>\n",
       "      <th>unique</th>\n",
       "      <th>type</th>\n",
       "    </tr>\n",
       "  </thead>\n",
       "  <tbody>\n",
       "    <tr>\n",
       "      <th>0</th>\n",
       "      <td>total_of_special_requests</td>\n",
       "      <td>0</td>\n",
       "      <td>0.0</td>\n",
       "      <td>70318</td>\n",
       "      <td>0.588977</td>\n",
       "      <td>6</td>\n",
       "      <td>int64</td>\n",
       "    </tr>\n",
       "    <tr>\n",
       "      <th>1</th>\n",
       "      <td>required_car_parking_spaces</td>\n",
       "      <td>0</td>\n",
       "      <td>0.0</td>\n",
       "      <td>111974</td>\n",
       "      <td>0.937884</td>\n",
       "      <td>5</td>\n",
       "      <td>int64</td>\n",
       "    </tr>\n",
       "    <tr>\n",
       "      <th>2</th>\n",
       "      <td>total_stays</td>\n",
       "      <td>0</td>\n",
       "      <td>0.0</td>\n",
       "      <td>715</td>\n",
       "      <td>0.005989</td>\n",
       "      <td>45</td>\n",
       "      <td>int64</td>\n",
       "    </tr>\n",
       "    <tr>\n",
       "      <th>3</th>\n",
       "      <td>deposit_type_Non Refund</td>\n",
       "      <td>0</td>\n",
       "      <td>0.0</td>\n",
       "      <td>104803</td>\n",
       "      <td>0.877821</td>\n",
       "      <td>2</td>\n",
       "      <td>uint8</td>\n",
       "    </tr>\n",
       "    <tr>\n",
       "      <th>4</th>\n",
       "      <td>deposit_type_Refundable</td>\n",
       "      <td>0</td>\n",
       "      <td>0.0</td>\n",
       "      <td>119228</td>\n",
       "      <td>0.998643</td>\n",
       "      <td>2</td>\n",
       "      <td>uint8</td>\n",
       "    </tr>\n",
       "    <tr>\n",
       "      <th>5</th>\n",
       "      <td>customer_type_Group</td>\n",
       "      <td>0</td>\n",
       "      <td>0.0</td>\n",
       "      <td>118813</td>\n",
       "      <td>0.995167</td>\n",
       "      <td>2</td>\n",
       "      <td>uint8</td>\n",
       "    </tr>\n",
       "    <tr>\n",
       "      <th>6</th>\n",
       "      <td>customer_type_Transient</td>\n",
       "      <td>0</td>\n",
       "      <td>0.0</td>\n",
       "      <td>29777</td>\n",
       "      <td>0.249409</td>\n",
       "      <td>2</td>\n",
       "      <td>uint8</td>\n",
       "    </tr>\n",
       "    <tr>\n",
       "      <th>7</th>\n",
       "      <td>customer_type_Transient-Party</td>\n",
       "      <td>0</td>\n",
       "      <td>0.0</td>\n",
       "      <td>94266</td>\n",
       "      <td>0.789564</td>\n",
       "      <td>2</td>\n",
       "      <td>uint8</td>\n",
       "    </tr>\n",
       "    <tr>\n",
       "      <th>8</th>\n",
       "      <td>arrival_date_month_August</td>\n",
       "      <td>0</td>\n",
       "      <td>0.0</td>\n",
       "      <td>105513</td>\n",
       "      <td>0.883767</td>\n",
       "      <td>2</td>\n",
       "      <td>uint8</td>\n",
       "    </tr>\n",
       "    <tr>\n",
       "      <th>9</th>\n",
       "      <td>arrival_date_month_December</td>\n",
       "      <td>0</td>\n",
       "      <td>0.0</td>\n",
       "      <td>112610</td>\n",
       "      <td>0.943211</td>\n",
       "      <td>2</td>\n",
       "      <td>uint8</td>\n",
       "    </tr>\n",
       "    <tr>\n",
       "      <th>10</th>\n",
       "      <td>arrival_date_month_February</td>\n",
       "      <td>0</td>\n",
       "      <td>0.0</td>\n",
       "      <td>111322</td>\n",
       "      <td>0.932423</td>\n",
       "      <td>2</td>\n",
       "      <td>uint8</td>\n",
       "    </tr>\n",
       "    <tr>\n",
       "      <th>11</th>\n",
       "      <td>arrival_date_month_January</td>\n",
       "      <td>0</td>\n",
       "      <td>0.0</td>\n",
       "      <td>113461</td>\n",
       "      <td>0.950339</td>\n",
       "      <td>2</td>\n",
       "      <td>uint8</td>\n",
       "    </tr>\n",
       "    <tr>\n",
       "      <th>12</th>\n",
       "      <td>arrival_date_month_July</td>\n",
       "      <td>0</td>\n",
       "      <td>0.0</td>\n",
       "      <td>106729</td>\n",
       "      <td>0.893953</td>\n",
       "      <td>2</td>\n",
       "      <td>uint8</td>\n",
       "    </tr>\n",
       "    <tr>\n",
       "      <th>13</th>\n",
       "      <td>arrival_date_month_June</td>\n",
       "      <td>0</td>\n",
       "      <td>0.0</td>\n",
       "      <td>108451</td>\n",
       "      <td>0.908376</td>\n",
       "      <td>2</td>\n",
       "      <td>uint8</td>\n",
       "    </tr>\n",
       "    <tr>\n",
       "      <th>14</th>\n",
       "      <td>arrival_date_month_March</td>\n",
       "      <td>0</td>\n",
       "      <td>0.0</td>\n",
       "      <td>109596</td>\n",
       "      <td>0.917966</td>\n",
       "      <td>2</td>\n",
       "      <td>uint8</td>\n",
       "    </tr>\n",
       "    <tr>\n",
       "      <th>15</th>\n",
       "      <td>arrival_date_month_May</td>\n",
       "      <td>0</td>\n",
       "      <td>0.0</td>\n",
       "      <td>107599</td>\n",
       "      <td>0.901240</td>\n",
       "      <td>2</td>\n",
       "      <td>uint8</td>\n",
       "    </tr>\n",
       "    <tr>\n",
       "      <th>16</th>\n",
       "      <td>arrival_date_month_November</td>\n",
       "      <td>0</td>\n",
       "      <td>0.0</td>\n",
       "      <td>112596</td>\n",
       "      <td>0.943094</td>\n",
       "      <td>2</td>\n",
       "      <td>uint8</td>\n",
       "    </tr>\n",
       "    <tr>\n",
       "      <th>17</th>\n",
       "      <td>arrival_date_month_October</td>\n",
       "      <td>0</td>\n",
       "      <td>0.0</td>\n",
       "      <td>108230</td>\n",
       "      <td>0.906525</td>\n",
       "      <td>2</td>\n",
       "      <td>uint8</td>\n",
       "    </tr>\n",
       "    <tr>\n",
       "      <th>18</th>\n",
       "      <td>arrival_date_month_September</td>\n",
       "      <td>0</td>\n",
       "      <td>0.0</td>\n",
       "      <td>108882</td>\n",
       "      <td>0.911986</td>\n",
       "      <td>2</td>\n",
       "      <td>uint8</td>\n",
       "    </tr>\n",
       "    <tr>\n",
       "      <th>19</th>\n",
       "      <td>hotel_Resort Hotel</td>\n",
       "      <td>0</td>\n",
       "      <td>0.0</td>\n",
       "      <td>79330</td>\n",
       "      <td>0.664461</td>\n",
       "      <td>2</td>\n",
       "      <td>uint8</td>\n",
       "    </tr>\n",
       "    <tr>\n",
       "      <th>20</th>\n",
       "      <td>arrival_date_day_of_month_cat_(7.0, 13.0]</td>\n",
       "      <td>0</td>\n",
       "      <td>0.0</td>\n",
       "      <td>96367</td>\n",
       "      <td>0.807161</td>\n",
       "      <td>2</td>\n",
       "      <td>uint8</td>\n",
       "    </tr>\n",
       "    <tr>\n",
       "      <th>21</th>\n",
       "      <td>arrival_date_day_of_month_cat_(13.0, 19.0]</td>\n",
       "      <td>0</td>\n",
       "      <td>0.0</td>\n",
       "      <td>94837</td>\n",
       "      <td>0.794346</td>\n",
       "      <td>2</td>\n",
       "      <td>uint8</td>\n",
       "    </tr>\n",
       "    <tr>\n",
       "      <th>22</th>\n",
       "      <td>arrival_date_day_of_month_cat_(19.0, 25.0]</td>\n",
       "      <td>0</td>\n",
       "      <td>0.0</td>\n",
       "      <td>96226</td>\n",
       "      <td>0.805980</td>\n",
       "      <td>2</td>\n",
       "      <td>uint8</td>\n",
       "    </tr>\n",
       "    <tr>\n",
       "      <th>23</th>\n",
       "      <td>arrival_date_day_of_month_cat_(25.0, 31.0]</td>\n",
       "      <td>0</td>\n",
       "      <td>0.0</td>\n",
       "      <td>97854</td>\n",
       "      <td>0.819616</td>\n",
       "      <td>2</td>\n",
       "      <td>uint8</td>\n",
       "    </tr>\n",
       "  </tbody>\n",
       "</table>\n",
       "</div>"
      ],
      "text/plain": [
       "                                      variable  q_nan  p_nan  q_zeros  \\\n",
       "0                    total_of_special_requests      0    0.0    70318   \n",
       "1                  required_car_parking_spaces      0    0.0   111974   \n",
       "2                                  total_stays      0    0.0      715   \n",
       "3                      deposit_type_Non Refund      0    0.0   104803   \n",
       "4                      deposit_type_Refundable      0    0.0   119228   \n",
       "5                          customer_type_Group      0    0.0   118813   \n",
       "6                      customer_type_Transient      0    0.0    29777   \n",
       "7                customer_type_Transient-Party      0    0.0    94266   \n",
       "8                    arrival_date_month_August      0    0.0   105513   \n",
       "9                  arrival_date_month_December      0    0.0   112610   \n",
       "10                 arrival_date_month_February      0    0.0   111322   \n",
       "11                  arrival_date_month_January      0    0.0   113461   \n",
       "12                     arrival_date_month_July      0    0.0   106729   \n",
       "13                     arrival_date_month_June      0    0.0   108451   \n",
       "14                    arrival_date_month_March      0    0.0   109596   \n",
       "15                      arrival_date_month_May      0    0.0   107599   \n",
       "16                 arrival_date_month_November      0    0.0   112596   \n",
       "17                  arrival_date_month_October      0    0.0   108230   \n",
       "18                arrival_date_month_September      0    0.0   108882   \n",
       "19                          hotel_Resort Hotel      0    0.0    79330   \n",
       "20   arrival_date_day_of_month_cat_(7.0, 13.0]      0    0.0    96367   \n",
       "21  arrival_date_day_of_month_cat_(13.0, 19.0]      0    0.0    94837   \n",
       "22  arrival_date_day_of_month_cat_(19.0, 25.0]      0    0.0    96226   \n",
       "23  arrival_date_day_of_month_cat_(25.0, 31.0]      0    0.0    97854   \n",
       "\n",
       "     p_zeros  unique   type  \n",
       "0   0.588977       6  int64  \n",
       "1   0.937884       5  int64  \n",
       "2   0.005989      45  int64  \n",
       "3   0.877821       2  uint8  \n",
       "4   0.998643       2  uint8  \n",
       "5   0.995167       2  uint8  \n",
       "6   0.249409       2  uint8  \n",
       "7   0.789564       2  uint8  \n",
       "8   0.883767       2  uint8  \n",
       "9   0.943211       2  uint8  \n",
       "10  0.932423       2  uint8  \n",
       "11  0.950339       2  uint8  \n",
       "12  0.893953       2  uint8  \n",
       "13  0.908376       2  uint8  \n",
       "14  0.917966       2  uint8  \n",
       "15  0.901240       2  uint8  \n",
       "16  0.943094       2  uint8  \n",
       "17  0.906525       2  uint8  \n",
       "18  0.911986       2  uint8  \n",
       "19  0.664461       2  uint8  \n",
       "20  0.807161       2  uint8  \n",
       "21  0.794346       2  uint8  \n",
       "22  0.805980       2  uint8  \n",
       "23  0.819616       2  uint8  "
      ]
     },
     "execution_count": 128,
     "metadata": {},
     "output_type": "execute_result"
    }
   ],
   "source": [
    "data_xy_ohe = pd.get_dummies(data_xy, drop_first=True)\n",
    "status(data_xy_ohe)"
   ]
  },
  {
   "cell_type": "markdown",
   "metadata": {},
   "source": [
    "Obtenemos 24 variables numéricas sin redundancias"
   ]
  },
  {
   "cell_type": "markdown",
   "metadata": {},
   "source": [
    "Separamos los datos en TS y TR"
   ]
  },
  {
   "cell_type": "code",
   "execution_count": 141,
   "metadata": {},
   "outputs": [],
   "source": [
    "data_x_ohe = data_xy_ohe.drop('total_stays', axis=1)\n",
    "data_y_ohe = data_xy_ohe['total_stays']"
   ]
  },
  {
   "cell_type": "code",
   "execution_count": 142,
   "metadata": {},
   "outputs": [],
   "source": [
    "x_tr, x_ts, y_tr, y_ts = train_test_split(data_x_ohe, data_y_ohe, test_size=0.2, random_state=0)"
   ]
  },
  {
   "cell_type": "markdown",
   "metadata": {},
   "source": [
    "Creamos un modelo de regresión lineal"
   ]
  },
  {
   "cell_type": "code",
   "execution_count": 143,
   "metadata": {},
   "outputs": [],
   "source": [
    "lr = LinearRegression()"
   ]
  },
  {
   "cell_type": "markdown",
   "metadata": {},
   "source": [
    "Entrenamos al modelo"
   ]
  },
  {
   "cell_type": "code",
   "execution_count": 144,
   "metadata": {},
   "outputs": [
    {
     "data": {
      "text/plain": [
       "LinearRegression()"
      ]
     },
     "execution_count": 144,
     "metadata": {},
     "output_type": "execute_result"
    }
   ],
   "source": [
    "lr.fit(x_tr, y_tr)"
   ]
  },
  {
   "cell_type": "markdown",
   "metadata": {},
   "source": [
    "Obtenemos las predicciones para TR y TS"
   ]
  },
  {
   "cell_type": "code",
   "execution_count": 134,
   "metadata": {},
   "outputs": [],
   "source": [
    "pred_tr = lr.predict(x_tr)\n",
    "pred_ts = lr.predict(x_ts)"
   ]
  },
  {
   "cell_type": "markdown",
   "metadata": {},
   "source": [
    "Para un modelo de regresión no podemos calcular el accuracy (solo tiene sentido calcularlo en los problemas de clasificación). En su lugar calculamos las métricas \"explained_variance_score\" y \"score\" (r2 score). Los valores van entre 0 y 1, siendo 1 el mejor caso."
   ]
  },
  {
   "cell_type": "code",
   "execution_count": 148,
   "metadata": {},
   "outputs": [
    {
     "data": {
      "text/plain": [
       "0.11376638784823978"
      ]
     },
     "execution_count": 148,
     "metadata": {},
     "output_type": "execute_result"
    }
   ],
   "source": [
    "explained_variance_score(y_ts, pred_ts)"
   ]
  },
  {
   "cell_type": "code",
   "execution_count": 149,
   "metadata": {},
   "outputs": [
    {
     "data": {
      "text/plain": [
       "0.11374892775603684"
      ]
     },
     "execution_count": 149,
     "metadata": {},
     "output_type": "execute_result"
    }
   ],
   "source": [
    "lr.score(x_ts,y_ts)"
   ]
  },
  {
   "cell_type": "markdown",
   "metadata": {},
   "source": [
    "Vemos que en ambos casos el score es muy bajo, del orden del 11%. Como este modelo no tiene parámetros no podemos optimizarlo."
   ]
  },
  {
   "cell_type": "markdown",
   "metadata": {},
   "source": [
    "Creamos ahora un modelo RandomForestRegressor"
   ]
  },
  {
   "cell_type": "code",
   "execution_count": 150,
   "metadata": {},
   "outputs": [],
   "source": [
    "rf = RandomForestRegressor()"
   ]
  },
  {
   "cell_type": "markdown",
   "metadata": {},
   "source": [
    "Para encontrar parámetros adecuados usaremos hyperparameter tuning con GridSearchCV. Para el parámetro \"n_estimator\" consideramos los valores 100, 200, 500, y 1000. Para \"max_features\" consideramos 2 y 3."
   ]
  },
  {
   "cell_type": "code",
   "execution_count": 152,
   "metadata": {},
   "outputs": [],
   "source": [
    "params = {\n",
    "    'n_estimators' : [100, 200, 500, 1000],\n",
    "    'max_features': [2,3]\n",
    "}\n",
    "\n",
    "grid_rf = GridSearchCV(estimator = rf,\n",
    "                        param_grid = params,\n",
    "                        scoring = 'neg_mean_absolute_error',  # \n",
    "                        cv = 5, \n",
    "                        verbose = 1,\n",
    "                        n_jobs = -1) "
   ]
  },
  {
   "cell_type": "markdown",
   "metadata": {},
   "source": [
    "Hacemos los ajustes para todos los modelos definidos en el paso anterior. Este proceso puede tardar unos minutos"
   ]
  },
  {
   "cell_type": "code",
   "execution_count": 153,
   "metadata": {},
   "outputs": [
    {
     "name": "stdout",
     "output_type": "stream",
     "text": [
      "Fitting 5 folds for each of 8 candidates, totalling 40 fits\n"
     ]
    },
    {
     "name": "stderr",
     "output_type": "stream",
     "text": [
      "[Parallel(n_jobs=-1)]: Using backend LokyBackend with 4 concurrent workers.\n",
      "[Parallel(n_jobs=-1)]: Done  40 out of  40 | elapsed:  8.6min finished\n"
     ]
    },
    {
     "data": {
      "text/plain": [
       "GridSearchCV(cv=5, estimator=RandomForestRegressor(), n_jobs=-1,\n",
       "             param_grid={'max_features': [2, 3],\n",
       "                         'n_estimators': [100, 200, 500, 1000]},\n",
       "             scoring='neg_mean_absolute_error', verbose=1)"
      ]
     },
     "execution_count": 153,
     "metadata": {},
     "output_type": "execute_result"
    }
   ],
   "source": [
    "grid_rf.fit(x_tr, y_tr)"
   ]
  },
  {
   "cell_type": "markdown",
   "metadata": {},
   "source": [
    "Imprimirmos la mejor combinación de parámetros"
   ]
  },
  {
   "cell_type": "code",
   "execution_count": 154,
   "metadata": {},
   "outputs": [
    {
     "data": {
      "text/plain": [
       "RandomForestRegressor(max_features=2)"
      ]
     },
     "execution_count": 154,
     "metadata": {},
     "output_type": "execute_result"
    }
   ],
   "source": [
    "grid_rf.best_estimator_"
   ]
  },
  {
   "cell_type": "markdown",
   "metadata": {},
   "source": [
    "Nos indica que el caso más óptimo corresponde a `max_features=2`. Usamos el menor número de n_estimators."
   ]
  },
  {
   "cell_type": "markdown",
   "metadata": {},
   "source": [
    "Ahora predecimos casos nuevos y de entrenamiento"
   ]
  },
  {
   "cell_type": "code",
   "execution_count": 158,
   "metadata": {},
   "outputs": [],
   "source": [
    "pred_tr = grid_rf.predict(x_tr)\n",
    "pred_ts = grid_rf.predict(x_ts)"
   ]
  },
  {
   "cell_type": "markdown",
   "metadata": {},
   "source": [
    "Analizamos las métricas de error"
   ]
  },
  {
   "cell_type": "code",
   "execution_count": 159,
   "metadata": {},
   "outputs": [
    {
     "data": {
      "text/html": [
       "<div>\n",
       "<style scoped>\n",
       "    .dataframe tbody tr th:only-of-type {\n",
       "        vertical-align: middle;\n",
       "    }\n",
       "\n",
       "    .dataframe tbody tr th {\n",
       "        vertical-align: top;\n",
       "    }\n",
       "\n",
       "    .dataframe thead th {\n",
       "        text-align: right;\n",
       "    }\n",
       "</style>\n",
       "<table border=\"1\" class=\"dataframe\">\n",
       "  <thead>\n",
       "    <tr style=\"text-align: right;\">\n",
       "      <th></th>\n",
       "      <th>mean_fit_time</th>\n",
       "      <th>std_fit_time</th>\n",
       "      <th>mean_score_time</th>\n",
       "      <th>std_score_time</th>\n",
       "      <th>param_max_features</th>\n",
       "      <th>param_n_estimators</th>\n",
       "      <th>params</th>\n",
       "      <th>split0_test_score</th>\n",
       "      <th>split1_test_score</th>\n",
       "      <th>split2_test_score</th>\n",
       "      <th>split3_test_score</th>\n",
       "      <th>split4_test_score</th>\n",
       "      <th>mean_test_score</th>\n",
       "      <th>std_test_score</th>\n",
       "      <th>rank_test_score</th>\n",
       "    </tr>\n",
       "  </thead>\n",
       "  <tbody>\n",
       "    <tr>\n",
       "      <th>0</th>\n",
       "      <td>9.821567</td>\n",
       "      <td>0.165244</td>\n",
       "      <td>0.428139</td>\n",
       "      <td>0.030359</td>\n",
       "      <td>2</td>\n",
       "      <td>100</td>\n",
       "      <td>{'max_features': 2, 'n_estimators': 100}</td>\n",
       "      <td>-1.519357</td>\n",
       "      <td>-1.535575</td>\n",
       "      <td>-1.526275</td>\n",
       "      <td>-1.501750</td>\n",
       "      <td>-1.517911</td>\n",
       "      <td>-1.520174</td>\n",
       "      <td>0.011132</td>\n",
       "      <td>1</td>\n",
       "    </tr>\n",
       "    <tr>\n",
       "      <th>1</th>\n",
       "      <td>19.716498</td>\n",
       "      <td>0.094186</td>\n",
       "      <td>0.848896</td>\n",
       "      <td>0.048027</td>\n",
       "      <td>2</td>\n",
       "      <td>200</td>\n",
       "      <td>{'max_features': 2, 'n_estimators': 200}</td>\n",
       "      <td>-1.519965</td>\n",
       "      <td>-1.535860</td>\n",
       "      <td>-1.526153</td>\n",
       "      <td>-1.501761</td>\n",
       "      <td>-1.517514</td>\n",
       "      <td>-1.520251</td>\n",
       "      <td>0.011207</td>\n",
       "      <td>4</td>\n",
       "    </tr>\n",
       "    <tr>\n",
       "      <th>2</th>\n",
       "      <td>51.448103</td>\n",
       "      <td>1.680089</td>\n",
       "      <td>2.674867</td>\n",
       "      <td>0.397245</td>\n",
       "      <td>2</td>\n",
       "      <td>500</td>\n",
       "      <td>{'max_features': 2, 'n_estimators': 500}</td>\n",
       "      <td>-1.519963</td>\n",
       "      <td>-1.535494</td>\n",
       "      <td>-1.526474</td>\n",
       "      <td>-1.501695</td>\n",
       "      <td>-1.518007</td>\n",
       "      <td>-1.520327</td>\n",
       "      <td>0.011140</td>\n",
       "      <td>8</td>\n",
       "    </tr>\n",
       "    <tr>\n",
       "      <th>3</th>\n",
       "      <td>107.251406</td>\n",
       "      <td>2.484647</td>\n",
       "      <td>5.453024</td>\n",
       "      <td>0.769008</td>\n",
       "      <td>2</td>\n",
       "      <td>1000</td>\n",
       "      <td>{'max_features': 2, 'n_estimators': 1000}</td>\n",
       "      <td>-1.519816</td>\n",
       "      <td>-1.535404</td>\n",
       "      <td>-1.526304</td>\n",
       "      <td>-1.502017</td>\n",
       "      <td>-1.517880</td>\n",
       "      <td>-1.520284</td>\n",
       "      <td>0.010996</td>\n",
       "      <td>6</td>\n",
       "    </tr>\n",
       "    <tr>\n",
       "      <th>4</th>\n",
       "      <td>11.817837</td>\n",
       "      <td>0.756276</td>\n",
       "      <td>0.574462</td>\n",
       "      <td>0.130136</td>\n",
       "      <td>3</td>\n",
       "      <td>100</td>\n",
       "      <td>{'max_features': 3, 'n_estimators': 100}</td>\n",
       "      <td>-1.520172</td>\n",
       "      <td>-1.534965</td>\n",
       "      <td>-1.526526</td>\n",
       "      <td>-1.501870</td>\n",
       "      <td>-1.517748</td>\n",
       "      <td>-1.520256</td>\n",
       "      <td>0.010955</td>\n",
       "      <td>5</td>\n",
       "    </tr>\n",
       "    <tr>\n",
       "      <th>5</th>\n",
       "      <td>21.507355</td>\n",
       "      <td>0.767551</td>\n",
       "      <td>0.895340</td>\n",
       "      <td>0.029897</td>\n",
       "      <td>3</td>\n",
       "      <td>200</td>\n",
       "      <td>{'max_features': 3, 'n_estimators': 200}</td>\n",
       "      <td>-1.519633</td>\n",
       "      <td>-1.535625</td>\n",
       "      <td>-1.526513</td>\n",
       "      <td>-1.501729</td>\n",
       "      <td>-1.517987</td>\n",
       "      <td>-1.520298</td>\n",
       "      <td>0.011173</td>\n",
       "      <td>7</td>\n",
       "    </tr>\n",
       "    <tr>\n",
       "      <th>6</th>\n",
       "      <td>54.836219</td>\n",
       "      <td>1.651053</td>\n",
       "      <td>2.260829</td>\n",
       "      <td>0.111713</td>\n",
       "      <td>3</td>\n",
       "      <td>500</td>\n",
       "      <td>{'max_features': 3, 'n_estimators': 500}</td>\n",
       "      <td>-1.519772</td>\n",
       "      <td>-1.535206</td>\n",
       "      <td>-1.525958</td>\n",
       "      <td>-1.501852</td>\n",
       "      <td>-1.518147</td>\n",
       "      <td>-1.520187</td>\n",
       "      <td>0.010949</td>\n",
       "      <td>2</td>\n",
       "    </tr>\n",
       "    <tr>\n",
       "      <th>7</th>\n",
       "      <td>98.718885</td>\n",
       "      <td>29.816307</td>\n",
       "      <td>3.481257</td>\n",
       "      <td>1.134294</td>\n",
       "      <td>3</td>\n",
       "      <td>1000</td>\n",
       "      <td>{'max_features': 3, 'n_estimators': 1000}</td>\n",
       "      <td>-1.520184</td>\n",
       "      <td>-1.535286</td>\n",
       "      <td>-1.526158</td>\n",
       "      <td>-1.501734</td>\n",
       "      <td>-1.517834</td>\n",
       "      <td>-1.520239</td>\n",
       "      <td>0.011042</td>\n",
       "      <td>3</td>\n",
       "    </tr>\n",
       "  </tbody>\n",
       "</table>\n",
       "</div>"
      ],
      "text/plain": [
       "   mean_fit_time  std_fit_time  mean_score_time  std_score_time  \\\n",
       "0       9.821567      0.165244         0.428139        0.030359   \n",
       "1      19.716498      0.094186         0.848896        0.048027   \n",
       "2      51.448103      1.680089         2.674867        0.397245   \n",
       "3     107.251406      2.484647         5.453024        0.769008   \n",
       "4      11.817837      0.756276         0.574462        0.130136   \n",
       "5      21.507355      0.767551         0.895340        0.029897   \n",
       "6      54.836219      1.651053         2.260829        0.111713   \n",
       "7      98.718885     29.816307         3.481257        1.134294   \n",
       "\n",
       "  param_max_features param_n_estimators  \\\n",
       "0                  2                100   \n",
       "1                  2                200   \n",
       "2                  2                500   \n",
       "3                  2               1000   \n",
       "4                  3                100   \n",
       "5                  3                200   \n",
       "6                  3                500   \n",
       "7                  3               1000   \n",
       "\n",
       "                                      params  split0_test_score  \\\n",
       "0   {'max_features': 2, 'n_estimators': 100}          -1.519357   \n",
       "1   {'max_features': 2, 'n_estimators': 200}          -1.519965   \n",
       "2   {'max_features': 2, 'n_estimators': 500}          -1.519963   \n",
       "3  {'max_features': 2, 'n_estimators': 1000}          -1.519816   \n",
       "4   {'max_features': 3, 'n_estimators': 100}          -1.520172   \n",
       "5   {'max_features': 3, 'n_estimators': 200}          -1.519633   \n",
       "6   {'max_features': 3, 'n_estimators': 500}          -1.519772   \n",
       "7  {'max_features': 3, 'n_estimators': 1000}          -1.520184   \n",
       "\n",
       "   split1_test_score  split2_test_score  split3_test_score  split4_test_score  \\\n",
       "0          -1.535575          -1.526275          -1.501750          -1.517911   \n",
       "1          -1.535860          -1.526153          -1.501761          -1.517514   \n",
       "2          -1.535494          -1.526474          -1.501695          -1.518007   \n",
       "3          -1.535404          -1.526304          -1.502017          -1.517880   \n",
       "4          -1.534965          -1.526526          -1.501870          -1.517748   \n",
       "5          -1.535625          -1.526513          -1.501729          -1.517987   \n",
       "6          -1.535206          -1.525958          -1.501852          -1.518147   \n",
       "7          -1.535286          -1.526158          -1.501734          -1.517834   \n",
       "\n",
       "   mean_test_score  std_test_score  rank_test_score  \n",
       "0        -1.520174        0.011132                1  \n",
       "1        -1.520251        0.011207                4  \n",
       "2        -1.520327        0.011140                8  \n",
       "3        -1.520284        0.010996                6  \n",
       "4        -1.520256        0.010955                5  \n",
       "5        -1.520298        0.011173                7  \n",
       "6        -1.520187        0.010949                2  \n",
       "7        -1.520239        0.011042                3  "
      ]
     },
     "execution_count": 159,
     "metadata": {},
     "output_type": "execute_result"
    }
   ],
   "source": [
    "pd.DataFrame(grid_rf.cv_results_)"
   ]
  },
  {
   "cell_type": "code",
   "execution_count": 160,
   "metadata": {},
   "outputs": [
    {
     "data": {
      "text/html": [
       "<div>\n",
       "<style scoped>\n",
       "    .dataframe tbody tr th:only-of-type {\n",
       "        vertical-align: middle;\n",
       "    }\n",
       "\n",
       "    .dataframe tbody tr th {\n",
       "        vertical-align: top;\n",
       "    }\n",
       "\n",
       "    .dataframe thead th {\n",
       "        text-align: right;\n",
       "    }\n",
       "</style>\n",
       "<table border=\"1\" class=\"dataframe\">\n",
       "  <thead>\n",
       "    <tr style=\"text-align: right;\">\n",
       "      <th></th>\n",
       "      <th>max_features</th>\n",
       "      <th>n_estimators</th>\n",
       "      <th>neg_mean_absolute_error</th>\n",
       "    </tr>\n",
       "  </thead>\n",
       "  <tbody>\n",
       "    <tr>\n",
       "      <th>0</th>\n",
       "      <td>2</td>\n",
       "      <td>100</td>\n",
       "      <td>-1.520174</td>\n",
       "    </tr>\n",
       "    <tr>\n",
       "      <th>6</th>\n",
       "      <td>3</td>\n",
       "      <td>500</td>\n",
       "      <td>-1.520187</td>\n",
       "    </tr>\n",
       "    <tr>\n",
       "      <th>7</th>\n",
       "      <td>3</td>\n",
       "      <td>1000</td>\n",
       "      <td>-1.520239</td>\n",
       "    </tr>\n",
       "    <tr>\n",
       "      <th>1</th>\n",
       "      <td>2</td>\n",
       "      <td>200</td>\n",
       "      <td>-1.520251</td>\n",
       "    </tr>\n",
       "    <tr>\n",
       "      <th>4</th>\n",
       "      <td>3</td>\n",
       "      <td>100</td>\n",
       "      <td>-1.520256</td>\n",
       "    </tr>\n",
       "    <tr>\n",
       "      <th>3</th>\n",
       "      <td>2</td>\n",
       "      <td>1000</td>\n",
       "      <td>-1.520284</td>\n",
       "    </tr>\n",
       "    <tr>\n",
       "      <th>5</th>\n",
       "      <td>3</td>\n",
       "      <td>200</td>\n",
       "      <td>-1.520298</td>\n",
       "    </tr>\n",
       "    <tr>\n",
       "      <th>2</th>\n",
       "      <td>2</td>\n",
       "      <td>500</td>\n",
       "      <td>-1.520327</td>\n",
       "    </tr>\n",
       "  </tbody>\n",
       "</table>\n",
       "</div>"
      ],
      "text/plain": [
       "   max_features  n_estimators  neg_mean_absolute_error\n",
       "0             2           100                -1.520174\n",
       "6             3           500                -1.520187\n",
       "7             3          1000                -1.520239\n",
       "1             2           200                -1.520251\n",
       "4             3           100                -1.520256\n",
       "3             2          1000                -1.520284\n",
       "5             3           200                -1.520298\n",
       "2             2           500                -1.520327"
      ]
     },
     "execution_count": 160,
     "metadata": {},
     "output_type": "execute_result"
    }
   ],
   "source": [
    "pd.concat([pd.DataFrame(grid_rf.cv_results_[\"params\"]),\n",
    "           pd.DataFrame(grid_rf.cv_results_[\"mean_test_score\"], \n",
    "                        columns=[\"neg_mean_absolute_error\"])],axis=1).sort_values('neg_mean_absolute_error', ascending=False)"
   ]
  },
  {
   "cell_type": "markdown",
   "metadata": {},
   "source": [
    "Vemos que en general los valores son muy similares, nos quedamos entonces con el caso que requiere menos tiempo computacional."
   ]
  },
  {
   "cell_type": "markdown",
   "metadata": {},
   "source": [
    "Analizamos la métrica calculada (neg_mean_absolute_error) para casos TR y TS"
   ]
  },
  {
   "cell_type": "code",
   "execution_count": 161,
   "metadata": {},
   "outputs": [],
   "source": [
    "nmae_tr = grid_rf.score(x_tr, y_tr)\n",
    "nmae_ts = grid_rf.score(x_ts, y_ts)"
   ]
  },
  {
   "cell_type": "code",
   "execution_count": 163,
   "metadata": {},
   "outputs": [
    {
     "name": "stdout",
     "output_type": "stream",
     "text": [
      "NMAE para los datos TR = -1.476\n",
      "NMAE para los datos TS = -1.509\n"
     ]
    }
   ],
   "source": [
    "print(f\"NMAE para los datos TR = {nmae_tr:0.3f}\")\n",
    "print(f\"NMAE para los datos TS = {nmae_ts:0.3f}\")"
   ]
  },
  {
   "cell_type": "markdown",
   "metadata": {},
   "source": [
    "Estos valores son ligeramente mayores a lo que se obtiene usando cross validation (cv)."
   ]
  },
  {
   "cell_type": "markdown",
   "metadata": {},
   "source": [
    "El NMAE es el opuesto del MAE. El error negativo es particularmente útil para encontrar el mejor algoritmo en comparaciones múltiples con GridSearchCV(). Esto se debe a que esta función ordenar como mejor estimador al algoritmo con mayor valor para su función error. Así, el que tiene mayor NMAE será el menos negativo, y será también el MAE más bajo."
   ]
  },
  {
   "cell_type": "markdown",
   "metadata": {},
   "source": [
    "Construimos un RandomForestRegressor con los parámetros calculados"
   ]
  },
  {
   "cell_type": "code",
   "execution_count": 171,
   "metadata": {},
   "outputs": [],
   "source": [
    "rf.max_features = 2\n",
    "rf.n_estimators = 100"
   ]
  },
  {
   "cell_type": "code",
   "execution_count": 172,
   "metadata": {},
   "outputs": [
    {
     "data": {
      "text/plain": [
       "RandomForestRegressor(max_features=2)"
      ]
     },
     "execution_count": 172,
     "metadata": {},
     "output_type": "execute_result"
    }
   ],
   "source": [
    "rf.fit(x_tr, y_tr)"
   ]
  },
  {
   "cell_type": "markdown",
   "metadata": {},
   "source": [
    "Calculamos las predicciones"
   ]
  },
  {
   "cell_type": "code",
   "execution_count": 178,
   "metadata": {},
   "outputs": [],
   "source": [
    "pred_tr = rf.predict(x_tr)\n",
    "pred_ts = rf.predict(x_ts)"
   ]
  },
  {
   "cell_type": "markdown",
   "metadata": {},
   "source": [
    "Calculamos el score r2"
   ]
  },
  {
   "cell_type": "code",
   "execution_count": 175,
   "metadata": {},
   "outputs": [
    {
     "data": {
      "text/plain": [
       "0.2265948552460718"
      ]
     },
     "execution_count": 175,
     "metadata": {},
     "output_type": "execute_result"
    }
   ],
   "source": [
    "rf.score(x_tr, y_tr)"
   ]
  },
  {
   "cell_type": "code",
   "execution_count": 174,
   "metadata": {},
   "outputs": [
    {
     "data": {
      "text/plain": [
       "0.17975326293060712"
      ]
     },
     "execution_count": 174,
     "metadata": {},
     "output_type": "execute_result"
    }
   ],
   "source": [
    "rf.score(x_ts, y_ts)"
   ]
  },
  {
   "cell_type": "markdown",
   "metadata": {},
   "source": [
    "Calculamos el score r"
   ]
  },
  {
   "cell_type": "code",
   "execution_count": 176,
   "metadata": {},
   "outputs": [
    {
     "data": {
      "text/plain": [
       "0.1797541604842674"
      ]
     },
     "execution_count": 176,
     "metadata": {},
     "output_type": "execute_result"
    }
   ],
   "source": [
    "explained_variance_score(y_ts, pred_ts)"
   ]
  },
  {
   "cell_type": "code",
   "execution_count": 177,
   "metadata": {},
   "outputs": [
    {
     "data": {
      "text/plain": [
       "0.22659489341764794"
      ]
     },
     "execution_count": 177,
     "metadata": {},
     "output_type": "execute_result"
    }
   ],
   "source": [
    "explained_variance_score(y_tr, pred_tr)"
   ]
  },
  {
   "cell_type": "markdown",
   "metadata": {},
   "source": [
    "Vemos que se ha mejorado la precisión respecto a lo obtenido con regresión lineal, pero sigue siendo un modelo con baja precisión."
   ]
  },
  {
   "cell_type": "markdown",
   "metadata": {},
   "source": [
    "Agregamos los parámetros: min_samples_leaf=20, min_samples_split=40. "
   ]
  },
  {
   "cell_type": "code",
   "execution_count": 204,
   "metadata": {},
   "outputs": [],
   "source": [
    "rf = RandomForestRegressor(n_estimators=100, \n",
    "                           max_features=2, \n",
    "                           min_samples_leaf=20, \n",
    "                           min_samples_split=40)\n",
    "rf.fit(x_tr, y_tr)\n",
    "pred_tr = rf.predict(x_tr)\n",
    "pred_ts = rf.predict(x_ts)"
   ]
  },
  {
   "cell_type": "code",
   "execution_count": 205,
   "metadata": {},
   "outputs": [
    {
     "data": {
      "text/plain": [
       "0.16289679388722078"
      ]
     },
     "execution_count": 205,
     "metadata": {},
     "output_type": "execute_result"
    }
   ],
   "source": [
    "rf.score(x_tr, y_tr)"
   ]
  },
  {
   "cell_type": "code",
   "execution_count": 206,
   "metadata": {},
   "outputs": [
    {
     "data": {
      "text/plain": [
       "0.1601525249295096"
      ]
     },
     "execution_count": 206,
     "metadata": {},
     "output_type": "execute_result"
    }
   ],
   "source": [
    "rf.score(x_ts, y_ts)"
   ]
  },
  {
   "cell_type": "markdown",
   "metadata": {},
   "source": [
    "Vemos que hay un mejor acuerdo entre el score para TR y TS, por lo que el modelo es más estable"
   ]
  },
  {
   "cell_type": "markdown",
   "metadata": {},
   "source": [
    "3) Modificamos el parámetro max_depth"
   ]
  },
  {
   "cell_type": "code",
   "execution_count": 233,
   "metadata": {},
   "outputs": [
    {
     "name": "stdout",
     "output_type": "stream",
     "text": [
      "0.1626693076709692\n",
      "0.16001001995956488\n"
     ]
    }
   ],
   "source": [
    "rf = RandomForestRegressor(n_estimators=100, \n",
    "                           max_features=2, \n",
    "                           max_depth=100,\n",
    "                           min_samples_leaf=20, \n",
    "                           min_samples_split=40,\n",
    "                           random_state=0)\n",
    "rf.fit(x_tr, y_tr)\n",
    "pred_tr = rf.predict(x_tr)\n",
    "pred_ts = rf.predict(x_ts)\n",
    "print(rf.score(x_tr, y_tr))\n",
    "print(rf.score(x_ts, y_ts))"
   ]
  },
  {
   "cell_type": "markdown",
   "metadata": {},
   "source": [
    "Obtenemos un modelo ligeramente mejor. Sin embargo sigue sin dar buena precisión. Esto puede corregirse tratando adecuadamente los outliers."
   ]
  },
  {
   "cell_type": "markdown",
   "metadata": {},
   "source": [
    "4) El parámetro min_samples_leaf indica el número mínimo de muestras en un nodo terminal (o nodo externo), mientras que min_samples_split indica el número mínimo de muestras que deben haber para que un nodo interno se divida en dos. Si min_samples_leaf > min_samples_split, por más que un nodo interno pueda dividirse, no lo hará pues las muestras en sus nodos hijos deberán ser mayores que en el mismo, lo cual no puede ocurrir."
   ]
  }
 ],
 "metadata": {
  "kernelspec": {
   "display_name": "Python 3 (ipykernel)",
   "language": "python",
   "name": "python3"
  },
  "language_info": {
   "codemirror_mode": {
    "name": "ipython",
    "version": 3
   },
   "file_extension": ".py",
   "mimetype": "text/x-python",
   "name": "python",
   "nbconvert_exporter": "python",
   "pygments_lexer": "ipython3",
   "version": "3.8.10"
  }
 },
 "nbformat": 4,
 "nbformat_minor": 4
}
